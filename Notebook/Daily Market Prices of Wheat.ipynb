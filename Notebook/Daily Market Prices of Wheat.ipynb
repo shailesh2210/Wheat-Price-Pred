{
 "cells": [
  {
   "cell_type": "markdown",
   "id": "df2461bc",
   "metadata": {},
   "source": [
    "## Project Goal: Predictive Modeling for Wheat Market Prices\n",
    "\n",
    "The primary goal of this machine learning project is to develop a robust predictive model for the daily market prices of wheat, focusing on variety-wise trends across different states. Leveraging the Variety-wise Daily Market Prices Data of Wheat obtained from the AGMARKNET Portal, the project aims to accomplish the following objectives:"
   ]
  },
  {
   "cell_type": "markdown",
   "id": "a4a70f39",
   "metadata": {},
   "source": [
    "### Project Workflow :\n",
    "    - Data Collection\n",
    "    - Exploratory Data Analysis (EDA)\n",
    "    - Data Cleaning and Preprocessing\n",
    "    - Feature Engineering\n",
    "    - Model Building\n",
    "    - Model Evaluation\n",
    "    - Deployment"
   ]
  },
  {
   "cell_type": "markdown",
   "id": "20238631",
   "metadata": {},
   "source": [
    "### Dataset Description:\n",
    "   - state  : Categorical variable representing the Indian states where wheat prices are recorded.\n",
    "   - district : Categorical variable indicating the specific districts within each state.\n",
    "   - market : Categorical variable specifying the markets or trading centers where wheat prices are observed.\n",
    "   - commodity : Categorical variable indicating the type of commodity, which, in this case, is wheat.\n",
    "   - variety : Categorical variable representing the different varieties of wheat available in the market.\n",
    "   - arrival_date : Temporal variable indicating the date on which the wheat arrived in the market.\n",
    "   - min_price : Numeric variable representing the minimum wholesale price of the respective wheat variety on a given day.\n",
    "   - max_price : Numeric variable representing the maximum wholesale price of the respective wheat variety on a given day.\n",
    "   - modal_price : Numeric variable representing the average wholesale price of the respective wheat variety on a given day.\n",
    "   - update_date : Temporal variable indicating the date when the market price data was last updated.\n",
    "   \n",
    "Dataset link : https://data.gov.in/catalog/variety-wise-daily-market-prices-data-wheat"
   ]
  },
  {
   "cell_type": "code",
   "execution_count": 664,
   "id": "8f9e683d",
   "metadata": {},
   "outputs": [],
   "source": [
    "import pandas as pd\n",
    "import numpy as np\n",
    "import seaborn as sns\n",
    "import matplotlib.pyplot as plt\n",
    "from sklearn.preprocessing import LabelEncoder\n",
    "from sklearn.preprocessing import StandardScaler\n",
    "from sklearn.model_selection import train_test_split\n",
    "from sklearn.linear_model import LinearRegression\n",
    "from sklearn.tree import DecisionTreeRegressor\n",
    "from sklearn.ensemble import RandomForestRegressor\n",
    "from sklearn.model_selection import RandomizedSearchCV\n",
    "from sklearn.model_selection import GridSearchCV\n",
    "from sklearn.metrics import accuracy_score\n",
    "from warnings import filterwarnings\n",
    "filterwarnings(\"ignore\")"
   ]
  },
  {
   "cell_type": "code",
   "execution_count": 665,
   "id": "ecd7abac",
   "metadata": {},
   "outputs": [],
   "source": [
    "df = pd.read_csv(\"Wheat_2024.csv\")"
   ]
  },
  {
   "cell_type": "code",
   "execution_count": 666,
   "id": "0bca8d22",
   "metadata": {},
   "outputs": [
    {
     "data": {
      "text/html": [
       "<div>\n",
       "<style scoped>\n",
       "    .dataframe tbody tr th:only-of-type {\n",
       "        vertical-align: middle;\n",
       "    }\n",
       "\n",
       "    .dataframe tbody tr th {\n",
       "        vertical-align: top;\n",
       "    }\n",
       "\n",
       "    .dataframe thead th {\n",
       "        text-align: right;\n",
       "    }\n",
       "</style>\n",
       "<table border=\"1\" class=\"dataframe\">\n",
       "  <thead>\n",
       "    <tr style=\"text-align: right;\">\n",
       "      <th></th>\n",
       "      <th>state</th>\n",
       "      <th>district</th>\n",
       "      <th>market</th>\n",
       "      <th>commodity</th>\n",
       "      <th>variety</th>\n",
       "      <th>arrival_date</th>\n",
       "      <th>min_price</th>\n",
       "      <th>max_price</th>\n",
       "      <th>modal_price</th>\n",
       "      <th>update_date</th>\n",
       "    </tr>\n",
       "  </thead>\n",
       "  <tbody>\n",
       "    <tr>\n",
       "      <th>0</th>\n",
       "      <td>Bihar</td>\n",
       "      <td>Muzaffarpur</td>\n",
       "      <td>Muzaffarpur</td>\n",
       "      <td>Wheat</td>\n",
       "      <td>147 Average</td>\n",
       "      <td>01/01/2024</td>\n",
       "      <td>2500</td>\n",
       "      <td>2590</td>\n",
       "      <td>2550.0</td>\n",
       "      <td>2024-01-02</td>\n",
       "    </tr>\n",
       "    <tr>\n",
       "      <th>1</th>\n",
       "      <td>Gujarat</td>\n",
       "      <td>Amreli</td>\n",
       "      <td>Bagasara</td>\n",
       "      <td>Wheat</td>\n",
       "      <td>Lokwan Gujrat</td>\n",
       "      <td>02/01/2024</td>\n",
       "      <td>2370</td>\n",
       "      <td>2700</td>\n",
       "      <td>2535.0</td>\n",
       "      <td>2024-01-02</td>\n",
       "    </tr>\n",
       "    <tr>\n",
       "      <th>2</th>\n",
       "      <td>Gujarat</td>\n",
       "      <td>Anand</td>\n",
       "      <td>Khambhat(Grain Market)</td>\n",
       "      <td>Wheat</td>\n",
       "      <td>Other</td>\n",
       "      <td>02/01/2024</td>\n",
       "      <td>2000</td>\n",
       "      <td>2550</td>\n",
       "      <td>2250.0</td>\n",
       "      <td>2024-01-02</td>\n",
       "    </tr>\n",
       "    <tr>\n",
       "      <th>3</th>\n",
       "      <td>Gujarat</td>\n",
       "      <td>Banaskanth</td>\n",
       "      <td>Deesa</td>\n",
       "      <td>Wheat</td>\n",
       "      <td>Other</td>\n",
       "      <td>02/01/2024</td>\n",
       "      <td>2415</td>\n",
       "      <td>2590</td>\n",
       "      <td>2500.0</td>\n",
       "      <td>2024-01-02</td>\n",
       "    </tr>\n",
       "    <tr>\n",
       "      <th>4</th>\n",
       "      <td>Gujarat</td>\n",
       "      <td>Banaskanth</td>\n",
       "      <td>Dhanera</td>\n",
       "      <td>Wheat</td>\n",
       "      <td>Other</td>\n",
       "      <td>01/01/2024</td>\n",
       "      <td>2715</td>\n",
       "      <td>2715</td>\n",
       "      <td>2715.0</td>\n",
       "      <td>2024-01-02</td>\n",
       "    </tr>\n",
       "  </tbody>\n",
       "</table>\n",
       "</div>"
      ],
      "text/plain": [
       "     state     district                  market commodity        variety  \\\n",
       "0    Bihar  Muzaffarpur             Muzaffarpur     Wheat    147 Average   \n",
       "1  Gujarat       Amreli                Bagasara     Wheat  Lokwan Gujrat   \n",
       "2  Gujarat        Anand  Khambhat(Grain Market)     Wheat          Other   \n",
       "3  Gujarat   Banaskanth                   Deesa     Wheat          Other   \n",
       "4  Gujarat   Banaskanth                 Dhanera     Wheat          Other   \n",
       "\n",
       "  arrival_date  min_price  max_price  modal_price update_date  \n",
       "0   01/01/2024       2500       2590       2550.0  2024-01-02  \n",
       "1   02/01/2024       2370       2700       2535.0  2024-01-02  \n",
       "2   02/01/2024       2000       2550       2250.0  2024-01-02  \n",
       "3   02/01/2024       2415       2590       2500.0  2024-01-02  \n",
       "4   01/01/2024       2715       2715       2715.0  2024-01-02  "
      ]
     },
     "execution_count": 666,
     "metadata": {},
     "output_type": "execute_result"
    }
   ],
   "source": [
    "df.head()"
   ]
  },
  {
   "cell_type": "markdown",
   "id": "efee40fb",
   "metadata": {},
   "source": [
    "- from the above execution we can see top 5 rows"
   ]
  },
  {
   "cell_type": "code",
   "execution_count": 667,
   "id": "1b236b02",
   "metadata": {},
   "outputs": [
    {
     "data": {
      "text/plain": [
       "(384, 10)"
      ]
     },
     "execution_count": 667,
     "metadata": {},
     "output_type": "execute_result"
    }
   ],
   "source": [
    "df.shape"
   ]
  },
  {
   "cell_type": "markdown",
   "id": "391ee8a0",
   "metadata": {},
   "source": [
    "we can clearly see that our data is small \n",
    "- 384 rows and 10 columns"
   ]
  },
  {
   "cell_type": "code",
   "execution_count": 668,
   "id": "757629e4",
   "metadata": {},
   "outputs": [
    {
     "data": {
      "text/html": [
       "<div>\n",
       "<style scoped>\n",
       "    .dataframe tbody tr th:only-of-type {\n",
       "        vertical-align: middle;\n",
       "    }\n",
       "\n",
       "    .dataframe tbody tr th {\n",
       "        vertical-align: top;\n",
       "    }\n",
       "\n",
       "    .dataframe thead th {\n",
       "        text-align: right;\n",
       "    }\n",
       "</style>\n",
       "<table border=\"1\" class=\"dataframe\">\n",
       "  <thead>\n",
       "    <tr style=\"text-align: right;\">\n",
       "      <th></th>\n",
       "      <th>state</th>\n",
       "      <th>district</th>\n",
       "      <th>market</th>\n",
       "      <th>commodity</th>\n",
       "      <th>variety</th>\n",
       "      <th>arrival_date</th>\n",
       "      <th>min_price</th>\n",
       "      <th>max_price</th>\n",
       "      <th>modal_price</th>\n",
       "      <th>update_date</th>\n",
       "    </tr>\n",
       "  </thead>\n",
       "  <tbody>\n",
       "    <tr>\n",
       "      <th>79</th>\n",
       "      <td>Madhya Pradesh</td>\n",
       "      <td>Rajgarh</td>\n",
       "      <td>Narsinghgarh</td>\n",
       "      <td>Wheat</td>\n",
       "      <td>Mill Quality</td>\n",
       "      <td>01/01/2024</td>\n",
       "      <td>2370</td>\n",
       "      <td>2690</td>\n",
       "      <td>2440.0</td>\n",
       "      <td>2024-01-02</td>\n",
       "    </tr>\n",
       "    <tr>\n",
       "      <th>90</th>\n",
       "      <td>Madhya Pradesh</td>\n",
       "      <td>Sehore</td>\n",
       "      <td>Sehore</td>\n",
       "      <td>Wheat</td>\n",
       "      <td>Mill Quality</td>\n",
       "      <td>01/01/2024</td>\n",
       "      <td>2478</td>\n",
       "      <td>2594</td>\n",
       "      <td>2478.0</td>\n",
       "      <td>2024-01-02</td>\n",
       "    </tr>\n",
       "    <tr>\n",
       "      <th>186</th>\n",
       "      <td>Rajasthan</td>\n",
       "      <td>Bhilwara</td>\n",
       "      <td>Bhilwara</td>\n",
       "      <td>Wheat</td>\n",
       "      <td>Other</td>\n",
       "      <td>01/01/2024</td>\n",
       "      <td>2400</td>\n",
       "      <td>2400</td>\n",
       "      <td>2400.0</td>\n",
       "      <td>2024-01-02</td>\n",
       "    </tr>\n",
       "    <tr>\n",
       "      <th>295</th>\n",
       "      <td>Uttar Pradesh</td>\n",
       "      <td>Jaunpur</td>\n",
       "      <td>Jaunpur</td>\n",
       "      <td>Wheat</td>\n",
       "      <td>Dara</td>\n",
       "      <td>02/01/2024</td>\n",
       "      <td>2500</td>\n",
       "      <td>2550</td>\n",
       "      <td>2525.0</td>\n",
       "      <td>2024-01-02</td>\n",
       "    </tr>\n",
       "    <tr>\n",
       "      <th>331</th>\n",
       "      <td>Uttar Pradesh</td>\n",
       "      <td>Mirzapur</td>\n",
       "      <td>Ahirora</td>\n",
       "      <td>Wheat</td>\n",
       "      <td>Dara</td>\n",
       "      <td>02/01/2024</td>\n",
       "      <td>2450</td>\n",
       "      <td>2600</td>\n",
       "      <td>2520.0</td>\n",
       "      <td>2024-01-02</td>\n",
       "    </tr>\n",
       "    <tr>\n",
       "      <th>316</th>\n",
       "      <td>Uttar Pradesh</td>\n",
       "      <td>Lakhimpur</td>\n",
       "      <td>Lakhimpur</td>\n",
       "      <td>Wheat</td>\n",
       "      <td>Dara</td>\n",
       "      <td>01/01/2024</td>\n",
       "      <td>2450</td>\n",
       "      <td>2510</td>\n",
       "      <td>2470.0</td>\n",
       "      <td>2024-01-02</td>\n",
       "    </tr>\n",
       "    <tr>\n",
       "      <th>211</th>\n",
       "      <td>Uttar Pradesh</td>\n",
       "      <td>Auraiya</td>\n",
       "      <td>Achalda</td>\n",
       "      <td>Wheat</td>\n",
       "      <td>Dara</td>\n",
       "      <td>01/01/2024</td>\n",
       "      <td>2400</td>\n",
       "      <td>2500</td>\n",
       "      <td>2480.0</td>\n",
       "      <td>2024-01-02</td>\n",
       "    </tr>\n",
       "    <tr>\n",
       "      <th>196</th>\n",
       "      <td>Rajasthan</td>\n",
       "      <td>Tonk</td>\n",
       "      <td>Niwai</td>\n",
       "      <td>Wheat</td>\n",
       "      <td>Other</td>\n",
       "      <td>01/01/2024</td>\n",
       "      <td>2314</td>\n",
       "      <td>2314</td>\n",
       "      <td>2314.0</td>\n",
       "      <td>2024-01-02</td>\n",
       "    </tr>\n",
       "    <tr>\n",
       "      <th>78</th>\n",
       "      <td>Madhya Pradesh</td>\n",
       "      <td>Rajgarh</td>\n",
       "      <td>Narsinghgarh</td>\n",
       "      <td>Wheat</td>\n",
       "      <td>Lokwan</td>\n",
       "      <td>01/01/2024</td>\n",
       "      <td>2485</td>\n",
       "      <td>2730</td>\n",
       "      <td>2440.0</td>\n",
       "      <td>2024-01-02</td>\n",
       "    </tr>\n",
       "    <tr>\n",
       "      <th>283</th>\n",
       "      <td>Uttar Pradesh</td>\n",
       "      <td>Hardoi</td>\n",
       "      <td>Sandila</td>\n",
       "      <td>Wheat</td>\n",
       "      <td>Dara</td>\n",
       "      <td>01/01/2024</td>\n",
       "      <td>2400</td>\n",
       "      <td>2500</td>\n",
       "      <td>2450.0</td>\n",
       "      <td>2024-01-02</td>\n",
       "    </tr>\n",
       "    <tr>\n",
       "      <th>34</th>\n",
       "      <td>Karnataka</td>\n",
       "      <td>Gadag</td>\n",
       "      <td>Laxmeshwar</td>\n",
       "      <td>Wheat</td>\n",
       "      <td>Red</td>\n",
       "      <td>01/01/2024</td>\n",
       "      <td>1850</td>\n",
       "      <td>1850</td>\n",
       "      <td>1850.0</td>\n",
       "      <td>2024-01-02</td>\n",
       "    </tr>\n",
       "    <tr>\n",
       "      <th>246</th>\n",
       "      <td>Uttar Pradesh</td>\n",
       "      <td>Etawah</td>\n",
       "      <td>Bharthna</td>\n",
       "      <td>Wheat</td>\n",
       "      <td>Dara</td>\n",
       "      <td>01/01/2024</td>\n",
       "      <td>2400</td>\n",
       "      <td>2500</td>\n",
       "      <td>2450.0</td>\n",
       "      <td>2024-01-02</td>\n",
       "    </tr>\n",
       "    <tr>\n",
       "      <th>303</th>\n",
       "      <td>Uttar Pradesh</td>\n",
       "      <td>Kannuj</td>\n",
       "      <td>Chhibramau(Kannuj)</td>\n",
       "      <td>Wheat</td>\n",
       "      <td>Dara</td>\n",
       "      <td>01/01/2024</td>\n",
       "      <td>2150</td>\n",
       "      <td>2400</td>\n",
       "      <td>2300.0</td>\n",
       "      <td>2024-01-02</td>\n",
       "    </tr>\n",
       "    <tr>\n",
       "      <th>221</th>\n",
       "      <td>Uttar Pradesh</td>\n",
       "      <td>Badaun</td>\n",
       "      <td>Wazirganj</td>\n",
       "      <td>Wheat</td>\n",
       "      <td>Dara</td>\n",
       "      <td>02/01/2024</td>\n",
       "      <td>2460</td>\n",
       "      <td>2560</td>\n",
       "      <td>2510.0</td>\n",
       "      <td>2024-01-02</td>\n",
       "    </tr>\n",
       "    <tr>\n",
       "      <th>218</th>\n",
       "      <td>Uttar Pradesh</td>\n",
       "      <td>Badaun</td>\n",
       "      <td>Badayoun</td>\n",
       "      <td>Wheat</td>\n",
       "      <td>Dara</td>\n",
       "      <td>02/01/2024</td>\n",
       "      <td>2450</td>\n",
       "      <td>2560</td>\n",
       "      <td>2500.0</td>\n",
       "      <td>2024-01-02</td>\n",
       "    </tr>\n",
       "    <tr>\n",
       "      <th>304</th>\n",
       "      <td>Uttar Pradesh</td>\n",
       "      <td>Kannuj</td>\n",
       "      <td>Kannauj</td>\n",
       "      <td>Wheat</td>\n",
       "      <td>Dara</td>\n",
       "      <td>01/01/2024</td>\n",
       "      <td>2400</td>\n",
       "      <td>2500</td>\n",
       "      <td>2450.0</td>\n",
       "      <td>2024-01-02</td>\n",
       "    </tr>\n",
       "    <tr>\n",
       "      <th>195</th>\n",
       "      <td>Rajasthan</td>\n",
       "      <td>Swai Madhopur</td>\n",
       "      <td>Gangapur City</td>\n",
       "      <td>Wheat</td>\n",
       "      <td>Other</td>\n",
       "      <td>01/01/2024</td>\n",
       "      <td>2341</td>\n",
       "      <td>2425</td>\n",
       "      <td>2383.0</td>\n",
       "      <td>2024-01-02</td>\n",
       "    </tr>\n",
       "    <tr>\n",
       "      <th>116</th>\n",
       "      <td>Maharashtra</td>\n",
       "      <td>Beed</td>\n",
       "      <td>Kada</td>\n",
       "      <td>Wheat</td>\n",
       "      <td>Maharashtra 2189</td>\n",
       "      <td>01/01/2024</td>\n",
       "      <td>2800</td>\n",
       "      <td>3000</td>\n",
       "      <td>2900.0</td>\n",
       "      <td>2024-01-02</td>\n",
       "    </tr>\n",
       "    <tr>\n",
       "      <th>320</th>\n",
       "      <td>Uttar Pradesh</td>\n",
       "      <td>Lucknow</td>\n",
       "      <td>Lucknow</td>\n",
       "      <td>Wheat</td>\n",
       "      <td>Dara</td>\n",
       "      <td>01/01/2024</td>\n",
       "      <td>2520</td>\n",
       "      <td>2580</td>\n",
       "      <td>2550.0</td>\n",
       "      <td>2024-01-02</td>\n",
       "    </tr>\n",
       "    <tr>\n",
       "      <th>183</th>\n",
       "      <td>Rajasthan</td>\n",
       "      <td>Baran</td>\n",
       "      <td>Atru(Kawai Salpura)</td>\n",
       "      <td>Wheat</td>\n",
       "      <td>Other</td>\n",
       "      <td>01/01/2024</td>\n",
       "      <td>2450</td>\n",
       "      <td>2588</td>\n",
       "      <td>2519.0</td>\n",
       "      <td>2024-01-02</td>\n",
       "    </tr>\n",
       "  </tbody>\n",
       "</table>\n",
       "</div>"
      ],
      "text/plain": [
       "              state       district               market commodity  \\\n",
       "79   Madhya Pradesh        Rajgarh         Narsinghgarh     Wheat   \n",
       "90   Madhya Pradesh         Sehore               Sehore     Wheat   \n",
       "186       Rajasthan       Bhilwara             Bhilwara     Wheat   \n",
       "295   Uttar Pradesh        Jaunpur              Jaunpur     Wheat   \n",
       "331   Uttar Pradesh       Mirzapur              Ahirora     Wheat   \n",
       "316   Uttar Pradesh      Lakhimpur            Lakhimpur     Wheat   \n",
       "211   Uttar Pradesh        Auraiya              Achalda     Wheat   \n",
       "196       Rajasthan           Tonk                Niwai     Wheat   \n",
       "78   Madhya Pradesh        Rajgarh         Narsinghgarh     Wheat   \n",
       "283   Uttar Pradesh         Hardoi              Sandila     Wheat   \n",
       "34        Karnataka          Gadag           Laxmeshwar     Wheat   \n",
       "246   Uttar Pradesh         Etawah             Bharthna     Wheat   \n",
       "303   Uttar Pradesh         Kannuj   Chhibramau(Kannuj)     Wheat   \n",
       "221   Uttar Pradesh         Badaun            Wazirganj     Wheat   \n",
       "218   Uttar Pradesh         Badaun             Badayoun     Wheat   \n",
       "304   Uttar Pradesh         Kannuj              Kannauj     Wheat   \n",
       "195       Rajasthan  Swai Madhopur        Gangapur City     Wheat   \n",
       "116     Maharashtra           Beed                 Kada     Wheat   \n",
       "320   Uttar Pradesh        Lucknow              Lucknow     Wheat   \n",
       "183       Rajasthan          Baran  Atru(Kawai Salpura)     Wheat   \n",
       "\n",
       "              variety arrival_date  min_price  max_price  modal_price  \\\n",
       "79       Mill Quality   01/01/2024       2370       2690       2440.0   \n",
       "90       Mill Quality   01/01/2024       2478       2594       2478.0   \n",
       "186             Other   01/01/2024       2400       2400       2400.0   \n",
       "295              Dara   02/01/2024       2500       2550       2525.0   \n",
       "331              Dara   02/01/2024       2450       2600       2520.0   \n",
       "316              Dara   01/01/2024       2450       2510       2470.0   \n",
       "211              Dara   01/01/2024       2400       2500       2480.0   \n",
       "196             Other   01/01/2024       2314       2314       2314.0   \n",
       "78             Lokwan   01/01/2024       2485       2730       2440.0   \n",
       "283              Dara   01/01/2024       2400       2500       2450.0   \n",
       "34                Red   01/01/2024       1850       1850       1850.0   \n",
       "246              Dara   01/01/2024       2400       2500       2450.0   \n",
       "303              Dara   01/01/2024       2150       2400       2300.0   \n",
       "221              Dara   02/01/2024       2460       2560       2510.0   \n",
       "218              Dara   02/01/2024       2450       2560       2500.0   \n",
       "304              Dara   01/01/2024       2400       2500       2450.0   \n",
       "195             Other   01/01/2024       2341       2425       2383.0   \n",
       "116  Maharashtra 2189   01/01/2024       2800       3000       2900.0   \n",
       "320              Dara   01/01/2024       2520       2580       2550.0   \n",
       "183             Other   01/01/2024       2450       2588       2519.0   \n",
       "\n",
       "    update_date  \n",
       "79   2024-01-02  \n",
       "90   2024-01-02  \n",
       "186  2024-01-02  \n",
       "295  2024-01-02  \n",
       "331  2024-01-02  \n",
       "316  2024-01-02  \n",
       "211  2024-01-02  \n",
       "196  2024-01-02  \n",
       "78   2024-01-02  \n",
       "283  2024-01-02  \n",
       "34   2024-01-02  \n",
       "246  2024-01-02  \n",
       "303  2024-01-02  \n",
       "221  2024-01-02  \n",
       "218  2024-01-02  \n",
       "304  2024-01-02  \n",
       "195  2024-01-02  \n",
       "116  2024-01-02  \n",
       "320  2024-01-02  \n",
       "183  2024-01-02  "
      ]
     },
     "execution_count": 668,
     "metadata": {},
     "output_type": "execute_result"
    }
   ],
   "source": [
    "df.sample(20)"
   ]
  },
  {
   "cell_type": "markdown",
   "id": "9e5bb1e1",
   "metadata": {},
   "source": [
    "- randomly see the 20 rows of the dataset"
   ]
  },
  {
   "cell_type": "code",
   "execution_count": 669,
   "id": "c622d427",
   "metadata": {},
   "outputs": [
    {
     "data": {
      "text/plain": [
       "Index(['state', 'district', 'market', 'commodity', 'variety', 'arrival_date',\n",
       "       'min_price', 'max_price', 'modal_price', 'update_date'],\n",
       "      dtype='object')"
      ]
     },
     "execution_count": 669,
     "metadata": {},
     "output_type": "execute_result"
    }
   ],
   "source": [
    "df.columns"
   ]
  },
  {
   "cell_type": "code",
   "execution_count": 670,
   "id": "c616e21e",
   "metadata": {},
   "outputs": [
    {
     "name": "stdout",
     "output_type": "stream",
     "text": [
      "<class 'pandas.core.frame.DataFrame'>\n",
      "RangeIndex: 384 entries, 0 to 383\n",
      "Data columns (total 10 columns):\n",
      " #   Column        Non-Null Count  Dtype  \n",
      "---  ------        --------------  -----  \n",
      " 0   state         384 non-null    object \n",
      " 1   district      384 non-null    object \n",
      " 2   market        384 non-null    object \n",
      " 3   commodity     384 non-null    object \n",
      " 4   variety       384 non-null    object \n",
      " 5   arrival_date  384 non-null    object \n",
      " 6   min_price     384 non-null    int64  \n",
      " 7   max_price     384 non-null    int64  \n",
      " 8   modal_price   384 non-null    float64\n",
      " 9   update_date   384 non-null    object \n",
      "dtypes: float64(1), int64(2), object(7)\n",
      "memory usage: 30.1+ KB\n"
     ]
    }
   ],
   "source": [
    "df.info()"
   ]
  },
  {
   "cell_type": "markdown",
   "id": "f23947f9",
   "metadata": {},
   "source": [
    "- from the above observation we see that there are 7 object data types and 2 int and 1 float object"
   ]
  },
  {
   "cell_type": "code",
   "execution_count": 671,
   "id": "0df2cd8d",
   "metadata": {},
   "outputs": [
    {
     "data": {
      "text/html": [
       "<div>\n",
       "<style scoped>\n",
       "    .dataframe tbody tr th:only-of-type {\n",
       "        vertical-align: middle;\n",
       "    }\n",
       "\n",
       "    .dataframe tbody tr th {\n",
       "        vertical-align: top;\n",
       "    }\n",
       "\n",
       "    .dataframe thead th {\n",
       "        text-align: right;\n",
       "    }\n",
       "</style>\n",
       "<table border=\"1\" class=\"dataframe\">\n",
       "  <thead>\n",
       "    <tr style=\"text-align: right;\">\n",
       "      <th></th>\n",
       "      <th>min_price</th>\n",
       "      <th>max_price</th>\n",
       "      <th>modal_price</th>\n",
       "    </tr>\n",
       "  </thead>\n",
       "  <tbody>\n",
       "    <tr>\n",
       "      <th>count</th>\n",
       "      <td>384.000000</td>\n",
       "      <td>384.000000</td>\n",
       "      <td>384.000000</td>\n",
       "    </tr>\n",
       "    <tr>\n",
       "      <th>mean</th>\n",
       "      <td>2432.846354</td>\n",
       "      <td>2630.643229</td>\n",
       "      <td>2503.615885</td>\n",
       "    </tr>\n",
       "    <tr>\n",
       "      <th>std</th>\n",
       "      <td>252.679851</td>\n",
       "      <td>327.752207</td>\n",
       "      <td>235.955906</td>\n",
       "    </tr>\n",
       "    <tr>\n",
       "      <th>min</th>\n",
       "      <td>1750.000000</td>\n",
       "      <td>1850.000000</td>\n",
       "      <td>1800.000000</td>\n",
       "    </tr>\n",
       "    <tr>\n",
       "      <th>25%</th>\n",
       "      <td>2348.750000</td>\n",
       "      <td>2460.000000</td>\n",
       "      <td>2409.500000</td>\n",
       "    </tr>\n",
       "    <tr>\n",
       "      <th>50%</th>\n",
       "      <td>2410.000000</td>\n",
       "      <td>2550.000000</td>\n",
       "      <td>2478.000000</td>\n",
       "    </tr>\n",
       "    <tr>\n",
       "      <th>75%</th>\n",
       "      <td>2485.000000</td>\n",
       "      <td>2652.500000</td>\n",
       "      <td>2530.000000</td>\n",
       "    </tr>\n",
       "    <tr>\n",
       "      <th>max</th>\n",
       "      <td>4701.000000</td>\n",
       "      <td>4701.000000</td>\n",
       "      <td>4100.000000</td>\n",
       "    </tr>\n",
       "  </tbody>\n",
       "</table>\n",
       "</div>"
      ],
      "text/plain": [
       "         min_price    max_price  modal_price\n",
       "count   384.000000   384.000000   384.000000\n",
       "mean   2432.846354  2630.643229  2503.615885\n",
       "std     252.679851   327.752207   235.955906\n",
       "min    1750.000000  1850.000000  1800.000000\n",
       "25%    2348.750000  2460.000000  2409.500000\n",
       "50%    2410.000000  2550.000000  2478.000000\n",
       "75%    2485.000000  2652.500000  2530.000000\n",
       "max    4701.000000  4701.000000  4100.000000"
      ]
     },
     "execution_count": 671,
     "metadata": {},
     "output_type": "execute_result"
    }
   ],
   "source": [
    "# collecting some statstical summary from our data\n",
    "df.describe()"
   ]
  },
  {
   "cell_type": "code",
   "execution_count": 672,
   "id": "63d0507e",
   "metadata": {},
   "outputs": [
    {
     "data": {
      "text/plain": [
       "state           0\n",
       "district        0\n",
       "market          0\n",
       "commodity       0\n",
       "variety         0\n",
       "arrival_date    0\n",
       "min_price       0\n",
       "max_price       0\n",
       "modal_price     0\n",
       "update_date     0\n",
       "dtype: int64"
      ]
     },
     "execution_count": 672,
     "metadata": {},
     "output_type": "execute_result"
    }
   ],
   "source": [
    "df.isnull().sum()"
   ]
  },
  {
   "cell_type": "code",
   "execution_count": 673,
   "id": "b9531b7b",
   "metadata": {},
   "outputs": [
    {
     "data": {
      "text/plain": [
       "state           False\n",
       "district        False\n",
       "market          False\n",
       "commodity       False\n",
       "variety         False\n",
       "arrival_date    False\n",
       "min_price       False\n",
       "max_price       False\n",
       "modal_price     False\n",
       "update_date     False\n",
       "dtype: bool"
      ]
     },
     "execution_count": 673,
     "metadata": {},
     "output_type": "execute_result"
    }
   ],
   "source": [
    "missing_values = df.isin([\"?\", \"NaN\", \"Null\"])\n",
    "missing_values.any()"
   ]
  },
  {
   "cell_type": "markdown",
   "id": "0f633183",
   "metadata": {},
   "source": [
    "there are no missing values in our dataset"
   ]
  },
  {
   "cell_type": "code",
   "execution_count": 674,
   "id": "f0362cdd",
   "metadata": {},
   "outputs": [
    {
     "data": {
      "text/plain": [
       "0"
      ]
     },
     "execution_count": 674,
     "metadata": {},
     "output_type": "execute_result"
    }
   ],
   "source": [
    "# lets see any duplicates are present in our data\n",
    "df.duplicated().sum()"
   ]
  },
  {
   "cell_type": "markdown",
   "id": "3dca455b",
   "metadata": {},
   "source": [
    "there are no duplicates in our data"
   ]
  },
  {
   "cell_type": "markdown",
   "id": "b0e560d3",
   "metadata": {},
   "source": [
    "### We have done our basic understanding about the dataset"
   ]
  },
  {
   "cell_type": "markdown",
   "id": "2c57be0f",
   "metadata": {},
   "source": [
    "## Explotary Data Anlaysis"
   ]
  },
  {
   "cell_type": "code",
   "execution_count": 675,
   "id": "aeb4701d",
   "metadata": {},
   "outputs": [
    {
     "data": {
      "text/plain": [
       "Index(['state', 'district', 'market', 'commodity', 'variety', 'arrival_date',\n",
       "       'min_price', 'max_price', 'modal_price', 'update_date'],\n",
       "      dtype='object')"
      ]
     },
     "execution_count": 675,
     "metadata": {},
     "output_type": "execute_result"
    }
   ],
   "source": [
    "df.columns"
   ]
  },
  {
   "cell_type": "code",
   "execution_count": 676,
   "id": "1d17b6d9",
   "metadata": {},
   "outputs": [
    {
     "data": {
      "text/plain": [
       "array(['Bihar', 'Gujarat', 'Karnataka', 'Madhya Pradesh', 'Maharashtra',\n",
       "       'Rajasthan', 'Uttar Pradesh', 'West Bengal'], dtype=object)"
      ]
     },
     "execution_count": 676,
     "metadata": {},
     "output_type": "execute_result"
    }
   ],
   "source": [
    "df[\"state\"].unique()"
   ]
  },
  {
   "cell_type": "markdown",
   "id": "f2cf672e",
   "metadata": {},
   "source": [
    "we can see that there are total 8 unique states in our data"
   ]
  },
  {
   "cell_type": "code",
   "execution_count": 677,
   "id": "d78a7587",
   "metadata": {},
   "outputs": [
    {
     "data": {
      "text/plain": [
       "state\n",
       "Uttar Pradesh     182\n",
       "Maharashtra        74\n",
       "Madhya Pradesh     66\n",
       "Gujarat            27\n",
       "Rajasthan          21\n",
       "Karnataka           8\n",
       "West Bengal         5\n",
       "Bihar               1\n",
       "Name: count, dtype: int64"
      ]
     },
     "execution_count": 677,
     "metadata": {},
     "output_type": "execute_result"
    }
   ],
   "source": [
    "df[\"state\"].value_counts()"
   ]
  },
  {
   "cell_type": "markdown",
   "id": "e72f9334",
   "metadata": {},
   "source": [
    "- Uttar pradesh , maharashtra and madhya pradesh has the highest frequecy of distribution\n",
    "- West Bengal and bihar have the least number of frequecy in our data"
   ]
  },
  {
   "cell_type": "code",
   "execution_count": 678,
   "id": "901c5d99",
   "metadata": {},
   "outputs": [
    {
     "data": {
      "text/plain": [
       "Text(0.5, 1.0, 'Frequency distribution of State Column')"
      ]
     },
     "execution_count": 678,
     "metadata": {},
     "output_type": "execute_result"
    },
    {
     "data": {
      "image/png": "[encoded data removed]",
      "text/plain": [
       "<Figure size 1500x600 with 1 Axes>"
      ]
     },
     "metadata": {},
     "output_type": "display_data"
    }
   ],
   "source": [
    "# lets visulaize our state column \n",
    "plt.figure(figsize=(15 , 6))\n",
    "plt.style.use(\"fivethirtyeight\")\n",
    "sns.countplot(data = df , x= \"state\" , order = df[\"state\"].value_counts(ascending=False).index)\n",
    "plt.xlabel(\"States of India\")\n",
    "plt.ylabel(\"Count\")\n",
    "plt.title(\"Frequency distribution of State Column\")"
   ]
  },
  {
   "cell_type": "markdown",
   "id": "1b76c228",
   "metadata": {},
   "source": [
    "from the above observation we can clearly see that:\n",
    "- Uttar pradesh , maharashtra and madhya pradesh has the highest frequecy distribution\n",
    "- West Bengal and bihar have the least number of frequecy in our data"
   ]
  },
  {
   "cell_type": "code",
   "execution_count": 679,
   "id": "4b3eeb0d",
   "metadata": {},
   "outputs": [
    {
     "data": {
      "text/plain": [
       "array(['Muzaffarpur', 'Amreli', 'Anand', 'Banaskanth', 'Dahod',\n",
       "       'Gandhinagar', 'Jamnagar', 'Junagarh', 'Mehsana', 'Patan',\n",
       "       'Rajkot', 'Surendranagar', 'Bangalore', 'Bidar', 'Bijapur',\n",
       "       'Dharwad', 'Gadag', 'Shimoga', 'Ashoknagar', 'Betul', 'Bhopal',\n",
       "       'Chhatarpur', 'Datia', 'Dewas', 'Dhar', 'Guna', 'Harda',\n",
       "       'Hoshangabad', 'Indore', 'Katni', 'Khandwa', 'Khargone',\n",
       "       'Mandsaur', 'Narsinghpur', 'Panna', 'Rajgarh', 'Ratlam', 'Rewa',\n",
       "       'Sagar', 'Satna', 'Sehore', 'Shivpuri', 'Tikamgarh', 'Vidisha',\n",
       "       'Ahmednagar', 'Akola', 'Amarawati', 'Aurangabad', 'Beed',\n",
       "       'Buldhana', 'Dhule', 'Hingoli', 'Jalana', 'Jalgaon', 'Latur',\n",
       "       'Nagpur', 'Nanded', 'Nandurbar', 'Nashik', 'Parbhani', 'Pune',\n",
       "       'Sangli', 'Sholapur', 'Thane', 'Vashim', 'Wardha', 'Yavatmal',\n",
       "       'Ajmer', 'Alwar', 'Baran', 'Bharatpur', 'Bhilwara', 'Dausa',\n",
       "       'Ganganagar', 'Jhalawar', 'Kota', 'Swai Madhopur', 'Tonk', 'Agra',\n",
       "       'Aligarh', 'Allahabad', 'Ambedkarnagar', 'Auraiya', 'Azamgarh',\n",
       "       'Badaun', 'Bahraich', 'Ballia', 'Balrampur', 'Banda', 'Barabanki',\n",
       "       'Bareilly', 'Bijnor', 'Bulandshahar', 'Chandauli', 'Chitrakut',\n",
       "       'Deoria', 'Etah', 'Etawah', 'Faizabad', 'Farukhabad', 'Fatehpur',\n",
       "       'Firozabad', 'Gautam Budh Nagar', 'Ghaziabad', 'Ghazipur', 'Gonda',\n",
       "       'Gorakhpur', 'Hamirpur', 'Hardoi', 'Hathras', 'Jalaun (Orai)',\n",
       "       'Jaunpur', 'Jhansi', 'Jyotiba Phule Nagar', 'Kannuj', 'Kanpur',\n",
       "       'Khiri (Lakhimpur)', 'Lakhimpur', 'Lalitpur', 'Lucknow',\n",
       "       'Maharajganj', 'Mahoba', 'Mainpuri', 'Mathura', 'Meerut',\n",
       "       'Mirzapur', 'Muradabad', 'Muzaffarnagar', 'Padrauna(Kusinagar)',\n",
       "       'Pillibhit', 'Pratapgarh', 'Raebarelli', 'Rampur', 'Saharanpur',\n",
       "       'Shahjahanpur', 'Siddharth Nagar', 'Sitapur', 'Sonbhadra',\n",
       "       'Sultanpur', 'Unnao', 'Bankura', 'Birbhum'], dtype=object)"
      ]
     },
     "execution_count": 679,
     "metadata": {},
     "output_type": "execute_result"
    }
   ],
   "source": [
    "df[\"district\"].unique()"
   ]
  },
  {
   "cell_type": "markdown",
   "id": "f4a3ac95",
   "metadata": {},
   "source": [
    "there are so many unique district in our data\n",
    "so we'll now check the top value counts of district"
   ]
  },
  {
   "cell_type": "code",
   "execution_count": 680,
   "id": "f5c2732c",
   "metadata": {},
   "outputs": [],
   "source": [
    "top_10_district = df[\"district\"].value_counts().head(10)"
   ]
  },
  {
   "cell_type": "code",
   "execution_count": 681,
   "id": "3a5e93da",
   "metadata": {},
   "outputs": [
    {
     "data": {
      "text/plain": [
       "district\n",
       "Nashik           10\n",
       "Hardoi            9\n",
       "Banaskanth        8\n",
       "Harda             8\n",
       "Sehore            7\n",
       "Kanpur            7\n",
       "Sitapur           6\n",
       "Ahmednagar        6\n",
       "Raebarelli        6\n",
       "Jalaun (Orai)     6\n",
       "Name: count, dtype: int64"
      ]
     },
     "execution_count": 681,
     "metadata": {},
     "output_type": "execute_result"
    }
   ],
   "source": [
    "top_10_district"
   ]
  },
  {
   "cell_type": "code",
   "execution_count": 682,
   "id": "bf2760b2",
   "metadata": {},
   "outputs": [
    {
     "data": {
      "text/plain": [
       "<Axes: ylabel='district'>"
      ]
     },
     "execution_count": 682,
     "metadata": {},
     "output_type": "execute_result"
    },
    {
     "data": {
      "image/png": "[encoded data removed]",
      "text/plain": [
       "<Figure size 1000x600 with 1 Axes>"
      ]
     },
     "metadata": {},
     "output_type": "display_data"
    }
   ],
   "source": [
    "plt.figure(figsize=(10 , 6))\n",
    "plt.style.use(\"fivethirtyeight\")\n",
    "df[\"district\"].value_counts(ascending=False).head(10).plot(kind=\"barh\")"
   ]
  },
  {
   "cell_type": "code",
   "execution_count": 683,
   "id": "fbda04e0",
   "metadata": {},
   "outputs": [
    {
     "data": {
      "text/plain": [
       "array(['Muzaffarpur', 'Bagasara', 'Khambhat(Grain Market)', 'Deesa',\n",
       "       'Dhanera', 'Palanpur', 'Thara', 'Vadgam', 'Dahod', 'Dehgam',\n",
       "       'Dhrol', 'Visavadar', 'Kadi', 'Siddhpur', 'Dhoraji', 'Rajkot',\n",
       "       'Dhragradhra', 'Halvad', 'Bangalore', 'Basava Kalayana', 'Bidar',\n",
       "       'Bijapur', 'Hubli (Amaragol)', 'Laxmeshwar', 'Shimoga',\n",
       "       'Ashoknagar', 'Betul', 'Berasia', 'Badamalhera', 'Datia', 'Dewas',\n",
       "       'Badnawar', 'Dhar', 'Manawar', 'Rajgarh', 'Kumbhraj', 'Harda',\n",
       "       'Khirakiya', 'Sirali', 'Timarni', 'Babai', 'Hoshangabad',\n",
       "       'Pipariya', 'Semriharchand', 'Indore', 'Katni', 'Harsood',\n",
       "       'Khandwa', 'Kasrawad', 'Mandsaur', 'Narsinghpur', 'Ajaygarh',\n",
       "       'Jeerapur', 'Kurawar', 'Narsinghgarh', 'Pachaur', 'Ratlam',\n",
       "       'Sailana', 'Baikunthpur', 'Bina', 'Khurai', 'Nagod', 'Satna',\n",
       "       'Sehore', 'Shyampur', 'Karera', 'Khaniadhana', 'Tikamgarh',\n",
       "       'Ganjbasoda', 'Sironj', 'Vidisha', 'Jamkhed', 'Kopargaon',\n",
       "       'Rahata', 'Sangamner', 'Shevgaon', 'Shevgaon(Bodhegaon)', 'Akola',\n",
       "       'Amarawati', 'Morshi', 'Varud', 'Aurangabad', 'Lasur Station',\n",
       "       'Gevrai', 'Kada', 'Kille Dharur', 'Majalgaon', 'Chikali',\n",
       "       'Deoulgaon Raja', 'Khamgaon', 'Nandura', 'Dhule', 'Dondaicha',\n",
       "       'Hingoli', 'Ambad (Vadigodri)', 'Bhokardan(Pimpalgaon Renu)',\n",
       "       'Jalana', 'Partur', 'Amalner', 'Jalgaon', 'Pachora',\n",
       "       'Aurad Shahajani', 'Katol', 'Nagpur', 'Loha', 'Nanded', 'Navapur',\n",
       "       'Devala', 'Lasalgaon', 'Lasalgaon(Niphad)', 'Lasalgaon(Vinchur)',\n",
       "       'Malegaon', 'Manmad', 'Nandgaon', 'Satana', 'Sinner', 'Yeola',\n",
       "       'Gangakhed', 'Pathari', 'Sonpeth', 'Baramati', 'Sangli', 'Barshi',\n",
       "       'Barshi(Vairag)', 'Karmala', 'Kurdwadi(Modnimb)', 'Mangal Wedha',\n",
       "       'Solapur', 'Kalyan', 'Palghar', 'Ulhasnagar', 'Karanja',\n",
       "       'Mangrulpeer', 'Washim(Ansing)', 'Sindi(Selu)', 'Yeotmal',\n",
       "       'Madanganj Kishanganj', 'Vijay Nagar(Gulabpura)', 'Alwar',\n",
       "       'Khedh(Bodaramev)', 'Khedli(laxmangarh)', 'Kherli', 'Atru',\n",
       "       'Atru(Kawai Salpura)', 'Bharatpur', 'Nadwai', 'Bhilwara',\n",
       "       'Bandikui', 'Lalsot(Mandabari)', 'Mahuwa Mandawar',\n",
       "       'Sriganganagar', 'Khanpur', 'Kota', 'Ramaganj Mandi',\n",
       "       'Gangapur City', 'Niwai', 'Achnera', 'Agra', 'Aligarh', 'Charra',\n",
       "       'Khair', 'Ajuha', 'Allahabad', 'Akbarpur', 'Achalda', 'Auraiya',\n",
       "       'Azamgarh', 'Badayoun', 'Ujhani', 'Wazirganj', 'Bahraich',\n",
       "       'Naanpara', 'Ballia', 'Rasda', 'Tulsipur', 'Atarra', 'Baberu',\n",
       "       'Banda', 'Barabanki', 'Safdarganj', 'Bareilly', 'Bijnaur',\n",
       "       'Jahangirabad', 'Khurja', 'Siyana', 'Chandoli', 'Karvi', 'Barhaj',\n",
       "       'Devariya', 'Aliganj', 'Etah', 'Bharthna', 'Etawah', 'Faizabad',\n",
       "       'Farukhabad', 'Kayamganj', 'Mohamadabad', 'Bindki', 'Fatehpur',\n",
       "       'Khaga', 'Firozabad', 'Tundla', 'Dadri', 'Dankaur', 'Ghaziabad',\n",
       "       'Hapur', 'Gazipur', 'Gonda', 'Gorakhpur', 'Bharuasumerpur',\n",
       "       'Maudaha', 'Hardoi', 'Madhoganj', 'Sandi', 'Sandila',\n",
       "       'Shahabad(New Mandi)', 'Haathras', 'Ait', 'Konch', 'Madhogarh',\n",
       "       'Orai', 'Jaunpur', 'Mugrabaadshahpur', 'Shahganj', 'Gurusarai',\n",
       "       'Jhansi', 'Amroha', 'Dhanura', 'Chhibramau(Kannuj)', 'Kannauj',\n",
       "       'Choubepur', 'Jhijhank', 'Kanpur(Grain)', 'Uttaripura', 'Varipaal',\n",
       "       'Mohammdi', 'Golagokarnath', 'Lakhimpur', 'Lalitpur', 'Banthara',\n",
       "       'Lucknow', 'Anandnagar', 'Mahoba', 'Ghiraur', 'Mainpuri',\n",
       "       'Mathura', 'Meerut', 'Ahirora', 'Mirzapur', 'Chandausi',\n",
       "       'Muradabad', 'Muzzafarnagar', 'Shamli', 'Tamkuhi Road', 'Pilibhit',\n",
       "       'Puranpur', 'Vishalpur', 'Pratapgarh', 'Jayas', 'Lalganj',\n",
       "       'Raibareilly', 'Salon', 'Rampur', 'Saharanpur', 'Puwaha',\n",
       "       'Shahjahanpur', 'Naugarh', 'Sahiyapur', 'Mehmoodabad', 'Sitapur',\n",
       "       'Viswan', 'Robertsganj', 'Jafarganj', 'Sultanpur', 'Bangarmau',\n",
       "       'Unnao', 'Bishnupur(Bankura)', 'Khatra', 'Rampurhat'], dtype=object)"
      ]
     },
     "execution_count": 683,
     "metadata": {},
     "output_type": "execute_result"
    }
   ],
   "source": [
    "df[\"market\"].unique()"
   ]
  },
  {
   "cell_type": "markdown",
   "id": "d07e09ef",
   "metadata": {},
   "source": [
    "so here we also have a same problem so we will take top 10 markets area "
   ]
  },
  {
   "cell_type": "code",
   "execution_count": 684,
   "id": "ca8c3942",
   "metadata": {},
   "outputs": [
    {
     "data": {
      "text/plain": [
       "market\n",
       "Sehore              6\n",
       "Rajkot              4\n",
       "Harda               4\n",
       "Mandsaur            3\n",
       "Rampurhat           2\n",
       "                   ..\n",
       "Nandgaon            1\n",
       "Satana              1\n",
       "Sinner              1\n",
       "Yeola               1\n",
       "Khedh(Bodaramev)    1\n",
       "Name: count, Length: 279, dtype: int64"
      ]
     },
     "execution_count": 684,
     "metadata": {},
     "output_type": "execute_result"
    }
   ],
   "source": [
    "df[\"market\"].value_counts()"
   ]
  },
  {
   "cell_type": "code",
   "execution_count": 685,
   "id": "57aefab5",
   "metadata": {},
   "outputs": [],
   "source": [
    "top_10_market = df[\"market\"].value_counts().head(10)"
   ]
  },
  {
   "cell_type": "code",
   "execution_count": 686,
   "id": "2f0c4d24",
   "metadata": {},
   "outputs": [
    {
     "data": {
      "text/plain": [
       "market\n",
       "Sehore       6\n",
       "Rajkot       4\n",
       "Harda        4\n",
       "Mandsaur     3\n",
       "Rampurhat    2\n",
       "Dankaur      2\n",
       "Hapur        2\n",
       "Gazipur      2\n",
       "Gonda        2\n",
       "Hardoi       2\n",
       "Name: count, dtype: int64"
      ]
     },
     "execution_count": 686,
     "metadata": {},
     "output_type": "execute_result"
    }
   ],
   "source": [
    "top_10_market"
   ]
  },
  {
   "cell_type": "markdown",
   "id": "062b56b1",
   "metadata": {},
   "source": [
    "Sehore , Rajkot and Harda have the highest frequecy of distribution in our data       "
   ]
  },
  {
   "cell_type": "code",
   "execution_count": 687,
   "id": "8397feea",
   "metadata": {},
   "outputs": [
    {
     "data": {
      "text/plain": [
       "<Axes: ylabel='count'>"
      ]
     },
     "execution_count": 687,
     "metadata": {},
     "output_type": "execute_result"
    },
    {
     "data": {
      "image/png": "[encoded data removed]",
      "text/plain": [
       "<Figure size 1000x600 with 1 Axes>"
      ]
     },
     "metadata": {},
     "output_type": "display_data"
    }
   ],
   "source": [
    "plt.figure(figsize=(10 , 6))\n",
    "plt.style.use(\"fivethirtyeight\")\n",
    "explode = [0,0.1]\n",
    "df[\"district\"].value_counts(ascending=False).head(10).plot(\n",
    "    kind=\"pie\", autopct='%1.1f%%', explode = [0.1,0.1,0.1, 0,0,0,0,0.00,0.0,0.0])"
   ]
  },
  {
   "cell_type": "code",
   "execution_count": 688,
   "id": "725c410d",
   "metadata": {},
   "outputs": [
    {
     "data": {
      "text/plain": [
       "array(['Wheat'], dtype=object)"
      ]
     },
     "execution_count": 688,
     "metadata": {},
     "output_type": "execute_result"
    }
   ],
   "source": [
    "df[\"commodity\"].unique()"
   ]
  },
  {
   "cell_type": "markdown",
   "id": "783ade07",
   "metadata": {},
   "source": [
    "we have only one unique category in the commodity column because we are working of the variety of wheat data set"
   ]
  },
  {
   "cell_type": "code",
   "execution_count": 689,
   "id": "75fc4fbb",
   "metadata": {},
   "outputs": [
    {
     "data": {
      "text/plain": [
       "commodity\n",
       "Wheat    384\n",
       "Name: count, dtype: int64"
      ]
     },
     "execution_count": 689,
     "metadata": {},
     "output_type": "execute_result"
    }
   ],
   "source": [
    "# lets check the value counts of the wheat\n",
    "df[\"commodity\"].value_counts()"
   ]
  },
  {
   "cell_type": "markdown",
   "id": "9850d9e1",
   "metadata": {},
   "source": [
    "so there are 384 total distribution , our data shape is also 384 to that means we have only wheat category and there are no missing values in this columns\n",
    "\n",
    "- so we dont need to visualize the commodity feature"
   ]
  },
  {
   "cell_type": "code",
   "execution_count": 690,
   "id": "0981d354",
   "metadata": {},
   "outputs": [
    {
     "data": {
      "text/html": [
       "<div>\n",
       "<style scoped>\n",
       "    .dataframe tbody tr th:only-of-type {\n",
       "        vertical-align: middle;\n",
       "    }\n",
       "\n",
       "    .dataframe tbody tr th {\n",
       "        vertical-align: top;\n",
       "    }\n",
       "\n",
       "    .dataframe thead th {\n",
       "        text-align: right;\n",
       "    }\n",
       "</style>\n",
       "<table border=\"1\" class=\"dataframe\">\n",
       "  <thead>\n",
       "    <tr style=\"text-align: right;\">\n",
       "      <th></th>\n",
       "      <th>state</th>\n",
       "      <th>district</th>\n",
       "      <th>market</th>\n",
       "      <th>commodity</th>\n",
       "      <th>variety</th>\n",
       "      <th>arrival_date</th>\n",
       "      <th>min_price</th>\n",
       "      <th>max_price</th>\n",
       "      <th>modal_price</th>\n",
       "      <th>update_date</th>\n",
       "    </tr>\n",
       "  </thead>\n",
       "  <tbody>\n",
       "    <tr>\n",
       "      <th>0</th>\n",
       "      <td>Bihar</td>\n",
       "      <td>Muzaffarpur</td>\n",
       "      <td>Muzaffarpur</td>\n",
       "      <td>Wheat</td>\n",
       "      <td>147 Average</td>\n",
       "      <td>01/01/2024</td>\n",
       "      <td>2500</td>\n",
       "      <td>2590</td>\n",
       "      <td>2550.0</td>\n",
       "      <td>2024-01-02</td>\n",
       "    </tr>\n",
       "    <tr>\n",
       "      <th>1</th>\n",
       "      <td>Gujarat</td>\n",
       "      <td>Amreli</td>\n",
       "      <td>Bagasara</td>\n",
       "      <td>Wheat</td>\n",
       "      <td>Lokwan Gujrat</td>\n",
       "      <td>02/01/2024</td>\n",
       "      <td>2370</td>\n",
       "      <td>2700</td>\n",
       "      <td>2535.0</td>\n",
       "      <td>2024-01-02</td>\n",
       "    </tr>\n",
       "    <tr>\n",
       "      <th>2</th>\n",
       "      <td>Gujarat</td>\n",
       "      <td>Anand</td>\n",
       "      <td>Khambhat(Grain Market)</td>\n",
       "      <td>Wheat</td>\n",
       "      <td>Other</td>\n",
       "      <td>02/01/2024</td>\n",
       "      <td>2000</td>\n",
       "      <td>2550</td>\n",
       "      <td>2250.0</td>\n",
       "      <td>2024-01-02</td>\n",
       "    </tr>\n",
       "    <tr>\n",
       "      <th>3</th>\n",
       "      <td>Gujarat</td>\n",
       "      <td>Banaskanth</td>\n",
       "      <td>Deesa</td>\n",
       "      <td>Wheat</td>\n",
       "      <td>Other</td>\n",
       "      <td>02/01/2024</td>\n",
       "      <td>2415</td>\n",
       "      <td>2590</td>\n",
       "      <td>2500.0</td>\n",
       "      <td>2024-01-02</td>\n",
       "    </tr>\n",
       "    <tr>\n",
       "      <th>4</th>\n",
       "      <td>Gujarat</td>\n",
       "      <td>Banaskanth</td>\n",
       "      <td>Dhanera</td>\n",
       "      <td>Wheat</td>\n",
       "      <td>Other</td>\n",
       "      <td>01/01/2024</td>\n",
       "      <td>2715</td>\n",
       "      <td>2715</td>\n",
       "      <td>2715.0</td>\n",
       "      <td>2024-01-02</td>\n",
       "    </tr>\n",
       "  </tbody>\n",
       "</table>\n",
       "</div>"
      ],
      "text/plain": [
       "     state     district                  market commodity        variety  \\\n",
       "0    Bihar  Muzaffarpur             Muzaffarpur     Wheat    147 Average   \n",
       "1  Gujarat       Amreli                Bagasara     Wheat  Lokwan Gujrat   \n",
       "2  Gujarat        Anand  Khambhat(Grain Market)     Wheat          Other   \n",
       "3  Gujarat   Banaskanth                   Deesa     Wheat          Other   \n",
       "4  Gujarat   Banaskanth                 Dhanera     Wheat          Other   \n",
       "\n",
       "  arrival_date  min_price  max_price  modal_price update_date  \n",
       "0   01/01/2024       2500       2590       2550.0  2024-01-02  \n",
       "1   02/01/2024       2370       2700       2535.0  2024-01-02  \n",
       "2   02/01/2024       2000       2550       2250.0  2024-01-02  \n",
       "3   02/01/2024       2415       2590       2500.0  2024-01-02  \n",
       "4   01/01/2024       2715       2715       2715.0  2024-01-02  "
      ]
     },
     "execution_count": 690,
     "metadata": {},
     "output_type": "execute_result"
    }
   ],
   "source": [
    "df.head()"
   ]
  },
  {
   "cell_type": "code",
   "execution_count": 691,
   "id": "b03b59bd",
   "metadata": {},
   "outputs": [
    {
     "data": {
      "text/plain": [
       "array(['147 Average', 'Lokwan Gujrat', 'Other', 'Lokwan', 'Deshi',\n",
       "       'Hybrid', 'Sharbati', 'PBW-373', 'Local', 'Medium', 'Mexican',\n",
       "       'Red', 'Sona', 'Jawari', 'Super Fine', 'Mill Quality',\n",
       "       'Maharashtra 2189', 'Kalyan', 'Dara', 'Sonalika'], dtype=object)"
      ]
     },
     "execution_count": 691,
     "metadata": {},
     "output_type": "execute_result"
    }
   ],
   "source": [
    "df[\"variety\"].unique()"
   ]
  },
  {
   "cell_type": "markdown",
   "id": "70691fef",
   "metadata": {},
   "source": [
    "there are many unique values in our data so lets find the frequecy disrtibution of the variety column"
   ]
  },
  {
   "cell_type": "code",
   "execution_count": 692,
   "id": "6e4ecb66",
   "metadata": {},
   "outputs": [
    {
     "data": {
      "text/plain": [
       "variety\n",
       "Dara                181\n",
       "Other                85\n",
       "Mill Quality         39\n",
       "Lokwan               22\n",
       "Sharbati             15\n",
       "Maharashtra 2189     12\n",
       "Sonalika              5\n",
       "Local                 4\n",
       "Lokwan Gujrat         4\n",
       "Hybrid                3\n",
       "Red                   2\n",
       "147 Average           2\n",
       "PBW-373               2\n",
       "Deshi                 2\n",
       "Sona                  1\n",
       "Jawari                1\n",
       "Super Fine            1\n",
       "Medium                1\n",
       "Kalyan                1\n",
       "Mexican               1\n",
       "Name: count, dtype: int64"
      ]
     },
     "execution_count": 692,
     "metadata": {},
     "output_type": "execute_result"
    }
   ],
   "source": [
    "df[\"variety\"].value_counts()"
   ]
  },
  {
   "cell_type": "markdown",
   "id": "af25510b",
   "metadata": {},
   "source": [
    " so lets see in the visualize form"
   ]
  },
  {
   "cell_type": "code",
   "execution_count": 693,
   "id": "0881d747",
   "metadata": {},
   "outputs": [
    {
     "data": {
      "text/plain": [
       "<Axes: xlabel='count', ylabel='variety'>"
      ]
     },
     "execution_count": 693,
     "metadata": {},
     "output_type": "execute_result"
    },
    {
     "data": {
      "image/png": "[encoded data removed]",
      "text/plain": [
       "<Figure size 1000x600 with 1 Axes>"
      ]
     },
     "metadata": {},
     "output_type": "display_data"
    }
   ],
   "source": [
    "plt.figure(figsize=(10 , 6))\n",
    "plt.style.use(\"fivethirtyeight\")\n",
    "sns.countplot(data = df , y = \"variety\",order = df[\"variety\"].value_counts(ascending=False).index)"
   ]
  },
  {
   "cell_type": "markdown",
   "id": "8ae276ad",
   "metadata": {},
   "source": [
    "Dara has the maximum count of 175 and mexican , kalyan , medium , super fine has the least of 0"
   ]
  },
  {
   "cell_type": "code",
   "execution_count": 694,
   "id": "efdc31c4",
   "metadata": {},
   "outputs": [
    {
     "data": {
      "text/plain": [
       "array(['01/01/2024', '02/01/2024'], dtype=object)"
      ]
     },
     "execution_count": 694,
     "metadata": {},
     "output_type": "execute_result"
    }
   ],
   "source": [
    "df[\"arrival_date\"].unique()"
   ]
  },
  {
   "cell_type": "code",
   "execution_count": 695,
   "id": "401ca4a5",
   "metadata": {},
   "outputs": [
    {
     "data": {
      "text/plain": [
       "arrival_date\n",
       "01/01/2024    254\n",
       "02/01/2024    130\n",
       "Name: count, dtype: int64"
      ]
     },
     "execution_count": 695,
     "metadata": {},
     "output_type": "execute_result"
    }
   ],
   "source": [
    "df[\"arrival_date\"].value_counts()"
   ]
  },
  {
   "cell_type": "code",
   "execution_count": 696,
   "id": "5ddee02d",
   "metadata": {},
   "outputs": [
    {
     "data": {
      "text/plain": [
       "<Axes: ylabel='count'>"
      ]
     },
     "execution_count": 696,
     "metadata": {},
     "output_type": "execute_result"
    },
    {
     "data": {
      "image/png": "[encoded data removed]",
      "text/plain": [
       "<Figure size 1000x500 with 1 Axes>"
      ]
     },
     "metadata": {},
     "output_type": "display_data"
    }
   ],
   "source": [
    "plt.figure(figsize=(10 , 5))\n",
    "plt.style.use(\"fivethirtyeight\")\n",
    "explode = [0,0.1]\n",
    "df[\"arrival_date\"].value_counts().plot(kind=\"pie\", autopct = '%1.1f%%', explode = [0,0.1])"
   ]
  },
  {
   "cell_type": "markdown",
   "id": "4811bcc9",
   "metadata": {},
   "source": [
    "we have more arrival date of 1 januaruy 2024 as compare to 2 january 2024"
   ]
  },
  {
   "cell_type": "code",
   "execution_count": 697,
   "id": "ea013d17",
   "metadata": {},
   "outputs": [
    {
     "data": {
      "text/plain": [
       "1750"
      ]
     },
     "execution_count": 697,
     "metadata": {},
     "output_type": "execute_result"
    }
   ],
   "source": [
    "df[\"min_price\"].min()"
   ]
  },
  {
   "cell_type": "code",
   "execution_count": 698,
   "id": "c97ec977",
   "metadata": {},
   "outputs": [
    {
     "data": {
      "text/plain": [
       "4701"
      ]
     },
     "execution_count": 698,
     "metadata": {},
     "output_type": "execute_result"
    }
   ],
   "source": [
    "df[\"min_price\"].max()"
   ]
  },
  {
   "cell_type": "code",
   "execution_count": 699,
   "id": "614c2630",
   "metadata": {},
   "outputs": [
    {
     "data": {
      "text/plain": [
       "2432.8463541666665"
      ]
     },
     "execution_count": 699,
     "metadata": {},
     "output_type": "execute_result"
    }
   ],
   "source": [
    "df[\"min_price\"].mean()"
   ]
  },
  {
   "cell_type": "code",
   "execution_count": 700,
   "id": "6822bf96",
   "metadata": {},
   "outputs": [
    {
     "data": {
      "text/plain": [
       "<Axes: xlabel='min_price', ylabel='Density'>"
      ]
     },
     "execution_count": 700,
     "metadata": {},
     "output_type": "execute_result"
    },
    {
     "data": {
      "image/png": "[encoded data removed]",
      "text/plain": [
       "<Figure size 1000x400 with 1 Axes>"
      ]
     },
     "metadata": {},
     "output_type": "display_data"
    }
   ],
   "source": [
    "plt.figure(figsize=(10 , 4))\n",
    "plt.style.use(\"fivethirtyeight\")\n",
    "sns.distplot(df[\"min_price\"])"
   ]
  },
  {
   "cell_type": "markdown",
   "id": "154b506f",
   "metadata": {},
   "source": [
    "From the above observation we can see that min_price feature is normally distributed\n",
    "- The values varies from 2000 to 3000\n",
    "- min price value is 1750\n",
    "- min price max_value is 4701\n",
    "- min price mean_price value is 2432\n",
    "- and the standar deviation is approx 236"
   ]
  },
  {
   "cell_type": "code",
   "execution_count": 701,
   "id": "033a4335",
   "metadata": {},
   "outputs": [
    {
     "data": {
      "text/plain": [
       "1850"
      ]
     },
     "execution_count": 701,
     "metadata": {},
     "output_type": "execute_result"
    }
   ],
   "source": [
    "df[\"max_price\"].min()"
   ]
  },
  {
   "cell_type": "code",
   "execution_count": 702,
   "id": "f54877fe",
   "metadata": {},
   "outputs": [
    {
     "data": {
      "text/plain": [
       "4701"
      ]
     },
     "execution_count": 702,
     "metadata": {},
     "output_type": "execute_result"
    }
   ],
   "source": [
    "df[\"max_price\"].max()"
   ]
  },
  {
   "cell_type": "code",
   "execution_count": 703,
   "id": "8315bae1",
   "metadata": {},
   "outputs": [
    {
     "data": {
      "text/plain": [
       "2630.6432291666665"
      ]
     },
     "execution_count": 703,
     "metadata": {},
     "output_type": "execute_result"
    }
   ],
   "source": [
    "df[\"max_price\"].mean()"
   ]
  },
  {
   "cell_type": "code",
   "execution_count": 704,
   "id": "4e521b30",
   "metadata": {},
   "outputs": [
    {
     "data": {
      "text/plain": [
       "327.75220740363125"
      ]
     },
     "execution_count": 704,
     "metadata": {},
     "output_type": "execute_result"
    }
   ],
   "source": [
    "df[\"max_price\"].std()"
   ]
  },
  {
   "cell_type": "code",
   "execution_count": 705,
   "id": "766abda4",
   "metadata": {},
   "outputs": [
    {
     "data": {
      "text/plain": [
       "<Axes: xlabel='max_price', ylabel='Density'>"
      ]
     },
     "execution_count": 705,
     "metadata": {},
     "output_type": "execute_result"
    },
    {
     "data": {
      "image/png": "[encoded data removed]",
      "text/plain": [
       "<Figure size 1000x400 with 1 Axes>"
      ]
     },
     "metadata": {},
     "output_type": "display_data"
    }
   ],
   "source": [
    "plt.figure(figsize=(10 , 4))\n",
    "plt.style.use(\"fivethirtyeight\")\n",
    "sns.distplot(df[\"max_price\"])"
   ]
  },
  {
   "cell_type": "markdown",
   "id": "b2242da6",
   "metadata": {},
   "source": [
    "from the above observation we can see that our max-price feature is right skewed distributed\n",
    "from the above observation we can see that modalprice feature is also normal distrubuted \n",
    "- min price value is 1850\n",
    "- max price value is 4701\n",
    "- mean of max price is 2630\n",
    "- and the standar deviation is approx 327"
   ]
  },
  {
   "cell_type": "code",
   "execution_count": 706,
   "id": "f93eb1ef",
   "metadata": {},
   "outputs": [
    {
     "data": {
      "text/html": [
       "<div>\n",
       "<style scoped>\n",
       "    .dataframe tbody tr th:only-of-type {\n",
       "        vertical-align: middle;\n",
       "    }\n",
       "\n",
       "    .dataframe tbody tr th {\n",
       "        vertical-align: top;\n",
       "    }\n",
       "\n",
       "    .dataframe thead th {\n",
       "        text-align: right;\n",
       "    }\n",
       "</style>\n",
       "<table border=\"1\" class=\"dataframe\">\n",
       "  <thead>\n",
       "    <tr style=\"text-align: right;\">\n",
       "      <th></th>\n",
       "      <th>state</th>\n",
       "      <th>district</th>\n",
       "      <th>market</th>\n",
       "      <th>commodity</th>\n",
       "      <th>variety</th>\n",
       "      <th>arrival_date</th>\n",
       "      <th>min_price</th>\n",
       "      <th>max_price</th>\n",
       "      <th>modal_price</th>\n",
       "      <th>update_date</th>\n",
       "    </tr>\n",
       "  </thead>\n",
       "  <tbody>\n",
       "    <tr>\n",
       "      <th>0</th>\n",
       "      <td>Bihar</td>\n",
       "      <td>Muzaffarpur</td>\n",
       "      <td>Muzaffarpur</td>\n",
       "      <td>Wheat</td>\n",
       "      <td>147 Average</td>\n",
       "      <td>01/01/2024</td>\n",
       "      <td>2500</td>\n",
       "      <td>2590</td>\n",
       "      <td>2550.0</td>\n",
       "      <td>2024-01-02</td>\n",
       "    </tr>\n",
       "    <tr>\n",
       "      <th>1</th>\n",
       "      <td>Gujarat</td>\n",
       "      <td>Amreli</td>\n",
       "      <td>Bagasara</td>\n",
       "      <td>Wheat</td>\n",
       "      <td>Lokwan Gujrat</td>\n",
       "      <td>02/01/2024</td>\n",
       "      <td>2370</td>\n",
       "      <td>2700</td>\n",
       "      <td>2535.0</td>\n",
       "      <td>2024-01-02</td>\n",
       "    </tr>\n",
       "    <tr>\n",
       "      <th>2</th>\n",
       "      <td>Gujarat</td>\n",
       "      <td>Anand</td>\n",
       "      <td>Khambhat(Grain Market)</td>\n",
       "      <td>Wheat</td>\n",
       "      <td>Other</td>\n",
       "      <td>02/01/2024</td>\n",
       "      <td>2000</td>\n",
       "      <td>2550</td>\n",
       "      <td>2250.0</td>\n",
       "      <td>2024-01-02</td>\n",
       "    </tr>\n",
       "    <tr>\n",
       "      <th>3</th>\n",
       "      <td>Gujarat</td>\n",
       "      <td>Banaskanth</td>\n",
       "      <td>Deesa</td>\n",
       "      <td>Wheat</td>\n",
       "      <td>Other</td>\n",
       "      <td>02/01/2024</td>\n",
       "      <td>2415</td>\n",
       "      <td>2590</td>\n",
       "      <td>2500.0</td>\n",
       "      <td>2024-01-02</td>\n",
       "    </tr>\n",
       "    <tr>\n",
       "      <th>4</th>\n",
       "      <td>Gujarat</td>\n",
       "      <td>Banaskanth</td>\n",
       "      <td>Dhanera</td>\n",
       "      <td>Wheat</td>\n",
       "      <td>Other</td>\n",
       "      <td>01/01/2024</td>\n",
       "      <td>2715</td>\n",
       "      <td>2715</td>\n",
       "      <td>2715.0</td>\n",
       "      <td>2024-01-02</td>\n",
       "    </tr>\n",
       "  </tbody>\n",
       "</table>\n",
       "</div>"
      ],
      "text/plain": [
       "     state     district                  market commodity        variety  \\\n",
       "0    Bihar  Muzaffarpur             Muzaffarpur     Wheat    147 Average   \n",
       "1  Gujarat       Amreli                Bagasara     Wheat  Lokwan Gujrat   \n",
       "2  Gujarat        Anand  Khambhat(Grain Market)     Wheat          Other   \n",
       "3  Gujarat   Banaskanth                   Deesa     Wheat          Other   \n",
       "4  Gujarat   Banaskanth                 Dhanera     Wheat          Other   \n",
       "\n",
       "  arrival_date  min_price  max_price  modal_price update_date  \n",
       "0   01/01/2024       2500       2590       2550.0  2024-01-02  \n",
       "1   02/01/2024       2370       2700       2535.0  2024-01-02  \n",
       "2   02/01/2024       2000       2550       2250.0  2024-01-02  \n",
       "3   02/01/2024       2415       2590       2500.0  2024-01-02  \n",
       "4   01/01/2024       2715       2715       2715.0  2024-01-02  "
      ]
     },
     "execution_count": 706,
     "metadata": {},
     "output_type": "execute_result"
    }
   ],
   "source": [
    "df.head()"
   ]
  },
  {
   "cell_type": "code",
   "execution_count": 707,
   "id": "caa8c8c5",
   "metadata": {},
   "outputs": [
    {
     "data": {
      "text/plain": [
       "1800.0"
      ]
     },
     "execution_count": 707,
     "metadata": {},
     "output_type": "execute_result"
    }
   ],
   "source": [
    "df[\"modal_price\"].min()"
   ]
  },
  {
   "cell_type": "code",
   "execution_count": 708,
   "id": "733d296e",
   "metadata": {},
   "outputs": [
    {
     "data": {
      "text/plain": [
       "4100.0"
      ]
     },
     "execution_count": 708,
     "metadata": {},
     "output_type": "execute_result"
    }
   ],
   "source": [
    "df[\"modal_price\"].max()"
   ]
  },
  {
   "cell_type": "code",
   "execution_count": 709,
   "id": "e0f20de3",
   "metadata": {},
   "outputs": [
    {
     "data": {
      "text/plain": [
       "235.9559059191298"
      ]
     },
     "execution_count": 709,
     "metadata": {},
     "output_type": "execute_result"
    }
   ],
   "source": [
    "df[\"modal_price\"].std()"
   ]
  },
  {
   "cell_type": "code",
   "execution_count": 710,
   "id": "35178367",
   "metadata": {},
   "outputs": [
    {
     "data": {
      "text/plain": [
       "<Axes: xlabel='modal_price', ylabel='Density'>"
      ]
     },
     "execution_count": 710,
     "metadata": {},
     "output_type": "execute_result"
    },
    {
     "data": {
      "image/png": "[encoded data removed]",
      "text/plain": [
       "<Figure size 1000x400 with 1 Axes>"
      ]
     },
     "metadata": {},
     "output_type": "display_data"
    }
   ],
   "source": [
    "plt.figure(figsize=(10 , 4))\n",
    "plt.style.use(\"fivethirtyeight\")\n",
    "sns.distplot(df[\"modal_price\"])"
   ]
  },
  {
   "cell_type": "markdown",
   "id": "fbf417ba",
   "metadata": {},
   "source": [
    "from the above observation we can see that modalprice feature is also normal distrubuted \n",
    "- min model price value is 1800\n",
    "- max modal price value is 4100\n",
    "- and the standar deviation is approx 236"
   ]
  },
  {
   "cell_type": "code",
   "execution_count": 711,
   "id": "8bc6932b",
   "metadata": {},
   "outputs": [
    {
     "data": {
      "text/plain": [
       "array(['2024-01-02'], dtype=object)"
      ]
     },
     "execution_count": 711,
     "metadata": {},
     "output_type": "execute_result"
    }
   ],
   "source": [
    "# checking the last update date column\n",
    "df[\"update_date\"].unique()"
   ]
  },
  {
   "cell_type": "markdown",
   "id": "3cf28b19",
   "metadata": {},
   "source": [
    "so there is only one unique value is present in our data set"
   ]
  },
  {
   "cell_type": "code",
   "execution_count": 712,
   "id": "93788830",
   "metadata": {},
   "outputs": [
    {
     "data": {
      "text/html": [
       "<div>\n",
       "<style scoped>\n",
       "    .dataframe tbody tr th:only-of-type {\n",
       "        vertical-align: middle;\n",
       "    }\n",
       "\n",
       "    .dataframe tbody tr th {\n",
       "        vertical-align: top;\n",
       "    }\n",
       "\n",
       "    .dataframe thead th {\n",
       "        text-align: right;\n",
       "    }\n",
       "</style>\n",
       "<table border=\"1\" class=\"dataframe\">\n",
       "  <thead>\n",
       "    <tr style=\"text-align: right;\">\n",
       "      <th></th>\n",
       "      <th>state</th>\n",
       "      <th>district</th>\n",
       "      <th>market</th>\n",
       "      <th>commodity</th>\n",
       "      <th>variety</th>\n",
       "      <th>arrival_date</th>\n",
       "      <th>min_price</th>\n",
       "      <th>max_price</th>\n",
       "      <th>modal_price</th>\n",
       "      <th>update_date</th>\n",
       "    </tr>\n",
       "  </thead>\n",
       "  <tbody>\n",
       "    <tr>\n",
       "      <th>0</th>\n",
       "      <td>Bihar</td>\n",
       "      <td>Muzaffarpur</td>\n",
       "      <td>Muzaffarpur</td>\n",
       "      <td>Wheat</td>\n",
       "      <td>147 Average</td>\n",
       "      <td>01/01/2024</td>\n",
       "      <td>2500</td>\n",
       "      <td>2590</td>\n",
       "      <td>2550.0</td>\n",
       "      <td>2024-01-02</td>\n",
       "    </tr>\n",
       "    <tr>\n",
       "      <th>1</th>\n",
       "      <td>Gujarat</td>\n",
       "      <td>Amreli</td>\n",
       "      <td>Bagasara</td>\n",
       "      <td>Wheat</td>\n",
       "      <td>Lokwan Gujrat</td>\n",
       "      <td>02/01/2024</td>\n",
       "      <td>2370</td>\n",
       "      <td>2700</td>\n",
       "      <td>2535.0</td>\n",
       "      <td>2024-01-02</td>\n",
       "    </tr>\n",
       "    <tr>\n",
       "      <th>2</th>\n",
       "      <td>Gujarat</td>\n",
       "      <td>Anand</td>\n",
       "      <td>Khambhat(Grain Market)</td>\n",
       "      <td>Wheat</td>\n",
       "      <td>Other</td>\n",
       "      <td>02/01/2024</td>\n",
       "      <td>2000</td>\n",
       "      <td>2550</td>\n",
       "      <td>2250.0</td>\n",
       "      <td>2024-01-02</td>\n",
       "    </tr>\n",
       "    <tr>\n",
       "      <th>3</th>\n",
       "      <td>Gujarat</td>\n",
       "      <td>Banaskanth</td>\n",
       "      <td>Deesa</td>\n",
       "      <td>Wheat</td>\n",
       "      <td>Other</td>\n",
       "      <td>02/01/2024</td>\n",
       "      <td>2415</td>\n",
       "      <td>2590</td>\n",
       "      <td>2500.0</td>\n",
       "      <td>2024-01-02</td>\n",
       "    </tr>\n",
       "    <tr>\n",
       "      <th>4</th>\n",
       "      <td>Gujarat</td>\n",
       "      <td>Banaskanth</td>\n",
       "      <td>Dhanera</td>\n",
       "      <td>Wheat</td>\n",
       "      <td>Other</td>\n",
       "      <td>01/01/2024</td>\n",
       "      <td>2715</td>\n",
       "      <td>2715</td>\n",
       "      <td>2715.0</td>\n",
       "      <td>2024-01-02</td>\n",
       "    </tr>\n",
       "  </tbody>\n",
       "</table>\n",
       "</div>"
      ],
      "text/plain": [
       "     state     district                  market commodity        variety  \\\n",
       "0    Bihar  Muzaffarpur             Muzaffarpur     Wheat    147 Average   \n",
       "1  Gujarat       Amreli                Bagasara     Wheat  Lokwan Gujrat   \n",
       "2  Gujarat        Anand  Khambhat(Grain Market)     Wheat          Other   \n",
       "3  Gujarat   Banaskanth                   Deesa     Wheat          Other   \n",
       "4  Gujarat   Banaskanth                 Dhanera     Wheat          Other   \n",
       "\n",
       "  arrival_date  min_price  max_price  modal_price update_date  \n",
       "0   01/01/2024       2500       2590       2550.0  2024-01-02  \n",
       "1   02/01/2024       2370       2700       2535.0  2024-01-02  \n",
       "2   02/01/2024       2000       2550       2250.0  2024-01-02  \n",
       "3   02/01/2024       2415       2590       2500.0  2024-01-02  \n",
       "4   01/01/2024       2715       2715       2715.0  2024-01-02  "
      ]
     },
     "execution_count": 712,
     "metadata": {},
     "output_type": "execute_result"
    }
   ],
   "source": [
    "df.head()"
   ]
  },
  {
   "cell_type": "code",
   "execution_count": 713,
   "id": "51bff99e",
   "metadata": {},
   "outputs": [
    {
     "data": {
      "text/html": [
       "<div>\n",
       "<style scoped>\n",
       "    .dataframe tbody tr th:only-of-type {\n",
       "        vertical-align: middle;\n",
       "    }\n",
       "\n",
       "    .dataframe tbody tr th {\n",
       "        vertical-align: top;\n",
       "    }\n",
       "\n",
       "    .dataframe thead th {\n",
       "        text-align: right;\n",
       "    }\n",
       "</style>\n",
       "<table border=\"1\" class=\"dataframe\">\n",
       "  <thead>\n",
       "    <tr style=\"text-align: right;\">\n",
       "      <th></th>\n",
       "      <th>state</th>\n",
       "      <th>district</th>\n",
       "      <th>market</th>\n",
       "      <th>commodity</th>\n",
       "      <th>variety</th>\n",
       "      <th>arrival_date</th>\n",
       "      <th>min_price</th>\n",
       "      <th>max_price</th>\n",
       "      <th>modal_price</th>\n",
       "      <th>update_date</th>\n",
       "    </tr>\n",
       "  </thead>\n",
       "  <tbody>\n",
       "    <tr>\n",
       "      <th>36</th>\n",
       "      <td>Madhya Pradesh</td>\n",
       "      <td>Ashoknagar</td>\n",
       "      <td>Ashoknagar</td>\n",
       "      <td>Wheat</td>\n",
       "      <td>Lokwan</td>\n",
       "      <td>01/01/2024</td>\n",
       "      <td>2880</td>\n",
       "      <td>2880</td>\n",
       "      <td>2703.0</td>\n",
       "      <td>2024-01-02</td>\n",
       "    </tr>\n",
       "    <tr>\n",
       "      <th>37</th>\n",
       "      <td>Madhya Pradesh</td>\n",
       "      <td>Ashoknagar</td>\n",
       "      <td>Ashoknagar</td>\n",
       "      <td>Wheat</td>\n",
       "      <td>Sharbati</td>\n",
       "      <td>02/01/2024</td>\n",
       "      <td>4701</td>\n",
       "      <td>4701</td>\n",
       "      <td>2485.0</td>\n",
       "      <td>2024-01-02</td>\n",
       "    </tr>\n",
       "    <tr>\n",
       "      <th>39</th>\n",
       "      <td>Madhya Pradesh</td>\n",
       "      <td>Bhopal</td>\n",
       "      <td>Berasia</td>\n",
       "      <td>Wheat</td>\n",
       "      <td>Local</td>\n",
       "      <td>01/01/2024</td>\n",
       "      <td>2396</td>\n",
       "      <td>2741</td>\n",
       "      <td>1800.0</td>\n",
       "      <td>2024-01-02</td>\n",
       "    </tr>\n",
       "    <tr>\n",
       "      <th>47</th>\n",
       "      <td>Madhya Pradesh</td>\n",
       "      <td>Dhar</td>\n",
       "      <td>Dhar</td>\n",
       "      <td>Wheat</td>\n",
       "      <td>Lokwan</td>\n",
       "      <td>02/01/2024</td>\n",
       "      <td>2598</td>\n",
       "      <td>2598</td>\n",
       "      <td>2408.0</td>\n",
       "      <td>2024-01-02</td>\n",
       "    </tr>\n",
       "    <tr>\n",
       "      <th>51</th>\n",
       "      <td>Madhya Pradesh</td>\n",
       "      <td>Harda</td>\n",
       "      <td>Harda</td>\n",
       "      <td>Wheat</td>\n",
       "      <td>Lokwan</td>\n",
       "      <td>01/01/2024</td>\n",
       "      <td>2533</td>\n",
       "      <td>2533</td>\n",
       "      <td>2525.0</td>\n",
       "      <td>2024-01-02</td>\n",
       "    </tr>\n",
       "    <tr>\n",
       "      <th>52</th>\n",
       "      <td>Madhya Pradesh</td>\n",
       "      <td>Harda</td>\n",
       "      <td>Harda</td>\n",
       "      <td>Wheat</td>\n",
       "      <td>Lokwan</td>\n",
       "      <td>02/01/2024</td>\n",
       "      <td>2580</td>\n",
       "      <td>2580</td>\n",
       "      <td>2539.0</td>\n",
       "      <td>2024-01-02</td>\n",
       "    </tr>\n",
       "    <tr>\n",
       "      <th>64</th>\n",
       "      <td>Madhya Pradesh</td>\n",
       "      <td>Indore</td>\n",
       "      <td>Indore</td>\n",
       "      <td>Wheat</td>\n",
       "      <td>Lokwan</td>\n",
       "      <td>01/01/2024</td>\n",
       "      <td>3000</td>\n",
       "      <td>3100</td>\n",
       "      <td>2460.0</td>\n",
       "      <td>2024-01-02</td>\n",
       "    </tr>\n",
       "    <tr>\n",
       "      <th>70</th>\n",
       "      <td>Madhya Pradesh</td>\n",
       "      <td>Mandsaur</td>\n",
       "      <td>Mandsaur</td>\n",
       "      <td>Wheat</td>\n",
       "      <td>Lokwan</td>\n",
       "      <td>01/01/2024</td>\n",
       "      <td>2570</td>\n",
       "      <td>2761</td>\n",
       "      <td>2554.0</td>\n",
       "      <td>2024-01-02</td>\n",
       "    </tr>\n",
       "    <tr>\n",
       "      <th>78</th>\n",
       "      <td>Madhya Pradesh</td>\n",
       "      <td>Rajgarh</td>\n",
       "      <td>Narsinghgarh</td>\n",
       "      <td>Wheat</td>\n",
       "      <td>Lokwan</td>\n",
       "      <td>01/01/2024</td>\n",
       "      <td>2485</td>\n",
       "      <td>2730</td>\n",
       "      <td>2440.0</td>\n",
       "      <td>2024-01-02</td>\n",
       "    </tr>\n",
       "    <tr>\n",
       "      <th>81</th>\n",
       "      <td>Madhya Pradesh</td>\n",
       "      <td>Ratlam</td>\n",
       "      <td>Ratlam</td>\n",
       "      <td>Wheat</td>\n",
       "      <td>Lokwan</td>\n",
       "      <td>01/01/2024</td>\n",
       "      <td>3078</td>\n",
       "      <td>3086</td>\n",
       "      <td>2500.0</td>\n",
       "      <td>2024-01-02</td>\n",
       "    </tr>\n",
       "    <tr>\n",
       "      <th>84</th>\n",
       "      <td>Madhya Pradesh</td>\n",
       "      <td>Sagar</td>\n",
       "      <td>Bina</td>\n",
       "      <td>Wheat</td>\n",
       "      <td>Local</td>\n",
       "      <td>01/01/2024</td>\n",
       "      <td>2801</td>\n",
       "      <td>2801</td>\n",
       "      <td>2300.0</td>\n",
       "      <td>2024-01-02</td>\n",
       "    </tr>\n",
       "    <tr>\n",
       "      <th>88</th>\n",
       "      <td>Madhya Pradesh</td>\n",
       "      <td>Sehore</td>\n",
       "      <td>Sehore</td>\n",
       "      <td>Wheat</td>\n",
       "      <td>Lokwan</td>\n",
       "      <td>01/01/2024</td>\n",
       "      <td>2750</td>\n",
       "      <td>3100</td>\n",
       "      <td>2478.0</td>\n",
       "      <td>2024-01-02</td>\n",
       "    </tr>\n",
       "    <tr>\n",
       "      <th>89</th>\n",
       "      <td>Madhya Pradesh</td>\n",
       "      <td>Sehore</td>\n",
       "      <td>Sehore</td>\n",
       "      <td>Wheat</td>\n",
       "      <td>Lokwan</td>\n",
       "      <td>02/01/2024</td>\n",
       "      <td>2650</td>\n",
       "      <td>2913</td>\n",
       "      <td>2410.0</td>\n",
       "      <td>2024-01-02</td>\n",
       "    </tr>\n",
       "    <tr>\n",
       "      <th>92</th>\n",
       "      <td>Madhya Pradesh</td>\n",
       "      <td>Sehore</td>\n",
       "      <td>Sehore</td>\n",
       "      <td>Wheat</td>\n",
       "      <td>Sharbati</td>\n",
       "      <td>01/01/2024</td>\n",
       "      <td>3640</td>\n",
       "      <td>3640</td>\n",
       "      <td>2478.0</td>\n",
       "      <td>2024-01-02</td>\n",
       "    </tr>\n",
       "    <tr>\n",
       "      <th>93</th>\n",
       "      <td>Madhya Pradesh</td>\n",
       "      <td>Sehore</td>\n",
       "      <td>Sehore</td>\n",
       "      <td>Wheat</td>\n",
       "      <td>Sharbati</td>\n",
       "      <td>02/01/2024</td>\n",
       "      <td>3501</td>\n",
       "      <td>3501</td>\n",
       "      <td>2410.0</td>\n",
       "      <td>2024-01-02</td>\n",
       "    </tr>\n",
       "    <tr>\n",
       "      <th>98</th>\n",
       "      <td>Madhya Pradesh</td>\n",
       "      <td>Vidisha</td>\n",
       "      <td>Ganjbasoda</td>\n",
       "      <td>Wheat</td>\n",
       "      <td>Lokwan</td>\n",
       "      <td>02/01/2024</td>\n",
       "      <td>2726</td>\n",
       "      <td>2726</td>\n",
       "      <td>2500.0</td>\n",
       "      <td>2024-01-02</td>\n",
       "    </tr>\n",
       "  </tbody>\n",
       "</table>\n",
       "</div>"
      ],
      "text/plain": [
       "             state    district        market commodity   variety arrival_date  \\\n",
       "36  Madhya Pradesh  Ashoknagar    Ashoknagar     Wheat    Lokwan   01/01/2024   \n",
       "37  Madhya Pradesh  Ashoknagar    Ashoknagar     Wheat  Sharbati   02/01/2024   \n",
       "39  Madhya Pradesh      Bhopal       Berasia     Wheat     Local   01/01/2024   \n",
       "47  Madhya Pradesh        Dhar          Dhar     Wheat    Lokwan   02/01/2024   \n",
       "51  Madhya Pradesh       Harda         Harda     Wheat    Lokwan   01/01/2024   \n",
       "52  Madhya Pradesh       Harda         Harda     Wheat    Lokwan   02/01/2024   \n",
       "64  Madhya Pradesh      Indore        Indore     Wheat    Lokwan   01/01/2024   \n",
       "70  Madhya Pradesh    Mandsaur      Mandsaur     Wheat    Lokwan   01/01/2024   \n",
       "78  Madhya Pradesh     Rajgarh  Narsinghgarh     Wheat    Lokwan   01/01/2024   \n",
       "81  Madhya Pradesh      Ratlam        Ratlam     Wheat    Lokwan   01/01/2024   \n",
       "84  Madhya Pradesh       Sagar          Bina     Wheat     Local   01/01/2024   \n",
       "88  Madhya Pradesh      Sehore        Sehore     Wheat    Lokwan   01/01/2024   \n",
       "89  Madhya Pradesh      Sehore        Sehore     Wheat    Lokwan   02/01/2024   \n",
       "92  Madhya Pradesh      Sehore        Sehore     Wheat  Sharbati   01/01/2024   \n",
       "93  Madhya Pradesh      Sehore        Sehore     Wheat  Sharbati   02/01/2024   \n",
       "98  Madhya Pradesh     Vidisha    Ganjbasoda     Wheat    Lokwan   02/01/2024   \n",
       "\n",
       "    min_price  max_price  modal_price update_date  \n",
       "36       2880       2880       2703.0  2024-01-02  \n",
       "37       4701       4701       2485.0  2024-01-02  \n",
       "39       2396       2741       1800.0  2024-01-02  \n",
       "47       2598       2598       2408.0  2024-01-02  \n",
       "51       2533       2533       2525.0  2024-01-02  \n",
       "52       2580       2580       2539.0  2024-01-02  \n",
       "64       3000       3100       2460.0  2024-01-02  \n",
       "70       2570       2761       2554.0  2024-01-02  \n",
       "78       2485       2730       2440.0  2024-01-02  \n",
       "81       3078       3086       2500.0  2024-01-02  \n",
       "84       2801       2801       2300.0  2024-01-02  \n",
       "88       2750       3100       2478.0  2024-01-02  \n",
       "89       2650       2913       2410.0  2024-01-02  \n",
       "92       3640       3640       2478.0  2024-01-02  \n",
       "93       3501       3501       2410.0  2024-01-02  \n",
       "98       2726       2726       2500.0  2024-01-02  "
      ]
     },
     "execution_count": 713,
     "metadata": {},
     "output_type": "execute_result"
    }
   ],
   "source": [
    "df[(df[\"min_price\"] > df[\"modal_price\"])]"
   ]
  },
  {
   "cell_type": "code",
   "execution_count": 714,
   "id": "2ad17ddb",
   "metadata": {},
   "outputs": [
    {
     "data": {
      "text/html": [
       "<div>\n",
       "<style scoped>\n",
       "    .dataframe tbody tr th:only-of-type {\n",
       "        vertical-align: middle;\n",
       "    }\n",
       "\n",
       "    .dataframe tbody tr th {\n",
       "        vertical-align: top;\n",
       "    }\n",
       "\n",
       "    .dataframe thead th {\n",
       "        text-align: right;\n",
       "    }\n",
       "</style>\n",
       "<table border=\"1\" class=\"dataframe\">\n",
       "  <thead>\n",
       "    <tr style=\"text-align: right;\">\n",
       "      <th></th>\n",
       "      <th>state</th>\n",
       "      <th>district</th>\n",
       "      <th>market</th>\n",
       "      <th>commodity</th>\n",
       "      <th>variety</th>\n",
       "      <th>arrival_date</th>\n",
       "      <th>min_price</th>\n",
       "      <th>max_price</th>\n",
       "      <th>modal_price</th>\n",
       "      <th>update_date</th>\n",
       "    </tr>\n",
       "  </thead>\n",
       "  <tbody>\n",
       "    <tr>\n",
       "      <th>72</th>\n",
       "      <td>Madhya Pradesh</td>\n",
       "      <td>Mandsaur</td>\n",
       "      <td>Mandsaur</td>\n",
       "      <td>Wheat</td>\n",
       "      <td>Mill Quality</td>\n",
       "      <td>01/01/2024</td>\n",
       "      <td>2251</td>\n",
       "      <td>2321</td>\n",
       "      <td>2554.0</td>\n",
       "      <td>2024-01-02</td>\n",
       "    </tr>\n",
       "    <tr>\n",
       "      <th>87</th>\n",
       "      <td>Madhya Pradesh</td>\n",
       "      <td>Satna</td>\n",
       "      <td>Satna</td>\n",
       "      <td>Wheat</td>\n",
       "      <td>Lokwan</td>\n",
       "      <td>01/01/2024</td>\n",
       "      <td>2393</td>\n",
       "      <td>2408</td>\n",
       "      <td>2421.0</td>\n",
       "      <td>2024-01-02</td>\n",
       "    </tr>\n",
       "  </tbody>\n",
       "</table>\n",
       "</div>"
      ],
      "text/plain": [
       "             state  district    market commodity       variety arrival_date  \\\n",
       "72  Madhya Pradesh  Mandsaur  Mandsaur     Wheat  Mill Quality   01/01/2024   \n",
       "87  Madhya Pradesh     Satna     Satna     Wheat        Lokwan   01/01/2024   \n",
       "\n",
       "    min_price  max_price  modal_price update_date  \n",
       "72       2251       2321       2554.0  2024-01-02  \n",
       "87       2393       2408       2421.0  2024-01-02  "
      ]
     },
     "execution_count": 714,
     "metadata": {},
     "output_type": "execute_result"
    }
   ],
   "source": [
    "df[(df[\"max_price\"] < df[\"modal_price\"])]"
   ]
  },
  {
   "cell_type": "markdown",
   "id": "1c4b0e4f",
   "metadata": {},
   "source": [
    "### What is the highest and lowest price of wheat on 1 january 2024 "
   ]
  },
  {
   "cell_type": "code",
   "execution_count": 715,
   "id": "554ae6ad",
   "metadata": {},
   "outputs": [],
   "source": [
    "maxi_price = df[(df[\"arrival_date\"] == \"01/01/2024\")]"
   ]
  },
  {
   "cell_type": "code",
   "execution_count": 716,
   "id": "19e640a9",
   "metadata": {},
   "outputs": [
    {
     "data": {
      "text/plain": [
       "4100.0"
      ]
     },
     "execution_count": 716,
     "metadata": {},
     "output_type": "execute_result"
    }
   ],
   "source": [
    "maxi_price[\"modal_price\"].max()"
   ]
  },
  {
   "cell_type": "code",
   "execution_count": 717,
   "id": "184623ea",
   "metadata": {},
   "outputs": [
    {
     "data": {
      "text/plain": [
       "1800.0"
      ]
     },
     "execution_count": 717,
     "metadata": {},
     "output_type": "execute_result"
    }
   ],
   "source": [
    "maxi_price[\"modal_price\"].min()"
   ]
  },
  {
   "cell_type": "markdown",
   "id": "335825e5",
   "metadata": {},
   "source": [
    "- From the above execution we observed that on 1st janauray maximum price of wheat is 4100 and lowest is 1800"
   ]
  },
  {
   "cell_type": "markdown",
   "id": "8b860d85",
   "metadata": {},
   "source": [
    "### What is the highest and lowest price of wheat on 2 january 2024"
   ]
  },
  {
   "cell_type": "code",
   "execution_count": 718,
   "id": "075637ba",
   "metadata": {},
   "outputs": [],
   "source": [
    "mini_price = df[(df[\"arrival_date\"] == \"02/01/2024\")]"
   ]
  },
  {
   "cell_type": "code",
   "execution_count": 719,
   "id": "3812c0c8",
   "metadata": {},
   "outputs": [
    {
     "data": {
      "text/plain": [
       "3400.0"
      ]
     },
     "execution_count": 719,
     "metadata": {},
     "output_type": "execute_result"
    }
   ],
   "source": [
    "mini_price[\"modal_price\"].max()"
   ]
  },
  {
   "cell_type": "code",
   "execution_count": 720,
   "id": "bd9766fe",
   "metadata": {},
   "outputs": [
    {
     "data": {
      "text/plain": [
       "2190.0"
      ]
     },
     "execution_count": 720,
     "metadata": {},
     "output_type": "execute_result"
    }
   ],
   "source": [
    "mini_price[\"modal_price\"].min()"
   ]
  },
  {
   "cell_type": "markdown",
   "id": "ba3829b8",
   "metadata": {},
   "source": [
    "- From the above execution we observed that on 2nd janauray maximum price of wheat is 3400 and lowest is 2190"
   ]
  },
  {
   "cell_type": "markdown",
   "id": "42a6cf5e",
   "metadata": {},
   "source": [
    "### Lets check if any outlier are their in our data set"
   ]
  },
  {
   "cell_type": "code",
   "execution_count": 721,
   "id": "d08ebbbf",
   "metadata": {},
   "outputs": [
    {
     "data": {
      "text/plain": [
       "<Axes: >"
      ]
     },
     "execution_count": 721,
     "metadata": {},
     "output_type": "execute_result"
    },
    {
     "data": {
      "image/png": "[encoded data removed]",
      "text/plain": [
       "<Figure size 1000x500 with 1 Axes>"
      ]
     },
     "metadata": {},
     "output_type": "display_data"
    }
   ],
   "source": [
    "# box plot\n",
    "plt.figure(figsize=(10 ,5))\n",
    "plt.style.use(\"fivethirtyeight\")\n",
    "sns.boxplot(df)"
   ]
  },
  {
   "cell_type": "markdown",
   "id": "f451aec2",
   "metadata": {},
   "source": [
    "from the above execution we can see that there are many outlier in our min price , max price and modal price column\n",
    "- so we have to handle it in feature engineering"
   ]
  },
  {
   "cell_type": "code",
   "execution_count": 722,
   "id": "414448e3",
   "metadata": {},
   "outputs": [
    {
     "data": {
      "text/plain": [
       "<Axes: xlabel='modal_price', ylabel='variety'>"
      ]
     },
     "execution_count": 722,
     "metadata": {},
     "output_type": "execute_result"
    },
    {
     "data": {
      "image/png": "[encoded data removed]",
      "text/plain": [
       "<Figure size 1300x800 with 1 Axes>"
      ]
     },
     "metadata": {},
     "output_type": "display_data"
    }
   ],
   "source": [
    "plt.style.use(\"fivethirtyeight\")\n",
    "plt.figure(figsize=(13,8))\n",
    "sns.barplot(y = df.variety ,x = df.modal_price)"
   ]
  },
  {
   "cell_type": "code",
   "execution_count": 723,
   "id": "4a993573",
   "metadata": {},
   "outputs": [
    {
     "data": {
      "text/html": [
       "<div>\n",
       "<style scoped>\n",
       "    .dataframe tbody tr th:only-of-type {\n",
       "        vertical-align: middle;\n",
       "    }\n",
       "\n",
       "    .dataframe tbody tr th {\n",
       "        vertical-align: top;\n",
       "    }\n",
       "\n",
       "    .dataframe thead th {\n",
       "        text-align: right;\n",
       "    }\n",
       "</style>\n",
       "<table border=\"1\" class=\"dataframe\">\n",
       "  <thead>\n",
       "    <tr style=\"text-align: right;\">\n",
       "      <th></th>\n",
       "      <th>state</th>\n",
       "      <th>district</th>\n",
       "      <th>market</th>\n",
       "      <th>commodity</th>\n",
       "      <th>variety</th>\n",
       "      <th>arrival_date</th>\n",
       "      <th>min_price</th>\n",
       "      <th>max_price</th>\n",
       "      <th>modal_price</th>\n",
       "      <th>update_date</th>\n",
       "    </tr>\n",
       "  </thead>\n",
       "  <tbody>\n",
       "    <tr>\n",
       "      <th>35</th>\n",
       "      <td>Karnataka</td>\n",
       "      <td>Shimoga</td>\n",
       "      <td>Shimoga</td>\n",
       "      <td>Wheat</td>\n",
       "      <td>Super Fine</td>\n",
       "      <td>01/01/2024</td>\n",
       "      <td>3800</td>\n",
       "      <td>4200</td>\n",
       "      <td>4000.0</td>\n",
       "      <td>2024-01-02</td>\n",
       "    </tr>\n",
       "  </tbody>\n",
       "</table>\n",
       "</div>"
      ],
      "text/plain": [
       "        state district   market commodity     variety arrival_date  min_price  \\\n",
       "35  Karnataka  Shimoga  Shimoga     Wheat  Super Fine   01/01/2024       3800   \n",
       "\n",
       "    max_price  modal_price update_date  \n",
       "35       4200       4000.0  2024-01-02  "
      ]
     },
     "execution_count": 723,
     "metadata": {},
     "output_type": "execute_result"
    }
   ],
   "source": [
    "df[(df[\"variety\"] == \"Super Fine\") & (df[\"modal_price\"] > 3000)]"
   ]
  },
  {
   "cell_type": "code",
   "execution_count": 724,
   "id": "d16fbece",
   "metadata": {},
   "outputs": [
    {
     "data": {
      "text/html": [
       "<div>\n",
       "<style scoped>\n",
       "    .dataframe tbody tr th:only-of-type {\n",
       "        vertical-align: middle;\n",
       "    }\n",
       "\n",
       "    .dataframe tbody tr th {\n",
       "        vertical-align: top;\n",
       "    }\n",
       "\n",
       "    .dataframe thead th {\n",
       "        text-align: right;\n",
       "    }\n",
       "</style>\n",
       "<table border=\"1\" class=\"dataframe\">\n",
       "  <thead>\n",
       "    <tr style=\"text-align: right;\">\n",
       "      <th></th>\n",
       "      <th>state</th>\n",
       "      <th>district</th>\n",
       "      <th>market</th>\n",
       "      <th>commodity</th>\n",
       "      <th>variety</th>\n",
       "      <th>arrival_date</th>\n",
       "      <th>min_price</th>\n",
       "      <th>max_price</th>\n",
       "      <th>modal_price</th>\n",
       "      <th>update_date</th>\n",
       "    </tr>\n",
       "  </thead>\n",
       "  <tbody>\n",
       "    <tr>\n",
       "      <th>29</th>\n",
       "      <td>Karnataka</td>\n",
       "      <td>Bidar</td>\n",
       "      <td>Basava Kalayana</td>\n",
       "      <td>Wheat</td>\n",
       "      <td>Medium</td>\n",
       "      <td>01/01/2024</td>\n",
       "      <td>2000</td>\n",
       "      <td>2600</td>\n",
       "      <td>2001.0</td>\n",
       "      <td>2024-01-02</td>\n",
       "    </tr>\n",
       "  </tbody>\n",
       "</table>\n",
       "</div>"
      ],
      "text/plain": [
       "        state district           market commodity variety arrival_date  \\\n",
       "29  Karnataka    Bidar  Basava Kalayana     Wheat  Medium   01/01/2024   \n",
       "\n",
       "    min_price  max_price  modal_price update_date  \n",
       "29       2000       2600       2001.0  2024-01-02  "
      ]
     },
     "execution_count": 724,
     "metadata": {},
     "output_type": "execute_result"
    }
   ],
   "source": [
    "df[(df[\"variety\"] == \"Medium\") & (df[\"modal_price\"] >= 1800)]"
   ]
  },
  {
   "cell_type": "markdown",
   "id": "f627b400",
   "metadata": {},
   "source": [
    "- Super Fine is the most Expensive variety in wheat which cost around 4000\n",
    "- Medium is the cheapest Variety of Wheat which cost around 2000"
   ]
  },
  {
   "cell_type": "code",
   "execution_count": 725,
   "id": "48e9defe",
   "metadata": {},
   "outputs": [
    {
     "data": {
      "text/plain": [
       "<Axes: xlabel='state', ylabel='modal_price'>"
      ]
     },
     "execution_count": 725,
     "metadata": {},
     "output_type": "execute_result"
    },
    {
     "data": {
      "image/png": "[encoded data removed]",
      "text/plain": [
       "<Figure size 1300x800 with 1 Axes>"
      ]
     },
     "metadata": {},
     "output_type": "display_data"
    }
   ],
   "source": [
    "plt.style.use(\"fivethirtyeight\")\n",
    "plt.figure(figsize=(13,8))\n",
    "sns.barplot(x = df.state ,y = df.modal_price)"
   ]
  },
  {
   "cell_type": "code",
   "execution_count": 726,
   "id": "1c7da0f0",
   "metadata": {},
   "outputs": [
    {
     "data": {
      "text/html": [
       "<div>\n",
       "<style scoped>\n",
       "    .dataframe tbody tr th:only-of-type {\n",
       "        vertical-align: middle;\n",
       "    }\n",
       "\n",
       "    .dataframe tbody tr th {\n",
       "        vertical-align: top;\n",
       "    }\n",
       "\n",
       "    .dataframe thead th {\n",
       "        text-align: right;\n",
       "    }\n",
       "</style>\n",
       "<table border=\"1\" class=\"dataframe\">\n",
       "  <thead>\n",
       "    <tr style=\"text-align: right;\">\n",
       "      <th></th>\n",
       "      <th>state</th>\n",
       "      <th>district</th>\n",
       "      <th>market</th>\n",
       "      <th>commodity</th>\n",
       "      <th>variety</th>\n",
       "      <th>arrival_date</th>\n",
       "      <th>min_price</th>\n",
       "      <th>max_price</th>\n",
       "      <th>modal_price</th>\n",
       "      <th>update_date</th>\n",
       "    </tr>\n",
       "  </thead>\n",
       "  <tbody>\n",
       "    <tr>\n",
       "      <th>28</th>\n",
       "      <td>Karnataka</td>\n",
       "      <td>Bangalore</td>\n",
       "      <td>Bangalore</td>\n",
       "      <td>Wheat</td>\n",
       "      <td>Local</td>\n",
       "      <td>01/01/2024</td>\n",
       "      <td>3900</td>\n",
       "      <td>4300</td>\n",
       "      <td>4100.0</td>\n",
       "      <td>2024-01-02</td>\n",
       "    </tr>\n",
       "    <tr>\n",
       "      <th>29</th>\n",
       "      <td>Karnataka</td>\n",
       "      <td>Bidar</td>\n",
       "      <td>Basava Kalayana</td>\n",
       "      <td>Wheat</td>\n",
       "      <td>Medium</td>\n",
       "      <td>01/01/2024</td>\n",
       "      <td>2000</td>\n",
       "      <td>2600</td>\n",
       "      <td>2001.0</td>\n",
       "      <td>2024-01-02</td>\n",
       "    </tr>\n",
       "    <tr>\n",
       "      <th>30</th>\n",
       "      <td>Karnataka</td>\n",
       "      <td>Bidar</td>\n",
       "      <td>Basava Kalayana</td>\n",
       "      <td>Wheat</td>\n",
       "      <td>Mexican</td>\n",
       "      <td>01/01/2024</td>\n",
       "      <td>2350</td>\n",
       "      <td>2350</td>\n",
       "      <td>2350.0</td>\n",
       "      <td>2024-01-02</td>\n",
       "    </tr>\n",
       "    <tr>\n",
       "      <th>31</th>\n",
       "      <td>Karnataka</td>\n",
       "      <td>Bidar</td>\n",
       "      <td>Bidar</td>\n",
       "      <td>Wheat</td>\n",
       "      <td>Red</td>\n",
       "      <td>01/01/2024</td>\n",
       "      <td>2700</td>\n",
       "      <td>3400</td>\n",
       "      <td>3200.0</td>\n",
       "      <td>2024-01-02</td>\n",
       "    </tr>\n",
       "    <tr>\n",
       "      <th>32</th>\n",
       "      <td>Karnataka</td>\n",
       "      <td>Bijapur</td>\n",
       "      <td>Bijapur</td>\n",
       "      <td>Wheat</td>\n",
       "      <td>Sona</td>\n",
       "      <td>01/01/2024</td>\n",
       "      <td>2600</td>\n",
       "      <td>3700</td>\n",
       "      <td>3150.0</td>\n",
       "      <td>2024-01-02</td>\n",
       "    </tr>\n",
       "    <tr>\n",
       "      <th>33</th>\n",
       "      <td>Karnataka</td>\n",
       "      <td>Dharwad</td>\n",
       "      <td>Hubli (Amaragol)</td>\n",
       "      <td>Wheat</td>\n",
       "      <td>Jawari</td>\n",
       "      <td>01/01/2024</td>\n",
       "      <td>2310</td>\n",
       "      <td>3269</td>\n",
       "      <td>2859.0</td>\n",
       "      <td>2024-01-02</td>\n",
       "    </tr>\n",
       "    <tr>\n",
       "      <th>34</th>\n",
       "      <td>Karnataka</td>\n",
       "      <td>Gadag</td>\n",
       "      <td>Laxmeshwar</td>\n",
       "      <td>Wheat</td>\n",
       "      <td>Red</td>\n",
       "      <td>01/01/2024</td>\n",
       "      <td>1850</td>\n",
       "      <td>1850</td>\n",
       "      <td>1850.0</td>\n",
       "      <td>2024-01-02</td>\n",
       "    </tr>\n",
       "    <tr>\n",
       "      <th>35</th>\n",
       "      <td>Karnataka</td>\n",
       "      <td>Shimoga</td>\n",
       "      <td>Shimoga</td>\n",
       "      <td>Wheat</td>\n",
       "      <td>Super Fine</td>\n",
       "      <td>01/01/2024</td>\n",
       "      <td>3800</td>\n",
       "      <td>4200</td>\n",
       "      <td>4000.0</td>\n",
       "      <td>2024-01-02</td>\n",
       "    </tr>\n",
       "  </tbody>\n",
       "</table>\n",
       "</div>"
      ],
      "text/plain": [
       "        state   district            market commodity     variety arrival_date  \\\n",
       "28  Karnataka  Bangalore         Bangalore     Wheat       Local   01/01/2024   \n",
       "29  Karnataka      Bidar   Basava Kalayana     Wheat      Medium   01/01/2024   \n",
       "30  Karnataka      Bidar   Basava Kalayana     Wheat     Mexican   01/01/2024   \n",
       "31  Karnataka      Bidar             Bidar     Wheat         Red   01/01/2024   \n",
       "32  Karnataka    Bijapur           Bijapur     Wheat        Sona   01/01/2024   \n",
       "33  Karnataka    Dharwad  Hubli (Amaragol)     Wheat      Jawari   01/01/2024   \n",
       "34  Karnataka      Gadag        Laxmeshwar     Wheat         Red   01/01/2024   \n",
       "35  Karnataka    Shimoga           Shimoga     Wheat  Super Fine   01/01/2024   \n",
       "\n",
       "    min_price  max_price  modal_price update_date  \n",
       "28       3900       4300       4100.0  2024-01-02  \n",
       "29       2000       2600       2001.0  2024-01-02  \n",
       "30       2350       2350       2350.0  2024-01-02  \n",
       "31       2700       3400       3200.0  2024-01-02  \n",
       "32       2600       3700       3150.0  2024-01-02  \n",
       "33       2310       3269       2859.0  2024-01-02  \n",
       "34       1850       1850       1850.0  2024-01-02  \n",
       "35       3800       4200       4000.0  2024-01-02  "
      ]
     },
     "execution_count": 726,
     "metadata": {},
     "output_type": "execute_result"
    }
   ],
   "source": [
    "df[(df[\"state\"] == \"Karnataka\")]"
   ]
  },
  {
   "cell_type": "code",
   "execution_count": 727,
   "id": "1cfbc3aa",
   "metadata": {},
   "outputs": [
    {
     "data": {
      "text/html": [
       "<div>\n",
       "<style scoped>\n",
       "    .dataframe tbody tr th:only-of-type {\n",
       "        vertical-align: middle;\n",
       "    }\n",
       "\n",
       "    .dataframe tbody tr th {\n",
       "        vertical-align: top;\n",
       "    }\n",
       "\n",
       "    .dataframe thead th {\n",
       "        text-align: right;\n",
       "    }\n",
       "</style>\n",
       "<table border=\"1\" class=\"dataframe\">\n",
       "  <thead>\n",
       "    <tr style=\"text-align: right;\">\n",
       "      <th></th>\n",
       "      <th>state</th>\n",
       "      <th>district</th>\n",
       "      <th>market</th>\n",
       "      <th>commodity</th>\n",
       "      <th>variety</th>\n",
       "      <th>arrival_date</th>\n",
       "      <th>min_price</th>\n",
       "      <th>max_price</th>\n",
       "      <th>modal_price</th>\n",
       "      <th>update_date</th>\n",
       "    </tr>\n",
       "  </thead>\n",
       "  <tbody>\n",
       "    <tr>\n",
       "      <th>176</th>\n",
       "      <td>Rajasthan</td>\n",
       "      <td>Ajmer</td>\n",
       "      <td>Madanganj Kishanganj</td>\n",
       "      <td>Wheat</td>\n",
       "      <td>Other</td>\n",
       "      <td>01/01/2024</td>\n",
       "      <td>2000</td>\n",
       "      <td>2700</td>\n",
       "      <td>2000.0</td>\n",
       "      <td>2024-01-02</td>\n",
       "    </tr>\n",
       "    <tr>\n",
       "      <th>177</th>\n",
       "      <td>Rajasthan</td>\n",
       "      <td>Ajmer</td>\n",
       "      <td>Vijay Nagar(Gulabpura)</td>\n",
       "      <td>Wheat</td>\n",
       "      <td>Other</td>\n",
       "      <td>01/01/2024</td>\n",
       "      <td>2450</td>\n",
       "      <td>2450</td>\n",
       "      <td>2450.0</td>\n",
       "      <td>2024-01-02</td>\n",
       "    </tr>\n",
       "    <tr>\n",
       "      <th>178</th>\n",
       "      <td>Rajasthan</td>\n",
       "      <td>Alwar</td>\n",
       "      <td>Alwar</td>\n",
       "      <td>Wheat</td>\n",
       "      <td>Other</td>\n",
       "      <td>01/01/2024</td>\n",
       "      <td>2260</td>\n",
       "      <td>2480</td>\n",
       "      <td>2350.0</td>\n",
       "      <td>2024-01-02</td>\n",
       "    </tr>\n",
       "    <tr>\n",
       "      <th>179</th>\n",
       "      <td>Rajasthan</td>\n",
       "      <td>Alwar</td>\n",
       "      <td>Khedh(Bodaramev)</td>\n",
       "      <td>Wheat</td>\n",
       "      <td>Other</td>\n",
       "      <td>01/01/2024</td>\n",
       "      <td>2300</td>\n",
       "      <td>2300</td>\n",
       "      <td>2300.0</td>\n",
       "      <td>2024-01-02</td>\n",
       "    </tr>\n",
       "    <tr>\n",
       "      <th>180</th>\n",
       "      <td>Rajasthan</td>\n",
       "      <td>Alwar</td>\n",
       "      <td>Khedli(laxmangarh)</td>\n",
       "      <td>Wheat</td>\n",
       "      <td>Other</td>\n",
       "      <td>01/01/2024</td>\n",
       "      <td>2310</td>\n",
       "      <td>2339</td>\n",
       "      <td>2330.0</td>\n",
       "      <td>2024-01-02</td>\n",
       "    </tr>\n",
       "    <tr>\n",
       "      <th>181</th>\n",
       "      <td>Rajasthan</td>\n",
       "      <td>Alwar</td>\n",
       "      <td>Kherli</td>\n",
       "      <td>Wheat</td>\n",
       "      <td>Other</td>\n",
       "      <td>01/01/2024</td>\n",
       "      <td>2320</td>\n",
       "      <td>2350</td>\n",
       "      <td>2335.0</td>\n",
       "      <td>2024-01-02</td>\n",
       "    </tr>\n",
       "    <tr>\n",
       "      <th>182</th>\n",
       "      <td>Rajasthan</td>\n",
       "      <td>Baran</td>\n",
       "      <td>Atru</td>\n",
       "      <td>Wheat</td>\n",
       "      <td>Other</td>\n",
       "      <td>01/01/2024</td>\n",
       "      <td>2411</td>\n",
       "      <td>2531</td>\n",
       "      <td>2471.0</td>\n",
       "      <td>2024-01-02</td>\n",
       "    </tr>\n",
       "    <tr>\n",
       "      <th>183</th>\n",
       "      <td>Rajasthan</td>\n",
       "      <td>Baran</td>\n",
       "      <td>Atru(Kawai Salpura)</td>\n",
       "      <td>Wheat</td>\n",
       "      <td>Other</td>\n",
       "      <td>01/01/2024</td>\n",
       "      <td>2450</td>\n",
       "      <td>2588</td>\n",
       "      <td>2519.0</td>\n",
       "      <td>2024-01-02</td>\n",
       "    </tr>\n",
       "    <tr>\n",
       "      <th>184</th>\n",
       "      <td>Rajasthan</td>\n",
       "      <td>Bharatpur</td>\n",
       "      <td>Bharatpur</td>\n",
       "      <td>Wheat</td>\n",
       "      <td>Other</td>\n",
       "      <td>01/01/2024</td>\n",
       "      <td>2410</td>\n",
       "      <td>2561</td>\n",
       "      <td>2486.0</td>\n",
       "      <td>2024-01-02</td>\n",
       "    </tr>\n",
       "    <tr>\n",
       "      <th>185</th>\n",
       "      <td>Rajasthan</td>\n",
       "      <td>Bharatpur</td>\n",
       "      <td>Nadwai</td>\n",
       "      <td>Wheat</td>\n",
       "      <td>Other</td>\n",
       "      <td>01/01/2024</td>\n",
       "      <td>2350</td>\n",
       "      <td>2350</td>\n",
       "      <td>2350.0</td>\n",
       "      <td>2024-01-02</td>\n",
       "    </tr>\n",
       "    <tr>\n",
       "      <th>186</th>\n",
       "      <td>Rajasthan</td>\n",
       "      <td>Bhilwara</td>\n",
       "      <td>Bhilwara</td>\n",
       "      <td>Wheat</td>\n",
       "      <td>Other</td>\n",
       "      <td>01/01/2024</td>\n",
       "      <td>2400</td>\n",
       "      <td>2400</td>\n",
       "      <td>2400.0</td>\n",
       "      <td>2024-01-02</td>\n",
       "    </tr>\n",
       "    <tr>\n",
       "      <th>187</th>\n",
       "      <td>Rajasthan</td>\n",
       "      <td>Dausa</td>\n",
       "      <td>Bandikui</td>\n",
       "      <td>Wheat</td>\n",
       "      <td>Other</td>\n",
       "      <td>01/01/2024</td>\n",
       "      <td>2150</td>\n",
       "      <td>2780</td>\n",
       "      <td>2465.0</td>\n",
       "      <td>2024-01-02</td>\n",
       "    </tr>\n",
       "    <tr>\n",
       "      <th>188</th>\n",
       "      <td>Rajasthan</td>\n",
       "      <td>Dausa</td>\n",
       "      <td>Lalsot(Mandabari)</td>\n",
       "      <td>Wheat</td>\n",
       "      <td>Other</td>\n",
       "      <td>01/01/2024</td>\n",
       "      <td>2400</td>\n",
       "      <td>2415</td>\n",
       "      <td>2407.0</td>\n",
       "      <td>2024-01-02</td>\n",
       "    </tr>\n",
       "    <tr>\n",
       "      <th>189</th>\n",
       "      <td>Rajasthan</td>\n",
       "      <td>Dausa</td>\n",
       "      <td>Lalsot(Mandabari)</td>\n",
       "      <td>Wheat</td>\n",
       "      <td>Other</td>\n",
       "      <td>02/01/2024</td>\n",
       "      <td>2261</td>\n",
       "      <td>2625</td>\n",
       "      <td>2443.0</td>\n",
       "      <td>2024-01-02</td>\n",
       "    </tr>\n",
       "    <tr>\n",
       "      <th>190</th>\n",
       "      <td>Rajasthan</td>\n",
       "      <td>Dausa</td>\n",
       "      <td>Mahuwa Mandawar</td>\n",
       "      <td>Wheat</td>\n",
       "      <td>Other</td>\n",
       "      <td>01/01/2024</td>\n",
       "      <td>2200</td>\n",
       "      <td>2290</td>\n",
       "      <td>2226.0</td>\n",
       "      <td>2024-01-02</td>\n",
       "    </tr>\n",
       "    <tr>\n",
       "      <th>191</th>\n",
       "      <td>Rajasthan</td>\n",
       "      <td>Ganganagar</td>\n",
       "      <td>Sriganganagar</td>\n",
       "      <td>Wheat</td>\n",
       "      <td>Other</td>\n",
       "      <td>01/01/2024</td>\n",
       "      <td>2365</td>\n",
       "      <td>2365</td>\n",
       "      <td>2365.0</td>\n",
       "      <td>2024-01-02</td>\n",
       "    </tr>\n",
       "    <tr>\n",
       "      <th>192</th>\n",
       "      <td>Rajasthan</td>\n",
       "      <td>Jhalawar</td>\n",
       "      <td>Khanpur</td>\n",
       "      <td>Wheat</td>\n",
       "      <td>Other</td>\n",
       "      <td>02/01/2024</td>\n",
       "      <td>2600</td>\n",
       "      <td>2641</td>\n",
       "      <td>2641.0</td>\n",
       "      <td>2024-01-02</td>\n",
       "    </tr>\n",
       "    <tr>\n",
       "      <th>193</th>\n",
       "      <td>Rajasthan</td>\n",
       "      <td>Kota</td>\n",
       "      <td>Kota</td>\n",
       "      <td>Wheat</td>\n",
       "      <td>Other</td>\n",
       "      <td>02/01/2024</td>\n",
       "      <td>2301</td>\n",
       "      <td>2762</td>\n",
       "      <td>2550.0</td>\n",
       "      <td>2024-01-02</td>\n",
       "    </tr>\n",
       "    <tr>\n",
       "      <th>194</th>\n",
       "      <td>Rajasthan</td>\n",
       "      <td>Kota</td>\n",
       "      <td>Ramaganj Mandi</td>\n",
       "      <td>Wheat</td>\n",
       "      <td>Other</td>\n",
       "      <td>01/01/2024</td>\n",
       "      <td>2340</td>\n",
       "      <td>2640</td>\n",
       "      <td>2566.0</td>\n",
       "      <td>2024-01-02</td>\n",
       "    </tr>\n",
       "    <tr>\n",
       "      <th>195</th>\n",
       "      <td>Rajasthan</td>\n",
       "      <td>Swai Madhopur</td>\n",
       "      <td>Gangapur City</td>\n",
       "      <td>Wheat</td>\n",
       "      <td>Other</td>\n",
       "      <td>01/01/2024</td>\n",
       "      <td>2341</td>\n",
       "      <td>2425</td>\n",
       "      <td>2383.0</td>\n",
       "      <td>2024-01-02</td>\n",
       "    </tr>\n",
       "    <tr>\n",
       "      <th>196</th>\n",
       "      <td>Rajasthan</td>\n",
       "      <td>Tonk</td>\n",
       "      <td>Niwai</td>\n",
       "      <td>Wheat</td>\n",
       "      <td>Other</td>\n",
       "      <td>01/01/2024</td>\n",
       "      <td>2314</td>\n",
       "      <td>2314</td>\n",
       "      <td>2314.0</td>\n",
       "      <td>2024-01-02</td>\n",
       "    </tr>\n",
       "  </tbody>\n",
       "</table>\n",
       "</div>"
      ],
      "text/plain": [
       "         state       district                  market commodity variety  \\\n",
       "176  Rajasthan          Ajmer    Madanganj Kishanganj     Wheat   Other   \n",
       "177  Rajasthan          Ajmer  Vijay Nagar(Gulabpura)     Wheat   Other   \n",
       "178  Rajasthan          Alwar                   Alwar     Wheat   Other   \n",
       "179  Rajasthan          Alwar        Khedh(Bodaramev)     Wheat   Other   \n",
       "180  Rajasthan          Alwar      Khedli(laxmangarh)     Wheat   Other   \n",
       "181  Rajasthan          Alwar                  Kherli     Wheat   Other   \n",
       "182  Rajasthan          Baran                    Atru     Wheat   Other   \n",
       "183  Rajasthan          Baran     Atru(Kawai Salpura)     Wheat   Other   \n",
       "184  Rajasthan      Bharatpur               Bharatpur     Wheat   Other   \n",
       "185  Rajasthan      Bharatpur                  Nadwai     Wheat   Other   \n",
       "186  Rajasthan       Bhilwara                Bhilwara     Wheat   Other   \n",
       "187  Rajasthan          Dausa                Bandikui     Wheat   Other   \n",
       "188  Rajasthan          Dausa       Lalsot(Mandabari)     Wheat   Other   \n",
       "189  Rajasthan          Dausa       Lalsot(Mandabari)     Wheat   Other   \n",
       "190  Rajasthan          Dausa         Mahuwa Mandawar     Wheat   Other   \n",
       "191  Rajasthan     Ganganagar           Sriganganagar     Wheat   Other   \n",
       "192  Rajasthan       Jhalawar                 Khanpur     Wheat   Other   \n",
       "193  Rajasthan           Kota                    Kota     Wheat   Other   \n",
       "194  Rajasthan           Kota          Ramaganj Mandi     Wheat   Other   \n",
       "195  Rajasthan  Swai Madhopur           Gangapur City     Wheat   Other   \n",
       "196  Rajasthan           Tonk                   Niwai     Wheat   Other   \n",
       "\n",
       "    arrival_date  min_price  max_price  modal_price update_date  \n",
       "176   01/01/2024       2000       2700       2000.0  2024-01-02  \n",
       "177   01/01/2024       2450       2450       2450.0  2024-01-02  \n",
       "178   01/01/2024       2260       2480       2350.0  2024-01-02  \n",
       "179   01/01/2024       2300       2300       2300.0  2024-01-02  \n",
       "180   01/01/2024       2310       2339       2330.0  2024-01-02  \n",
       "181   01/01/2024       2320       2350       2335.0  2024-01-02  \n",
       "182   01/01/2024       2411       2531       2471.0  2024-01-02  \n",
       "183   01/01/2024       2450       2588       2519.0  2024-01-02  \n",
       "184   01/01/2024       2410       2561       2486.0  2024-01-02  \n",
       "185   01/01/2024       2350       2350       2350.0  2024-01-02  \n",
       "186   01/01/2024       2400       2400       2400.0  2024-01-02  \n",
       "187   01/01/2024       2150       2780       2465.0  2024-01-02  \n",
       "188   01/01/2024       2400       2415       2407.0  2024-01-02  \n",
       "189   02/01/2024       2261       2625       2443.0  2024-01-02  \n",
       "190   01/01/2024       2200       2290       2226.0  2024-01-02  \n",
       "191   01/01/2024       2365       2365       2365.0  2024-01-02  \n",
       "192   02/01/2024       2600       2641       2641.0  2024-01-02  \n",
       "193   02/01/2024       2301       2762       2550.0  2024-01-02  \n",
       "194   01/01/2024       2340       2640       2566.0  2024-01-02  \n",
       "195   01/01/2024       2341       2425       2383.0  2024-01-02  \n",
       "196   01/01/2024       2314       2314       2314.0  2024-01-02  "
      ]
     },
     "execution_count": 727,
     "metadata": {},
     "output_type": "execute_result"
    }
   ],
   "source": [
    "df[(df[\"state\"] == \"Rajasthan\")]"
   ]
  },
  {
   "cell_type": "markdown",
   "id": "2168c8e3",
   "metadata": {},
   "source": [
    "### Feature Engineering"
   ]
  },
  {
   "cell_type": "code",
   "execution_count": 728,
   "id": "d009e4f8",
   "metadata": {},
   "outputs": [
    {
     "data": {
      "text/html": [
       "<div>\n",
       "<style scoped>\n",
       "    .dataframe tbody tr th:only-of-type {\n",
       "        vertical-align: middle;\n",
       "    }\n",
       "\n",
       "    .dataframe tbody tr th {\n",
       "        vertical-align: top;\n",
       "    }\n",
       "\n",
       "    .dataframe thead th {\n",
       "        text-align: right;\n",
       "    }\n",
       "</style>\n",
       "<table border=\"1\" class=\"dataframe\">\n",
       "  <thead>\n",
       "    <tr style=\"text-align: right;\">\n",
       "      <th></th>\n",
       "      <th>state</th>\n",
       "      <th>district</th>\n",
       "      <th>market</th>\n",
       "      <th>commodity</th>\n",
       "      <th>variety</th>\n",
       "      <th>arrival_date</th>\n",
       "      <th>min_price</th>\n",
       "      <th>max_price</th>\n",
       "      <th>modal_price</th>\n",
       "      <th>update_date</th>\n",
       "    </tr>\n",
       "  </thead>\n",
       "  <tbody>\n",
       "    <tr>\n",
       "      <th>0</th>\n",
       "      <td>Bihar</td>\n",
       "      <td>Muzaffarpur</td>\n",
       "      <td>Muzaffarpur</td>\n",
       "      <td>Wheat</td>\n",
       "      <td>147 Average</td>\n",
       "      <td>01/01/2024</td>\n",
       "      <td>2500</td>\n",
       "      <td>2590</td>\n",
       "      <td>2550.0</td>\n",
       "      <td>2024-01-02</td>\n",
       "    </tr>\n",
       "    <tr>\n",
       "      <th>1</th>\n",
       "      <td>Gujarat</td>\n",
       "      <td>Amreli</td>\n",
       "      <td>Bagasara</td>\n",
       "      <td>Wheat</td>\n",
       "      <td>Lokwan Gujrat</td>\n",
       "      <td>02/01/2024</td>\n",
       "      <td>2370</td>\n",
       "      <td>2700</td>\n",
       "      <td>2535.0</td>\n",
       "      <td>2024-01-02</td>\n",
       "    </tr>\n",
       "    <tr>\n",
       "      <th>2</th>\n",
       "      <td>Gujarat</td>\n",
       "      <td>Anand</td>\n",
       "      <td>Khambhat(Grain Market)</td>\n",
       "      <td>Wheat</td>\n",
       "      <td>Other</td>\n",
       "      <td>02/01/2024</td>\n",
       "      <td>2000</td>\n",
       "      <td>2550</td>\n",
       "      <td>2250.0</td>\n",
       "      <td>2024-01-02</td>\n",
       "    </tr>\n",
       "    <tr>\n",
       "      <th>3</th>\n",
       "      <td>Gujarat</td>\n",
       "      <td>Banaskanth</td>\n",
       "      <td>Deesa</td>\n",
       "      <td>Wheat</td>\n",
       "      <td>Other</td>\n",
       "      <td>02/01/2024</td>\n",
       "      <td>2415</td>\n",
       "      <td>2590</td>\n",
       "      <td>2500.0</td>\n",
       "      <td>2024-01-02</td>\n",
       "    </tr>\n",
       "    <tr>\n",
       "      <th>4</th>\n",
       "      <td>Gujarat</td>\n",
       "      <td>Banaskanth</td>\n",
       "      <td>Dhanera</td>\n",
       "      <td>Wheat</td>\n",
       "      <td>Other</td>\n",
       "      <td>01/01/2024</td>\n",
       "      <td>2715</td>\n",
       "      <td>2715</td>\n",
       "      <td>2715.0</td>\n",
       "      <td>2024-01-02</td>\n",
       "    </tr>\n",
       "  </tbody>\n",
       "</table>\n",
       "</div>"
      ],
      "text/plain": [
       "     state     district                  market commodity        variety  \\\n",
       "0    Bihar  Muzaffarpur             Muzaffarpur     Wheat    147 Average   \n",
       "1  Gujarat       Amreli                Bagasara     Wheat  Lokwan Gujrat   \n",
       "2  Gujarat        Anand  Khambhat(Grain Market)     Wheat          Other   \n",
       "3  Gujarat   Banaskanth                   Deesa     Wheat          Other   \n",
       "4  Gujarat   Banaskanth                 Dhanera     Wheat          Other   \n",
       "\n",
       "  arrival_date  min_price  max_price  modal_price update_date  \n",
       "0   01/01/2024       2500       2590       2550.0  2024-01-02  \n",
       "1   02/01/2024       2370       2700       2535.0  2024-01-02  \n",
       "2   02/01/2024       2000       2550       2250.0  2024-01-02  \n",
       "3   02/01/2024       2415       2590       2500.0  2024-01-02  \n",
       "4   01/01/2024       2715       2715       2715.0  2024-01-02  "
      ]
     },
     "execution_count": 728,
     "metadata": {},
     "output_type": "execute_result"
    }
   ],
   "source": [
    "df.head()"
   ]
  },
  {
   "cell_type": "code",
   "execution_count": 729,
   "id": "d2e690b3",
   "metadata": {},
   "outputs": [],
   "source": [
    "df[\"arrival_date\"] = pd.to_datetime(df[\"arrival_date\"], format='%d/%m/%Y')"
   ]
  },
  {
   "cell_type": "code",
   "execution_count": 730,
   "id": "2bd0cd82",
   "metadata": {},
   "outputs": [
    {
     "data": {
      "text/html": [
       "<div>\n",
       "<style scoped>\n",
       "    .dataframe tbody tr th:only-of-type {\n",
       "        vertical-align: middle;\n",
       "    }\n",
       "\n",
       "    .dataframe tbody tr th {\n",
       "        vertical-align: top;\n",
       "    }\n",
       "\n",
       "    .dataframe thead th {\n",
       "        text-align: right;\n",
       "    }\n",
       "</style>\n",
       "<table border=\"1\" class=\"dataframe\">\n",
       "  <thead>\n",
       "    <tr style=\"text-align: right;\">\n",
       "      <th></th>\n",
       "      <th>state</th>\n",
       "      <th>district</th>\n",
       "      <th>market</th>\n",
       "      <th>commodity</th>\n",
       "      <th>variety</th>\n",
       "      <th>arrival_date</th>\n",
       "      <th>min_price</th>\n",
       "      <th>max_price</th>\n",
       "      <th>modal_price</th>\n",
       "      <th>update_date</th>\n",
       "    </tr>\n",
       "  </thead>\n",
       "  <tbody>\n",
       "    <tr>\n",
       "      <th>0</th>\n",
       "      <td>Bihar</td>\n",
       "      <td>Muzaffarpur</td>\n",
       "      <td>Muzaffarpur</td>\n",
       "      <td>Wheat</td>\n",
       "      <td>147 Average</td>\n",
       "      <td>2024-01-01</td>\n",
       "      <td>2500</td>\n",
       "      <td>2590</td>\n",
       "      <td>2550.0</td>\n",
       "      <td>2024-01-02</td>\n",
       "    </tr>\n",
       "    <tr>\n",
       "      <th>1</th>\n",
       "      <td>Gujarat</td>\n",
       "      <td>Amreli</td>\n",
       "      <td>Bagasara</td>\n",
       "      <td>Wheat</td>\n",
       "      <td>Lokwan Gujrat</td>\n",
       "      <td>2024-01-02</td>\n",
       "      <td>2370</td>\n",
       "      <td>2700</td>\n",
       "      <td>2535.0</td>\n",
       "      <td>2024-01-02</td>\n",
       "    </tr>\n",
       "    <tr>\n",
       "      <th>2</th>\n",
       "      <td>Gujarat</td>\n",
       "      <td>Anand</td>\n",
       "      <td>Khambhat(Grain Market)</td>\n",
       "      <td>Wheat</td>\n",
       "      <td>Other</td>\n",
       "      <td>2024-01-02</td>\n",
       "      <td>2000</td>\n",
       "      <td>2550</td>\n",
       "      <td>2250.0</td>\n",
       "      <td>2024-01-02</td>\n",
       "    </tr>\n",
       "    <tr>\n",
       "      <th>3</th>\n",
       "      <td>Gujarat</td>\n",
       "      <td>Banaskanth</td>\n",
       "      <td>Deesa</td>\n",
       "      <td>Wheat</td>\n",
       "      <td>Other</td>\n",
       "      <td>2024-01-02</td>\n",
       "      <td>2415</td>\n",
       "      <td>2590</td>\n",
       "      <td>2500.0</td>\n",
       "      <td>2024-01-02</td>\n",
       "    </tr>\n",
       "    <tr>\n",
       "      <th>4</th>\n",
       "      <td>Gujarat</td>\n",
       "      <td>Banaskanth</td>\n",
       "      <td>Dhanera</td>\n",
       "      <td>Wheat</td>\n",
       "      <td>Other</td>\n",
       "      <td>2024-01-01</td>\n",
       "      <td>2715</td>\n",
       "      <td>2715</td>\n",
       "      <td>2715.0</td>\n",
       "      <td>2024-01-02</td>\n",
       "    </tr>\n",
       "  </tbody>\n",
       "</table>\n",
       "</div>"
      ],
      "text/plain": [
       "     state     district                  market commodity        variety  \\\n",
       "0    Bihar  Muzaffarpur             Muzaffarpur     Wheat    147 Average   \n",
       "1  Gujarat       Amreli                Bagasara     Wheat  Lokwan Gujrat   \n",
       "2  Gujarat        Anand  Khambhat(Grain Market)     Wheat          Other   \n",
       "3  Gujarat   Banaskanth                   Deesa     Wheat          Other   \n",
       "4  Gujarat   Banaskanth                 Dhanera     Wheat          Other   \n",
       "\n",
       "  arrival_date  min_price  max_price  modal_price update_date  \n",
       "0   2024-01-01       2500       2590       2550.0  2024-01-02  \n",
       "1   2024-01-02       2370       2700       2535.0  2024-01-02  \n",
       "2   2024-01-02       2000       2550       2250.0  2024-01-02  \n",
       "3   2024-01-02       2415       2590       2500.0  2024-01-02  \n",
       "4   2024-01-01       2715       2715       2715.0  2024-01-02  "
      ]
     },
     "execution_count": 730,
     "metadata": {},
     "output_type": "execute_result"
    }
   ],
   "source": [
    "df.head()"
   ]
  },
  {
   "cell_type": "code",
   "execution_count": 731,
   "id": "61d27195",
   "metadata": {},
   "outputs": [],
   "source": [
    "# df.drop([\"market\", \"district\", \"commodity\", \"update_date\"], axis=1 , inplace=True)"
   ]
  },
  {
   "cell_type": "code",
   "execution_count": 732,
   "id": "29d45234",
   "metadata": {},
   "outputs": [
    {
     "name": "stdout",
     "output_type": "stream",
     "text": [
      "<class 'pandas.core.frame.DataFrame'>\n",
      "RangeIndex: 384 entries, 0 to 383\n",
      "Data columns (total 10 columns):\n",
      " #   Column        Non-Null Count  Dtype         \n",
      "---  ------        --------------  -----         \n",
      " 0   state         384 non-null    object        \n",
      " 1   district      384 non-null    object        \n",
      " 2   market        384 non-null    object        \n",
      " 3   commodity     384 non-null    object        \n",
      " 4   variety       384 non-null    object        \n",
      " 5   arrival_date  384 non-null    datetime64[ns]\n",
      " 6   min_price     384 non-null    int64         \n",
      " 7   max_price     384 non-null    int64         \n",
      " 8   modal_price   384 non-null    float64       \n",
      " 9   update_date   384 non-null    object        \n",
      "dtypes: datetime64[ns](1), float64(1), int64(2), object(6)\n",
      "memory usage: 30.1+ KB\n"
     ]
    }
   ],
   "source": [
    "df.info()"
   ]
  },
  {
   "cell_type": "code",
   "execution_count": 733,
   "id": "89e2d6f6",
   "metadata": {},
   "outputs": [],
   "source": [
    "cat_feature = [feature for feature in df.columns if df[feature].dtypes == \"O\"]"
   ]
  },
  {
   "cell_type": "code",
   "execution_count": 734,
   "id": "a86295cc",
   "metadata": {},
   "outputs": [
    {
     "data": {
      "text/plain": [
       "['state', 'district', 'market', 'commodity', 'variety', 'update_date']"
      ]
     },
     "execution_count": 734,
     "metadata": {},
     "output_type": "execute_result"
    }
   ],
   "source": [
    "cat_feature"
   ]
  },
  {
   "cell_type": "code",
   "execution_count": 735,
   "id": "c2f184dc",
   "metadata": {},
   "outputs": [],
   "source": [
    "le = LabelEncoder()\n",
    "for i in cat_feature:\n",
    "    df[i] = le.fit_transform(df[i]) "
   ]
  },
  {
   "cell_type": "code",
   "execution_count": 736,
   "id": "e3752f9d",
   "metadata": {},
   "outputs": [
    {
     "data": {
      "text/html": [
       "<div>\n",
       "<style scoped>\n",
       "    .dataframe tbody tr th:only-of-type {\n",
       "        vertical-align: middle;\n",
       "    }\n",
       "\n",
       "    .dataframe tbody tr th {\n",
       "        vertical-align: top;\n",
       "    }\n",
       "\n",
       "    .dataframe thead th {\n",
       "        text-align: right;\n",
       "    }\n",
       "</style>\n",
       "<table border=\"1\" class=\"dataframe\">\n",
       "  <thead>\n",
       "    <tr style=\"text-align: right;\">\n",
       "      <th></th>\n",
       "      <th>state</th>\n",
       "      <th>district</th>\n",
       "      <th>market</th>\n",
       "      <th>commodity</th>\n",
       "      <th>variety</th>\n",
       "      <th>arrival_date</th>\n",
       "      <th>min_price</th>\n",
       "      <th>max_price</th>\n",
       "      <th>modal_price</th>\n",
       "      <th>update_date</th>\n",
       "    </tr>\n",
       "  </thead>\n",
       "  <tbody>\n",
       "    <tr>\n",
       "      <th>0</th>\n",
       "      <td>0</td>\n",
       "      <td>100</td>\n",
       "      <td>189</td>\n",
       "      <td>0</td>\n",
       "      <td>0</td>\n",
       "      <td>2024-01-01</td>\n",
       "      <td>2500</td>\n",
       "      <td>2590</td>\n",
       "      <td>2550.0</td>\n",
       "      <td>0</td>\n",
       "    </tr>\n",
       "    <tr>\n",
       "      <th>1</th>\n",
       "      <td>1</td>\n",
       "      <td>9</td>\n",
       "      <td>31</td>\n",
       "      <td>0</td>\n",
       "      <td>8</td>\n",
       "      <td>2024-01-02</td>\n",
       "      <td>2370</td>\n",
       "      <td>2700</td>\n",
       "      <td>2535.0</td>\n",
       "      <td>0</td>\n",
       "    </tr>\n",
       "    <tr>\n",
       "      <th>2</th>\n",
       "      <td>1</td>\n",
       "      <td>10</td>\n",
       "      <td>136</td>\n",
       "      <td>0</td>\n",
       "      <td>13</td>\n",
       "      <td>2024-01-02</td>\n",
       "      <td>2000</td>\n",
       "      <td>2550</td>\n",
       "      <td>2250.0</td>\n",
       "      <td>0</td>\n",
       "    </tr>\n",
       "    <tr>\n",
       "      <th>3</th>\n",
       "      <td>1</td>\n",
       "      <td>19</td>\n",
       "      <td>70</td>\n",
       "      <td>0</td>\n",
       "      <td>13</td>\n",
       "      <td>2024-01-02</td>\n",
       "      <td>2415</td>\n",
       "      <td>2590</td>\n",
       "      <td>2500.0</td>\n",
       "      <td>0</td>\n",
       "    </tr>\n",
       "    <tr>\n",
       "      <th>4</th>\n",
       "      <td>1</td>\n",
       "      <td>19</td>\n",
       "      <td>76</td>\n",
       "      <td>0</td>\n",
       "      <td>13</td>\n",
       "      <td>2024-01-01</td>\n",
       "      <td>2715</td>\n",
       "      <td>2715</td>\n",
       "      <td>2715.0</td>\n",
       "      <td>0</td>\n",
       "    </tr>\n",
       "  </tbody>\n",
       "</table>\n",
       "</div>"
      ],
      "text/plain": [
       "   state  district  market  commodity  variety arrival_date  min_price  \\\n",
       "0      0       100     189          0        0   2024-01-01       2500   \n",
       "1      1         9      31          0        8   2024-01-02       2370   \n",
       "2      1        10     136          0       13   2024-01-02       2000   \n",
       "3      1        19      70          0       13   2024-01-02       2415   \n",
       "4      1        19      76          0       13   2024-01-01       2715   \n",
       "\n",
       "   max_price  modal_price  update_date  \n",
       "0       2590       2550.0            0  \n",
       "1       2700       2535.0            0  \n",
       "2       2550       2250.0            0  \n",
       "3       2590       2500.0            0  \n",
       "4       2715       2715.0            0  "
      ]
     },
     "execution_count": 736,
     "metadata": {},
     "output_type": "execute_result"
    }
   ],
   "source": [
    "df.head()"
   ]
  },
  {
   "cell_type": "code",
   "execution_count": 737,
   "id": "49d0a3c5",
   "metadata": {},
   "outputs": [
    {
     "data": {
      "text/plain": [
       "state\n",
       "6    182\n",
       "4     74\n",
       "3     66\n",
       "1     27\n",
       "5     21\n",
       "2      8\n",
       "7      5\n",
       "0      1\n",
       "Name: count, dtype: int64"
      ]
     },
     "execution_count": 737,
     "metadata": {},
     "output_type": "execute_result"
    }
   ],
   "source": [
    "df[\"state\"].value_counts()"
   ]
  },
  {
   "cell_type": "code",
   "execution_count": 738,
   "id": "9280b647",
   "metadata": {},
   "outputs": [
    {
     "data": {
      "text/plain": [
       "variety\n",
       "1     181\n",
       "13     85\n",
       "12     39\n",
       "7      22\n",
       "16     15\n",
       "9      12\n",
       "18      5\n",
       "6       4\n",
       "8       4\n",
       "3       3\n",
       "15      2\n",
       "0       2\n",
       "14      2\n",
       "2       2\n",
       "17      1\n",
       "4       1\n",
       "19      1\n",
       "10      1\n",
       "5       1\n",
       "11      1\n",
       "Name: count, dtype: int64"
      ]
     },
     "execution_count": 738,
     "metadata": {},
     "output_type": "execute_result"
    }
   ],
   "source": [
    "df[\"variety\"].value_counts()"
   ]
  },
  {
   "cell_type": "code",
   "execution_count": 739,
   "id": "2f03106d",
   "metadata": {},
   "outputs": [
    {
     "data": {
      "text/html": [
       "<div>\n",
       "<style scoped>\n",
       "    .dataframe tbody tr th:only-of-type {\n",
       "        vertical-align: middle;\n",
       "    }\n",
       "\n",
       "    .dataframe tbody tr th {\n",
       "        vertical-align: top;\n",
       "    }\n",
       "\n",
       "    .dataframe thead th {\n",
       "        text-align: right;\n",
       "    }\n",
       "</style>\n",
       "<table border=\"1\" class=\"dataframe\">\n",
       "  <thead>\n",
       "    <tr style=\"text-align: right;\">\n",
       "      <th></th>\n",
       "      <th>state</th>\n",
       "      <th>district</th>\n",
       "      <th>market</th>\n",
       "      <th>commodity</th>\n",
       "      <th>variety</th>\n",
       "      <th>arrival_date</th>\n",
       "      <th>min_price</th>\n",
       "      <th>max_price</th>\n",
       "      <th>modal_price</th>\n",
       "      <th>update_date</th>\n",
       "    </tr>\n",
       "  </thead>\n",
       "  <tbody>\n",
       "    <tr>\n",
       "      <th>0</th>\n",
       "      <td>0</td>\n",
       "      <td>100</td>\n",
       "      <td>189</td>\n",
       "      <td>0</td>\n",
       "      <td>0</td>\n",
       "      <td>2024-01-01</td>\n",
       "      <td>2500</td>\n",
       "      <td>2590</td>\n",
       "      <td>2550.0</td>\n",
       "      <td>0</td>\n",
       "    </tr>\n",
       "    <tr>\n",
       "      <th>1</th>\n",
       "      <td>1</td>\n",
       "      <td>9</td>\n",
       "      <td>31</td>\n",
       "      <td>0</td>\n",
       "      <td>8</td>\n",
       "      <td>2024-01-02</td>\n",
       "      <td>2370</td>\n",
       "      <td>2700</td>\n",
       "      <td>2535.0</td>\n",
       "      <td>0</td>\n",
       "    </tr>\n",
       "    <tr>\n",
       "      <th>2</th>\n",
       "      <td>1</td>\n",
       "      <td>10</td>\n",
       "      <td>136</td>\n",
       "      <td>0</td>\n",
       "      <td>13</td>\n",
       "      <td>2024-01-02</td>\n",
       "      <td>2000</td>\n",
       "      <td>2550</td>\n",
       "      <td>2250.0</td>\n",
       "      <td>0</td>\n",
       "    </tr>\n",
       "    <tr>\n",
       "      <th>3</th>\n",
       "      <td>1</td>\n",
       "      <td>19</td>\n",
       "      <td>70</td>\n",
       "      <td>0</td>\n",
       "      <td>13</td>\n",
       "      <td>2024-01-02</td>\n",
       "      <td>2415</td>\n",
       "      <td>2590</td>\n",
       "      <td>2500.0</td>\n",
       "      <td>0</td>\n",
       "    </tr>\n",
       "    <tr>\n",
       "      <th>4</th>\n",
       "      <td>1</td>\n",
       "      <td>19</td>\n",
       "      <td>76</td>\n",
       "      <td>0</td>\n",
       "      <td>13</td>\n",
       "      <td>2024-01-01</td>\n",
       "      <td>2715</td>\n",
       "      <td>2715</td>\n",
       "      <td>2715.0</td>\n",
       "      <td>0</td>\n",
       "    </tr>\n",
       "  </tbody>\n",
       "</table>\n",
       "</div>"
      ],
      "text/plain": [
       "   state  district  market  commodity  variety arrival_date  min_price  \\\n",
       "0      0       100     189          0        0   2024-01-01       2500   \n",
       "1      1         9      31          0        8   2024-01-02       2370   \n",
       "2      1        10     136          0       13   2024-01-02       2000   \n",
       "3      1        19      70          0       13   2024-01-02       2415   \n",
       "4      1        19      76          0       13   2024-01-01       2715   \n",
       "\n",
       "   max_price  modal_price  update_date  \n",
       "0       2590       2550.0            0  \n",
       "1       2700       2535.0            0  \n",
       "2       2550       2250.0            0  \n",
       "3       2590       2500.0            0  \n",
       "4       2715       2715.0            0  "
      ]
     },
     "execution_count": 739,
     "metadata": {},
     "output_type": "execute_result"
    }
   ],
   "source": [
    "df.head()"
   ]
  },
  {
   "cell_type": "code",
   "execution_count": 740,
   "id": "6dc875e0",
   "metadata": {},
   "outputs": [],
   "source": [
    "# droping Update column\n",
    "df.drop(\"update_date\", axis = 1 , inplace=True)"
   ]
  },
  {
   "cell_type": "code",
   "execution_count": 741,
   "id": "36cc5372",
   "metadata": {},
   "outputs": [
    {
     "data": {
      "text/html": [
       "<div>\n",
       "<style scoped>\n",
       "    .dataframe tbody tr th:only-of-type {\n",
       "        vertical-align: middle;\n",
       "    }\n",
       "\n",
       "    .dataframe tbody tr th {\n",
       "        vertical-align: top;\n",
       "    }\n",
       "\n",
       "    .dataframe thead th {\n",
       "        text-align: right;\n",
       "    }\n",
       "</style>\n",
       "<table border=\"1\" class=\"dataframe\">\n",
       "  <thead>\n",
       "    <tr style=\"text-align: right;\">\n",
       "      <th></th>\n",
       "      <th>state</th>\n",
       "      <th>district</th>\n",
       "      <th>market</th>\n",
       "      <th>commodity</th>\n",
       "      <th>variety</th>\n",
       "      <th>arrival_date</th>\n",
       "      <th>min_price</th>\n",
       "      <th>max_price</th>\n",
       "      <th>modal_price</th>\n",
       "    </tr>\n",
       "  </thead>\n",
       "  <tbody>\n",
       "    <tr>\n",
       "      <th>0</th>\n",
       "      <td>0</td>\n",
       "      <td>100</td>\n",
       "      <td>189</td>\n",
       "      <td>0</td>\n",
       "      <td>0</td>\n",
       "      <td>2024-01-01</td>\n",
       "      <td>2500</td>\n",
       "      <td>2590</td>\n",
       "      <td>2550.0</td>\n",
       "    </tr>\n",
       "    <tr>\n",
       "      <th>1</th>\n",
       "      <td>1</td>\n",
       "      <td>9</td>\n",
       "      <td>31</td>\n",
       "      <td>0</td>\n",
       "      <td>8</td>\n",
       "      <td>2024-01-02</td>\n",
       "      <td>2370</td>\n",
       "      <td>2700</td>\n",
       "      <td>2535.0</td>\n",
       "    </tr>\n",
       "  </tbody>\n",
       "</table>\n",
       "</div>"
      ],
      "text/plain": [
       "   state  district  market  commodity  variety arrival_date  min_price  \\\n",
       "0      0       100     189          0        0   2024-01-01       2500   \n",
       "1      1         9      31          0        8   2024-01-02       2370   \n",
       "\n",
       "   max_price  modal_price  \n",
       "0       2590       2550.0  \n",
       "1       2700       2535.0  "
      ]
     },
     "execution_count": 741,
     "metadata": {},
     "output_type": "execute_result"
    }
   ],
   "source": [
    "df.head(2)"
   ]
  },
  {
   "cell_type": "markdown",
   "id": "e86d45ee",
   "metadata": {},
   "source": [
    "### Outliers handling"
   ]
  },
  {
   "cell_type": "code",
   "execution_count": 742,
   "id": "8ecac2f6",
   "metadata": {},
   "outputs": [],
   "source": [
    "# for column in df.columns:\n",
    "#     if df[column].dtype != 'object':\n",
    "#         Q1 = df[column].quantile(0.25)\n",
    "#         Q3 = df[column].quantile(0.75)\n",
    "#         IQR = Q3 - Q1\n",
    "#         lower_bound = Q1 - 1.5 * IQR\n",
    "#         upper_bound = Q3 + 1.5 * IQR\n",
    "#         df[column] = df[column].apply(lambda x: x if lower_bound <= x <= upper_bound else df[column].median())"
   ]
  },
  {
   "cell_type": "code",
   "execution_count": 743,
   "id": "745dff7d",
   "metadata": {},
   "outputs": [
    {
     "data": {
      "text/html": [
       "<div>\n",
       "<style scoped>\n",
       "    .dataframe tbody tr th:only-of-type {\n",
       "        vertical-align: middle;\n",
       "    }\n",
       "\n",
       "    .dataframe tbody tr th {\n",
       "        vertical-align: top;\n",
       "    }\n",
       "\n",
       "    .dataframe thead th {\n",
       "        text-align: right;\n",
       "    }\n",
       "</style>\n",
       "<table border=\"1\" class=\"dataframe\">\n",
       "  <thead>\n",
       "    <tr style=\"text-align: right;\">\n",
       "      <th></th>\n",
       "      <th>state</th>\n",
       "      <th>district</th>\n",
       "      <th>market</th>\n",
       "      <th>commodity</th>\n",
       "      <th>variety</th>\n",
       "      <th>arrival_date</th>\n",
       "      <th>min_price</th>\n",
       "      <th>max_price</th>\n",
       "      <th>modal_price</th>\n",
       "    </tr>\n",
       "  </thead>\n",
       "  <tbody>\n",
       "    <tr>\n",
       "      <th>354</th>\n",
       "      <td>6</td>\n",
       "      <td>113</td>\n",
       "      <td>229</td>\n",
       "      <td>0</td>\n",
       "      <td>1</td>\n",
       "      <td>2024-01-02</td>\n",
       "      <td>2390</td>\n",
       "      <td>2410</td>\n",
       "      <td>2400.0</td>\n",
       "    </tr>\n",
       "    <tr>\n",
       "      <th>257</th>\n",
       "      <td>6</td>\n",
       "      <td>52</td>\n",
       "      <td>58</td>\n",
       "      <td>0</td>\n",
       "      <td>1</td>\n",
       "      <td>2024-01-02</td>\n",
       "      <td>2200</td>\n",
       "      <td>2500</td>\n",
       "      <td>2450.0</td>\n",
       "    </tr>\n",
       "    <tr>\n",
       "      <th>197</th>\n",
       "      <td>6</td>\n",
       "      <td>0</td>\n",
       "      <td>1</td>\n",
       "      <td>0</td>\n",
       "      <td>1</td>\n",
       "      <td>2024-01-01</td>\n",
       "      <td>2480</td>\n",
       "      <td>2560</td>\n",
       "      <td>2520.0</td>\n",
       "    </tr>\n",
       "    <tr>\n",
       "      <th>154</th>\n",
       "      <td>4</td>\n",
       "      <td>108</td>\n",
       "      <td>209</td>\n",
       "      <td>0</td>\n",
       "      <td>13</td>\n",
       "      <td>2024-01-02</td>\n",
       "      <td>2400</td>\n",
       "      <td>2781</td>\n",
       "      <td>2511.0</td>\n",
       "    </tr>\n",
       "    <tr>\n",
       "      <th>87</th>\n",
       "      <td>3</td>\n",
       "      <td>122</td>\n",
       "      <td>235</td>\n",
       "      <td>0</td>\n",
       "      <td>7</td>\n",
       "      <td>2024-01-01</td>\n",
       "      <td>2393</td>\n",
       "      <td>2408</td>\n",
       "      <td>2421.0</td>\n",
       "    </tr>\n",
       "    <tr>\n",
       "      <th>37</th>\n",
       "      <td>3</td>\n",
       "      <td>11</td>\n",
       "      <td>18</td>\n",
       "      <td>0</td>\n",
       "      <td>16</td>\n",
       "      <td>2024-01-02</td>\n",
       "      <td>4701</td>\n",
       "      <td>4701</td>\n",
       "      <td>2485.0</td>\n",
       "    </tr>\n",
       "    <tr>\n",
       "      <th>88</th>\n",
       "      <td>3</td>\n",
       "      <td>123</td>\n",
       "      <td>236</td>\n",
       "      <td>0</td>\n",
       "      <td>7</td>\n",
       "      <td>2024-01-01</td>\n",
       "      <td>2750</td>\n",
       "      <td>3100</td>\n",
       "      <td>2478.0</td>\n",
       "    </tr>\n",
       "    <tr>\n",
       "      <th>145</th>\n",
       "      <td>4</td>\n",
       "      <td>105</td>\n",
       "      <td>161</td>\n",
       "      <td>0</td>\n",
       "      <td>13</td>\n",
       "      <td>2024-01-01</td>\n",
       "      <td>2351</td>\n",
       "      <td>2811</td>\n",
       "      <td>2501.0</td>\n",
       "    </tr>\n",
       "    <tr>\n",
       "      <th>234</th>\n",
       "      <td>6</td>\n",
       "      <td>25</td>\n",
       "      <td>42</td>\n",
       "      <td>0</td>\n",
       "      <td>1</td>\n",
       "      <td>2024-01-01</td>\n",
       "      <td>2400</td>\n",
       "      <td>2500</td>\n",
       "      <td>2450.0</td>\n",
       "    </tr>\n",
       "    <tr>\n",
       "      <th>225</th>\n",
       "      <td>6</td>\n",
       "      <td>17</td>\n",
       "      <td>34</td>\n",
       "      <td>0</td>\n",
       "      <td>1</td>\n",
       "      <td>2024-01-02</td>\n",
       "      <td>2440</td>\n",
       "      <td>2560</td>\n",
       "      <td>2500.0</td>\n",
       "    </tr>\n",
       "    <tr>\n",
       "      <th>43</th>\n",
       "      <td>3</td>\n",
       "      <td>41</td>\n",
       "      <td>69</td>\n",
       "      <td>0</td>\n",
       "      <td>12</td>\n",
       "      <td>2024-01-02</td>\n",
       "      <td>2408</td>\n",
       "      <td>2410</td>\n",
       "      <td>2408.0</td>\n",
       "    </tr>\n",
       "    <tr>\n",
       "      <th>3</th>\n",
       "      <td>1</td>\n",
       "      <td>19</td>\n",
       "      <td>70</td>\n",
       "      <td>0</td>\n",
       "      <td>13</td>\n",
       "      <td>2024-01-02</td>\n",
       "      <td>2415</td>\n",
       "      <td>2590</td>\n",
       "      <td>2500.0</td>\n",
       "    </tr>\n",
       "    <tr>\n",
       "      <th>110</th>\n",
       "      <td>4</td>\n",
       "      <td>7</td>\n",
       "      <td>14</td>\n",
       "      <td>0</td>\n",
       "      <td>13</td>\n",
       "      <td>2024-01-01</td>\n",
       "      <td>2450</td>\n",
       "      <td>2600</td>\n",
       "      <td>2525.0</td>\n",
       "    </tr>\n",
       "    <tr>\n",
       "      <th>187</th>\n",
       "      <td>5</td>\n",
       "      <td>42</td>\n",
       "      <td>36</td>\n",
       "      <td>0</td>\n",
       "      <td>13</td>\n",
       "      <td>2024-01-01</td>\n",
       "      <td>2150</td>\n",
       "      <td>2780</td>\n",
       "      <td>2465.0</td>\n",
       "    </tr>\n",
       "    <tr>\n",
       "      <th>349</th>\n",
       "      <td>6</td>\n",
       "      <td>113</td>\n",
       "      <td>117</td>\n",
       "      <td>0</td>\n",
       "      <td>1</td>\n",
       "      <td>2024-01-01</td>\n",
       "      <td>2520</td>\n",
       "      <td>2530</td>\n",
       "      <td>2525.0</td>\n",
       "    </tr>\n",
       "    <tr>\n",
       "      <th>58</th>\n",
       "      <td>3</td>\n",
       "      <td>64</td>\n",
       "      <td>260</td>\n",
       "      <td>0</td>\n",
       "      <td>12</td>\n",
       "      <td>2024-01-01</td>\n",
       "      <td>2411</td>\n",
       "      <td>2546</td>\n",
       "      <td>2411.0</td>\n",
       "    </tr>\n",
       "    <tr>\n",
       "      <th>228</th>\n",
       "      <td>6</td>\n",
       "      <td>20</td>\n",
       "      <td>19</td>\n",
       "      <td>0</td>\n",
       "      <td>1</td>\n",
       "      <td>2024-01-01</td>\n",
       "      <td>2290</td>\n",
       "      <td>2450</td>\n",
       "      <td>2370.0</td>\n",
       "    </tr>\n",
       "    <tr>\n",
       "      <th>44</th>\n",
       "      <td>3</td>\n",
       "      <td>44</td>\n",
       "      <td>75</td>\n",
       "      <td>0</td>\n",
       "      <td>7</td>\n",
       "      <td>2024-01-02</td>\n",
       "      <td>2450</td>\n",
       "      <td>2450</td>\n",
       "      <td>2450.0</td>\n",
       "    </tr>\n",
       "    <tr>\n",
       "      <th>250</th>\n",
       "      <td>6</td>\n",
       "      <td>50</td>\n",
       "      <td>86</td>\n",
       "      <td>0</td>\n",
       "      <td>1</td>\n",
       "      <td>2024-01-01</td>\n",
       "      <td>2400</td>\n",
       "      <td>2570</td>\n",
       "      <td>2525.0</td>\n",
       "    </tr>\n",
       "    <tr>\n",
       "      <th>201</th>\n",
       "      <td>6</td>\n",
       "      <td>4</td>\n",
       "      <td>10</td>\n",
       "      <td>0</td>\n",
       "      <td>1</td>\n",
       "      <td>2024-01-01</td>\n",
       "      <td>2430</td>\n",
       "      <td>2470</td>\n",
       "      <td>2450.0</td>\n",
       "    </tr>\n",
       "  </tbody>\n",
       "</table>\n",
       "</div>"
      ],
      "text/plain": [
       "     state  district  market  commodity  variety arrival_date  min_price  \\\n",
       "354      6       113     229          0        1   2024-01-02       2390   \n",
       "257      6        52      58          0        1   2024-01-02       2200   \n",
       "197      6         0       1          0        1   2024-01-01       2480   \n",
       "154      4       108     209          0       13   2024-01-02       2400   \n",
       "87       3       122     235          0        7   2024-01-01       2393   \n",
       "37       3        11      18          0       16   2024-01-02       4701   \n",
       "88       3       123     236          0        7   2024-01-01       2750   \n",
       "145      4       105     161          0       13   2024-01-01       2351   \n",
       "234      6        25      42          0        1   2024-01-01       2400   \n",
       "225      6        17      34          0        1   2024-01-02       2440   \n",
       "43       3        41      69          0       12   2024-01-02       2408   \n",
       "3        1        19      70          0       13   2024-01-02       2415   \n",
       "110      4         7      14          0       13   2024-01-01       2450   \n",
       "187      5        42      36          0       13   2024-01-01       2150   \n",
       "349      6       113     117          0        1   2024-01-01       2520   \n",
       "58       3        64     260          0       12   2024-01-01       2411   \n",
       "228      6        20      19          0        1   2024-01-01       2290   \n",
       "44       3        44      75          0        7   2024-01-02       2450   \n",
       "250      6        50      86          0        1   2024-01-01       2400   \n",
       "201      6         4      10          0        1   2024-01-01       2430   \n",
       "\n",
       "     max_price  modal_price  \n",
       "354       2410       2400.0  \n",
       "257       2500       2450.0  \n",
       "197       2560       2520.0  \n",
       "154       2781       2511.0  \n",
       "87        2408       2421.0  \n",
       "37        4701       2485.0  \n",
       "88        3100       2478.0  \n",
       "145       2811       2501.0  \n",
       "234       2500       2450.0  \n",
       "225       2560       2500.0  \n",
       "43        2410       2408.0  \n",
       "3         2590       2500.0  \n",
       "110       2600       2525.0  \n",
       "187       2780       2465.0  \n",
       "349       2530       2525.0  \n",
       "58        2546       2411.0  \n",
       "228       2450       2370.0  \n",
       "44        2450       2450.0  \n",
       "250       2570       2525.0  \n",
       "201       2470       2450.0  "
      ]
     },
     "execution_count": 743,
     "metadata": {},
     "output_type": "execute_result"
    }
   ],
   "source": [
    "df.sample(20)"
   ]
  },
  {
   "cell_type": "code",
   "execution_count": 744,
   "id": "8d6cb1b0",
   "metadata": {},
   "outputs": [],
   "source": [
    "# sns.boxplot(df[[\"min_price\", \"max_price\" , \"modal_price\"]])"
   ]
  },
  {
   "cell_type": "code",
   "execution_count": 745,
   "id": "0d87671e",
   "metadata": {},
   "outputs": [],
   "source": [
    "# sns.distplot(df[\"min_price\"])"
   ]
  },
  {
   "cell_type": "code",
   "execution_count": 746,
   "id": "dc7d0ea8",
   "metadata": {},
   "outputs": [],
   "source": [
    "# sns.distplot(df[\"max_price\"])"
   ]
  },
  {
   "cell_type": "code",
   "execution_count": null,
   "id": "51c41f50",
   "metadata": {},
   "outputs": [],
   "source": []
  },
  {
   "cell_type": "code",
   "execution_count": 747,
   "id": "2868fb25",
   "metadata": {},
   "outputs": [],
   "source": [
    "data = df[(df[\"min_price\"] < 2610 ) & (df[\"min_price\"] >= 2300)]"
   ]
  },
  {
   "cell_type": "code",
   "execution_count": 748,
   "id": "ddf54880",
   "metadata": {},
   "outputs": [
    {
     "data": {
      "text/html": [
       "<div>\n",
       "<style scoped>\n",
       "    .dataframe tbody tr th:only-of-type {\n",
       "        vertical-align: middle;\n",
       "    }\n",
       "\n",
       "    .dataframe tbody tr th {\n",
       "        vertical-align: top;\n",
       "    }\n",
       "\n",
       "    .dataframe thead th {\n",
       "        text-align: right;\n",
       "    }\n",
       "</style>\n",
       "<table border=\"1\" class=\"dataframe\">\n",
       "  <thead>\n",
       "    <tr style=\"text-align: right;\">\n",
       "      <th></th>\n",
       "      <th>state</th>\n",
       "      <th>district</th>\n",
       "      <th>market</th>\n",
       "      <th>commodity</th>\n",
       "      <th>variety</th>\n",
       "      <th>arrival_date</th>\n",
       "      <th>min_price</th>\n",
       "      <th>max_price</th>\n",
       "      <th>modal_price</th>\n",
       "    </tr>\n",
       "  </thead>\n",
       "  <tbody>\n",
       "    <tr>\n",
       "      <th>0</th>\n",
       "      <td>0</td>\n",
       "      <td>100</td>\n",
       "      <td>189</td>\n",
       "      <td>0</td>\n",
       "      <td>0</td>\n",
       "      <td>2024-01-01</td>\n",
       "      <td>2500</td>\n",
       "      <td>2590</td>\n",
       "      <td>2550.0</td>\n",
       "    </tr>\n",
       "    <tr>\n",
       "      <th>1</th>\n",
       "      <td>1</td>\n",
       "      <td>9</td>\n",
       "      <td>31</td>\n",
       "      <td>0</td>\n",
       "      <td>8</td>\n",
       "      <td>2024-01-02</td>\n",
       "      <td>2370</td>\n",
       "      <td>2700</td>\n",
       "      <td>2535.0</td>\n",
       "    </tr>\n",
       "    <tr>\n",
       "      <th>3</th>\n",
       "      <td>1</td>\n",
       "      <td>19</td>\n",
       "      <td>70</td>\n",
       "      <td>0</td>\n",
       "      <td>13</td>\n",
       "      <td>2024-01-02</td>\n",
       "      <td>2415</td>\n",
       "      <td>2590</td>\n",
       "      <td>2500.0</td>\n",
       "    </tr>\n",
       "    <tr>\n",
       "      <th>6</th>\n",
       "      <td>1</td>\n",
       "      <td>19</td>\n",
       "      <td>206</td>\n",
       "      <td>0</td>\n",
       "      <td>13</td>\n",
       "      <td>2024-01-02</td>\n",
       "      <td>2380</td>\n",
       "      <td>2730</td>\n",
       "      <td>2555.0</td>\n",
       "    </tr>\n",
       "    <tr>\n",
       "      <th>8</th>\n",
       "      <td>1</td>\n",
       "      <td>19</td>\n",
       "      <td>258</td>\n",
       "      <td>0</td>\n",
       "      <td>13</td>\n",
       "      <td>2024-01-02</td>\n",
       "      <td>2300</td>\n",
       "      <td>2725</td>\n",
       "      <td>2512.5</td>\n",
       "    </tr>\n",
       "  </tbody>\n",
       "</table>\n",
       "</div>"
      ],
      "text/plain": [
       "   state  district  market  commodity  variety arrival_date  min_price  \\\n",
       "0      0       100     189          0        0   2024-01-01       2500   \n",
       "1      1         9      31          0        8   2024-01-02       2370   \n",
       "3      1        19      70          0       13   2024-01-02       2415   \n",
       "6      1        19     206          0       13   2024-01-02       2380   \n",
       "8      1        19     258          0       13   2024-01-02       2300   \n",
       "\n",
       "   max_price  modal_price  \n",
       "0       2590       2550.0  \n",
       "1       2700       2535.0  \n",
       "3       2590       2500.0  \n",
       "6       2730       2555.0  \n",
       "8       2725       2512.5  "
      ]
     },
     "execution_count": 748,
     "metadata": {},
     "output_type": "execute_result"
    }
   ],
   "source": [
    "data.head()"
   ]
  },
  {
   "cell_type": "code",
   "execution_count": 749,
   "id": "097f6c59",
   "metadata": {},
   "outputs": [
    {
     "data": {
      "text/plain": [
       "(282, 9)"
      ]
     },
     "execution_count": 749,
     "metadata": {},
     "output_type": "execute_result"
    }
   ],
   "source": [
    "data.shape"
   ]
  },
  {
   "cell_type": "code",
   "execution_count": 750,
   "id": "dab5ce7f",
   "metadata": {},
   "outputs": [
    {
     "data": {
      "text/plain": [
       "state           0\n",
       "district        0\n",
       "market          0\n",
       "commodity       0\n",
       "variety         0\n",
       "arrival_date    0\n",
       "min_price       0\n",
       "max_price       0\n",
       "modal_price     0\n",
       "dtype: int64"
      ]
     },
     "execution_count": 750,
     "metadata": {},
     "output_type": "execute_result"
    }
   ],
   "source": [
    "data.isnull().sum()"
   ]
  },
  {
   "cell_type": "code",
   "execution_count": 751,
   "id": "ec05a67c",
   "metadata": {},
   "outputs": [
    {
     "data": {
      "text/plain": [
       "<Axes: >"
      ]
     },
     "execution_count": 751,
     "metadata": {},
     "output_type": "execute_result"
    },
    {
     "data": {
      "image/png": "[encoded data removed]",
      "text/plain": [
       "<Figure size 640x480 with 1 Axes>"
      ]
     },
     "metadata": {},
     "output_type": "display_data"
    }
   ],
   "source": [
    "sns.boxplot(data[\"min_price\"])"
   ]
  },
  {
   "cell_type": "code",
   "execution_count": 752,
   "id": "16eab900",
   "metadata": {},
   "outputs": [],
   "source": [
    "data = data[(data[\"max_price\"] < 2800 ) & (data[\"max_price\"] > 2300)]"
   ]
  },
  {
   "cell_type": "code",
   "execution_count": 753,
   "id": "dc04642f",
   "metadata": {},
   "outputs": [
    {
     "data": {
      "text/plain": [
       "(258, 9)"
      ]
     },
     "execution_count": 753,
     "metadata": {},
     "output_type": "execute_result"
    }
   ],
   "source": [
    "data.shape"
   ]
  },
  {
   "cell_type": "code",
   "execution_count": 754,
   "id": "20d58238",
   "metadata": {},
   "outputs": [
    {
     "data": {
      "text/plain": [
       "<Axes: >"
      ]
     },
     "execution_count": 754,
     "metadata": {},
     "output_type": "execute_result"
    },
    {
     "data": {
      "image/png": "[encoded data removed]",
      "text/plain": [
       "<Figure size 640x480 with 1 Axes>"
      ]
     },
     "metadata": {},
     "output_type": "display_data"
    }
   ],
   "source": [
    "sns.boxplot(data[\"max_price\"],color=\"green\")"
   ]
  },
  {
   "cell_type": "code",
   "execution_count": 755,
   "id": "4b5a9301",
   "metadata": {},
   "outputs": [],
   "source": [
    "data = data[(data[\"modal_price\"] < 2700 ) & (data[\"modal_price\"] >= 2300)]"
   ]
  },
  {
   "cell_type": "code",
   "execution_count": 756,
   "id": "353fae66",
   "metadata": {},
   "outputs": [
    {
     "data": {
      "text/plain": [
       "(257, 9)"
      ]
     },
     "execution_count": 756,
     "metadata": {},
     "output_type": "execute_result"
    }
   ],
   "source": [
    "data.shape"
   ]
  },
  {
   "cell_type": "code",
   "execution_count": 757,
   "id": "f0711767",
   "metadata": {},
   "outputs": [
    {
     "data": {
      "text/plain": [
       "<Axes: >"
      ]
     },
     "execution_count": 757,
     "metadata": {},
     "output_type": "execute_result"
    },
    {
     "data": {
      "image/png": "[encoded data removed]",
      "text/plain": [
       "<Figure size 640x480 with 1 Axes>"
      ]
     },
     "metadata": {},
     "output_type": "display_data"
    }
   ],
   "source": [
    "sns.boxplot(data[[\"min_price\", \"max_price\", \"modal_price\"]])"
   ]
  },
  {
   "cell_type": "code",
   "execution_count": 758,
   "id": "87b7beee",
   "metadata": {},
   "outputs": [
    {
     "data": {
      "text/plain": [
       "(257, 9)"
      ]
     },
     "execution_count": 758,
     "metadata": {},
     "output_type": "execute_result"
    }
   ],
   "source": [
    "data.shape"
   ]
  },
  {
   "cell_type": "code",
   "execution_count": 759,
   "id": "26cf94b7",
   "metadata": {},
   "outputs": [
    {
     "name": "stdout",
     "output_type": "stream",
     "text": [
      "<class 'pandas.core.frame.DataFrame'>\n",
      "Index: 257 entries, 0 to 382\n",
      "Data columns (total 9 columns):\n",
      " #   Column        Non-Null Count  Dtype         \n",
      "---  ------        --------------  -----         \n",
      " 0   state         257 non-null    int32         \n",
      " 1   district      257 non-null    int32         \n",
      " 2   market        257 non-null    int32         \n",
      " 3   commodity     257 non-null    int32         \n",
      " 4   variety       257 non-null    int32         \n",
      " 5   arrival_date  257 non-null    datetime64[ns]\n",
      " 6   min_price     257 non-null    int64         \n",
      " 7   max_price     257 non-null    int64         \n",
      " 8   modal_price   257 non-null    float64       \n",
      "dtypes: datetime64[ns](1), float64(1), int32(5), int64(2)\n",
      "memory usage: 15.1 KB\n"
     ]
    }
   ],
   "source": [
    "data.info()"
   ]
  },
  {
   "cell_type": "code",
   "execution_count": 760,
   "id": "3cbfce4b",
   "metadata": {},
   "outputs": [],
   "source": [
    "data.drop([\"commodity\", \"arrival_date\"], axis= 1 , inplace=True)"
   ]
  },
  {
   "cell_type": "code",
   "execution_count": 761,
   "id": "ee010865",
   "metadata": {},
   "outputs": [],
   "source": [
    "cor = data.corr()"
   ]
  },
  {
   "cell_type": "code",
   "execution_count": 762,
   "id": "ed718bee",
   "metadata": {},
   "outputs": [
    {
     "data": {
      "text/plain": [
       "<Axes: >"
      ]
     },
     "execution_count": 762,
     "metadata": {},
     "output_type": "execute_result"
    },
    {
     "data": {
      "image/png": "[encoded data removed]",
      "text/plain": [
       "<Figure size 640x480 with 2 Axes>"
      ]
     },
     "metadata": {},
     "output_type": "display_data"
    }
   ],
   "source": [
    "sns.heatmap(cor, annot=True)"
   ]
  },
  {
   "cell_type": "code",
   "execution_count": 763,
   "id": "a7c5da43",
   "metadata": {},
   "outputs": [],
   "source": [
    "# dividing data into x and y \n",
    "x = data.drop([\"modal_price\", \"market\"], axis=1)\n",
    "y = data[\"modal_price\"]"
   ]
  },
  {
   "cell_type": "code",
   "execution_count": 794,
   "id": "2b8fef90",
   "metadata": {},
   "outputs": [
    {
     "data": {
      "text/html": [
       "<div>\n",
       "<style scoped>\n",
       "    .dataframe tbody tr th:only-of-type {\n",
       "        vertical-align: middle;\n",
       "    }\n",
       "\n",
       "    .dataframe tbody tr th {\n",
       "        vertical-align: top;\n",
       "    }\n",
       "\n",
       "    .dataframe thead th {\n",
       "        text-align: right;\n",
       "    }\n",
       "</style>\n",
       "<table border=\"1\" class=\"dataframe\">\n",
       "  <thead>\n",
       "    <tr style=\"text-align: right;\">\n",
       "      <th></th>\n",
       "      <th>state</th>\n",
       "      <th>district</th>\n",
       "      <th>variety</th>\n",
       "      <th>min_price</th>\n",
       "      <th>max_price</th>\n",
       "    </tr>\n",
       "  </thead>\n",
       "  <tbody>\n",
       "    <tr>\n",
       "      <th>0</th>\n",
       "      <td>0</td>\n",
       "      <td>100</td>\n",
       "      <td>0</td>\n",
       "      <td>2500</td>\n",
       "      <td>2590</td>\n",
       "    </tr>\n",
       "    <tr>\n",
       "      <th>1</th>\n",
       "      <td>1</td>\n",
       "      <td>9</td>\n",
       "      <td>8</td>\n",
       "      <td>2370</td>\n",
       "      <td>2700</td>\n",
       "    </tr>\n",
       "    <tr>\n",
       "      <th>3</th>\n",
       "      <td>1</td>\n",
       "      <td>19</td>\n",
       "      <td>13</td>\n",
       "      <td>2415</td>\n",
       "      <td>2590</td>\n",
       "    </tr>\n",
       "    <tr>\n",
       "      <th>6</th>\n",
       "      <td>1</td>\n",
       "      <td>19</td>\n",
       "      <td>13</td>\n",
       "      <td>2380</td>\n",
       "      <td>2730</td>\n",
       "    </tr>\n",
       "    <tr>\n",
       "      <th>8</th>\n",
       "      <td>1</td>\n",
       "      <td>19</td>\n",
       "      <td>13</td>\n",
       "      <td>2300</td>\n",
       "      <td>2725</td>\n",
       "    </tr>\n",
       "    <tr>\n",
       "      <th>...</th>\n",
       "      <td>...</td>\n",
       "      <td>...</td>\n",
       "      <td>...</td>\n",
       "      <td>...</td>\n",
       "      <td>...</td>\n",
       "    </tr>\n",
       "    <tr>\n",
       "      <th>375</th>\n",
       "      <td>6</td>\n",
       "      <td>137</td>\n",
       "      <td>1</td>\n",
       "      <td>2480</td>\n",
       "      <td>2580</td>\n",
       "    </tr>\n",
       "    <tr>\n",
       "      <th>376</th>\n",
       "      <td>6</td>\n",
       "      <td>137</td>\n",
       "      <td>1</td>\n",
       "      <td>2450</td>\n",
       "      <td>2550</td>\n",
       "    </tr>\n",
       "    <tr>\n",
       "      <th>377</th>\n",
       "      <td>6</td>\n",
       "      <td>137</td>\n",
       "      <td>1</td>\n",
       "      <td>2500</td>\n",
       "      <td>2525</td>\n",
       "    </tr>\n",
       "    <tr>\n",
       "      <th>378</th>\n",
       "      <td>6</td>\n",
       "      <td>137</td>\n",
       "      <td>1</td>\n",
       "      <td>2500</td>\n",
       "      <td>2525</td>\n",
       "    </tr>\n",
       "    <tr>\n",
       "      <th>382</th>\n",
       "      <td>7</td>\n",
       "      <td>34</td>\n",
       "      <td>18</td>\n",
       "      <td>2350</td>\n",
       "      <td>2450</td>\n",
       "    </tr>\n",
       "  </tbody>\n",
       "</table>\n",
       "<p>257 rows × 5 columns</p>\n",
       "</div>"
      ],
      "text/plain": [
       "     state  district  variety  min_price  max_price\n",
       "0        0       100        0       2500       2590\n",
       "1        1         9        8       2370       2700\n",
       "3        1        19       13       2415       2590\n",
       "6        1        19       13       2380       2730\n",
       "8        1        19       13       2300       2725\n",
       "..     ...       ...      ...        ...        ...\n",
       "375      6       137        1       2480       2580\n",
       "376      6       137        1       2450       2550\n",
       "377      6       137        1       2500       2525\n",
       "378      6       137        1       2500       2525\n",
       "382      7        34       18       2350       2450\n",
       "\n",
       "[257 rows x 5 columns]"
      ]
     },
     "execution_count": 794,
     "metadata": {},
     "output_type": "execute_result"
    }
   ],
   "source": [
    "x = x.drop_duplicates"
   ]
  },
  {
   "cell_type": "code",
   "execution_count": 764,
   "id": "267e7869",
   "metadata": {},
   "outputs": [
    {
     "data": {
      "text/plain": [
       "(257, 5)"
      ]
     },
     "execution_count": 764,
     "metadata": {},
     "output_type": "execute_result"
    }
   ],
   "source": [
    "x.shape"
   ]
  },
  {
   "cell_type": "code",
   "execution_count": 765,
   "id": "1dedce99",
   "metadata": {},
   "outputs": [
    {
     "data": {
      "text/plain": [
       "(257,)"
      ]
     },
     "execution_count": 765,
     "metadata": {},
     "output_type": "execute_result"
    }
   ],
   "source": [
    "y.shape"
   ]
  },
  {
   "cell_type": "code",
   "execution_count": 766,
   "id": "aef7b2df",
   "metadata": {},
   "outputs": [
    {
     "data": {
      "text/plain": [
       "0      2550.0\n",
       "1      2535.0\n",
       "3      2500.0\n",
       "6      2555.0\n",
       "8      2512.5\n",
       "        ...  \n",
       "375    2500.0\n",
       "376    2500.0\n",
       "377    2515.0\n",
       "378    2515.0\n",
       "382    2400.0\n",
       "Name: modal_price, Length: 257, dtype: float64"
      ]
     },
     "execution_count": 766,
     "metadata": {},
     "output_type": "execute_result"
    }
   ],
   "source": [
    "y"
   ]
  },
  {
   "cell_type": "code",
   "execution_count": 767,
   "id": "465a1cee",
   "metadata": {},
   "outputs": [],
   "source": [
    "# splitting our data into train and split\n",
    "x_train , x_test , y_train , y_test = train_test_split(x , y , test_size=0.2 , random_state=42)"
   ]
  },
  {
   "cell_type": "code",
   "execution_count": 768,
   "id": "f7729062",
   "metadata": {},
   "outputs": [
    {
     "data": {
      "text/plain": [
       "(205, 5)"
      ]
     },
     "execution_count": 768,
     "metadata": {},
     "output_type": "execute_result"
    }
   ],
   "source": [
    "x_train.shape"
   ]
  },
  {
   "cell_type": "code",
   "execution_count": 769,
   "id": "ff3cb0a3",
   "metadata": {},
   "outputs": [
    {
     "data": {
      "text/html": [
       "<div>\n",
       "<style scoped>\n",
       "    .dataframe tbody tr th:only-of-type {\n",
       "        vertical-align: middle;\n",
       "    }\n",
       "\n",
       "    .dataframe tbody tr th {\n",
       "        vertical-align: top;\n",
       "    }\n",
       "\n",
       "    .dataframe thead th {\n",
       "        text-align: right;\n",
       "    }\n",
       "</style>\n",
       "<table border=\"1\" class=\"dataframe\">\n",
       "  <thead>\n",
       "    <tr style=\"text-align: right;\">\n",
       "      <th></th>\n",
       "      <th>state</th>\n",
       "      <th>district</th>\n",
       "      <th>variety</th>\n",
       "      <th>min_price</th>\n",
       "      <th>max_price</th>\n",
       "    </tr>\n",
       "  </thead>\n",
       "  <tbody>\n",
       "    <tr>\n",
       "      <th>180</th>\n",
       "      <td>5</td>\n",
       "      <td>6</td>\n",
       "      <td>13</td>\n",
       "      <td>2310</td>\n",
       "      <td>2339</td>\n",
       "    </tr>\n",
       "    <tr>\n",
       "      <th>290</th>\n",
       "      <td>6</td>\n",
       "      <td>71</td>\n",
       "      <td>1</td>\n",
       "      <td>2380</td>\n",
       "      <td>2380</td>\n",
       "    </tr>\n",
       "    <tr>\n",
       "      <th>75</th>\n",
       "      <td>3</td>\n",
       "      <td>114</td>\n",
       "      <td>12</td>\n",
       "      <td>2475</td>\n",
       "      <td>2500</td>\n",
       "    </tr>\n",
       "    <tr>\n",
       "      <th>247</th>\n",
       "      <td>6</td>\n",
       "      <td>49</td>\n",
       "      <td>1</td>\n",
       "      <td>2450</td>\n",
       "      <td>2500</td>\n",
       "    </tr>\n",
       "    <tr>\n",
       "      <th>122</th>\n",
       "      <td>4</td>\n",
       "      <td>36</td>\n",
       "      <td>13</td>\n",
       "      <td>2450</td>\n",
       "      <td>2500</td>\n",
       "    </tr>\n",
       "  </tbody>\n",
       "</table>\n",
       "</div>"
      ],
      "text/plain": [
       "     state  district  variety  min_price  max_price\n",
       "180      5         6       13       2310       2339\n",
       "290      6        71        1       2380       2380\n",
       "75       3       114       12       2475       2500\n",
       "247      6        49        1       2450       2500\n",
       "122      4        36       13       2450       2500"
      ]
     },
     "execution_count": 769,
     "metadata": {},
     "output_type": "execute_result"
    }
   ],
   "source": [
    "x_train.head()"
   ]
  },
  {
   "cell_type": "code",
   "execution_count": 770,
   "id": "99c58596",
   "metadata": {},
   "outputs": [
    {
     "data": {
      "text/plain": [
       "(52, 5)"
      ]
     },
     "execution_count": 770,
     "metadata": {},
     "output_type": "execute_result"
    }
   ],
   "source": [
    "x_test.shape"
   ]
  },
  {
   "cell_type": "markdown",
   "id": "f2689abe",
   "metadata": {},
   "source": [
    "### Model Building\n",
    "- Linear Regressor\n",
    "- Decision Tree Regressor\n",
    "- Random Forest Regressor"
   ]
  },
  {
   "cell_type": "code",
   "execution_count": 772,
   "id": "fe34f87b",
   "metadata": {},
   "outputs": [],
   "source": [
    "lg = LinearRegression()\n",
    "lg.fit(x_train , y_train)\n",
    "y_pred_lg = lg.predict(x_test)"
   ]
  },
  {
   "cell_type": "code",
   "execution_count": 773,
   "id": "d47dcbc2",
   "metadata": {},
   "outputs": [
    {
     "data": {
      "text/plain": [
       "0.7211757231689271"
      ]
     },
     "execution_count": 773,
     "metadata": {},
     "output_type": "execute_result"
    }
   ],
   "source": [
    "lg.score(x_test , y_test)"
   ]
  },
  {
   "cell_type": "code",
   "execution_count": 774,
   "id": "e69ee0e2",
   "metadata": {},
   "outputs": [
    {
     "name": "stdout",
     "output_type": "stream",
     "text": [
      "Training Score linear Regressor 0.781362733614281\n",
      "Testing Score Linear Regressor 0.7211757231689271\n"
     ]
    }
   ],
   "source": [
    "print(\"Training Score linear Regressor\",lg.score(x_train , y_train))\n",
    "print(\"Testing Score Linear Regressor\",lg.score(x_test , y_test))"
   ]
  },
  {
   "cell_type": "code",
   "execution_count": 775,
   "id": "99fcc3de",
   "metadata": {},
   "outputs": [],
   "source": [
    "# dt = DecisionTreeRegressor()\n",
    "# dt.fit(x_train , y_train)\n",
    "# y_pred_dt = dt.predict(x_test)"
   ]
  },
  {
   "cell_type": "code",
   "execution_count": 776,
   "id": "304a358d",
   "metadata": {},
   "outputs": [],
   "source": [
    "# dt.score(x_test , y_test)"
   ]
  },
  {
   "cell_type": "code",
   "execution_count": 777,
   "id": "f3f39573",
   "metadata": {},
   "outputs": [],
   "source": [
    "# print(\"Training Score Decision Tree\",dt.score(x_train , y_train))\n",
    "# print(\"Testing Score Decision Tree\",dt.score(x_test , y_test))"
   ]
  },
  {
   "cell_type": "code",
   "execution_count": 778,
   "id": "08ef9893",
   "metadata": {},
   "outputs": [],
   "source": [
    "rf = RandomForestRegressor()\n",
    "rf.fit(x_train , y_train)\n",
    "y_pred_rf = rf.predict(x_test)"
   ]
  },
  {
   "cell_type": "code",
   "execution_count": 779,
   "id": "765aa14d",
   "metadata": {},
   "outputs": [
    {
     "data": {
      "text/plain": [
       "0.7464259322888185"
      ]
     },
     "execution_count": 779,
     "metadata": {},
     "output_type": "execute_result"
    }
   ],
   "source": [
    "rf.score(x_test , y_test)"
   ]
  },
  {
   "cell_type": "code",
   "execution_count": 780,
   "id": "0eff490a",
   "metadata": {},
   "outputs": [
    {
     "name": "stdout",
     "output_type": "stream",
     "text": [
      "Training Score Random Forest 0.9529250154403609\n",
      "Testing Score Random Forest 0.7464259322888185\n"
     ]
    }
   ],
   "source": [
    "print(\"Training Score Random Forest\",rf.score(x_train , y_train))\n",
    "print(\"Testing Score Random Forest\",rf.score(x_test , y_test))"
   ]
  },
  {
   "cell_type": "markdown",
   "id": "7bb21c4f",
   "metadata": {},
   "source": [
    "### Hyperparameter Tuning"
   ]
  },
  {
   "cell_type": "markdown",
   "id": "ae6346c6",
   "metadata": {},
   "source": [
    "### RandomizedSearchCV"
   ]
  },
  {
   "cell_type": "code",
   "execution_count": 781,
   "id": "0bb48307",
   "metadata": {},
   "outputs": [],
   "source": [
    "# # Number of trees in random forest\n",
    "# n_estimators = [int(x) for x in np.linspace(start = 10, stop = 2000, num = 10)]\n",
    "# # Number of features to consider at every split\n",
    "# max_features = ['auto', 'sqrt']\n",
    "# # Maximum number of levels in tree\n",
    "# max_depth = [int(x) for x in np.linspace(5, 200, num = 20)]\n",
    "# max_depth.append(None)\n",
    "# # Minimum number of samples required to split a node\n",
    "# min_samples_split = [0 , 2, 5, 10, 15 , 20 , 25]\n",
    "# # Minimum number of samples required at each leaf node\n",
    "# min_samples_leaf = [0 ,1, 2, 4, 6 , 8 , 10 , 12]\n",
    "# # Method of selecting samples for training each tree\n",
    "# bootstrap = [True, False]\n",
    "# # Create the random grid\n",
    "# random_grid = {'n_estimators': n_estimators,\n",
    "#                'max_features': max_features,\n",
    "#                'max_depth': max_depth,\n",
    "#                'min_samples_split': min_samples_split,\n",
    "#                'min_samples_leaf': min_samples_leaf,\n",
    "#                'bootstrap': bootstrap}\n",
    "# print(random_grid)"
   ]
  },
  {
   "cell_type": "code",
   "execution_count": 782,
   "id": "cd07d16a",
   "metadata": {},
   "outputs": [],
   "source": [
    "# random_grid"
   ]
  },
  {
   "cell_type": "code",
   "execution_count": 783,
   "id": "ed28acbb",
   "metadata": {},
   "outputs": [],
   "source": [
    "# rf = RandomForestRegressor()\n",
    "# rf_random = RandomizedSearchCV(estimator=rf, param_distributions=random_grid ,n_iter=40 , cv=5 , verbose=0 , n_jobs=-1)"
   ]
  },
  {
   "cell_type": "code",
   "execution_count": 784,
   "id": "2367b6f2",
   "metadata": {
    "scrolled": false
   },
   "outputs": [],
   "source": [
    "# rf_random.fit(x_train, y_train)"
   ]
  },
  {
   "cell_type": "code",
   "execution_count": 785,
   "id": "ce9137c3",
   "metadata": {},
   "outputs": [],
   "source": [
    "# rf_random.best_params_"
   ]
  },
  {
   "cell_type": "code",
   "execution_count": 786,
   "id": "6ebc5739",
   "metadata": {},
   "outputs": [],
   "source": [
    "# best_random_grid = rf_random.best_estimator_"
   ]
  },
  {
   "cell_type": "code",
   "execution_count": 787,
   "id": "03de91b2",
   "metadata": {},
   "outputs": [],
   "source": [
    "# best_random_grid.score(x_test , y_test)"
   ]
  },
  {
   "cell_type": "code",
   "execution_count": 788,
   "id": "833ac0f2",
   "metadata": {},
   "outputs": [],
   "source": [
    "import pickle\n",
    "pickle.dump(lg, open(\"lg_model.pkl\", \"wb\"))"
   ]
  },
  {
   "cell_type": "code",
   "execution_count": 789,
   "id": "3e882b86",
   "metadata": {},
   "outputs": [
    {
     "data": {
      "text/plain": [
       "array([1780.18124946])"
      ]
     },
     "execution_count": 789,
     "metadata": {},
     "output_type": "execute_result"
    }
   ],
   "source": [
    "lg.predict([[6,71,1,1000,2380]])"
   ]
  },
  {
   "cell_type": "code",
   "execution_count": 790,
   "id": "d23c21a4",
   "metadata": {},
   "outputs": [
    {
     "data": {
      "text/plain": [
       "0      2550.0\n",
       "1      2535.0\n",
       "3      2500.0\n",
       "6      2555.0\n",
       "8      2512.5\n",
       "        ...  \n",
       "375    2500.0\n",
       "376    2500.0\n",
       "377    2515.0\n",
       "378    2515.0\n",
       "382    2400.0\n",
       "Name: modal_price, Length: 257, dtype: float64"
      ]
     },
     "execution_count": 790,
     "metadata": {},
     "output_type": "execute_result"
    }
   ],
   "source": [
    "y"
   ]
  },
  {
   "cell_type": "code",
   "execution_count": 793,
   "id": "eef42a3c",
   "metadata": {},
   "outputs": [
    {
     "data": {
      "text/plain": [
       "24"
      ]
     },
     "execution_count": 793,
     "metadata": {},
     "output_type": "execute_result"
    }
   ],
   "source": [
    "x.duplicated().sum()"
   ]
  },
  {
   "cell_type": "code",
   "execution_count": null,
   "id": "f3ec2ebe",
   "metadata": {},
   "outputs": [],
   "source": []
  },
  {
   "cell_type": "code",
   "execution_count": null,
   "id": "cc483ed2",
   "metadata": {},
   "outputs": [],
   "source": []
  }
 ],
 "metadata": {
  "kernelspec": {
   "display_name": "Python 3 (ipykernel)",
   "language": "python",
   "name": "python3"
  },
  "language_info": {
   "codemirror_mode": {
    "name": "ipython",
    "version": 3
   },
   "file_extension": ".py",
   "mimetype": "text/x-python",
   "name": "python",
   "nbconvert_exporter": "python",
   "pygments_lexer": "ipython3",
   "version": "3.11.5"
  }
 },
 "nbformat": 4,
 "nbformat_minor": 5
}
