{
 "cells": [
  {
   "cell_type": "markdown",
   "id": "6d324b85",
   "metadata": {},
   "source": [
    "### Variety-wise Daily Market Prices Data of Wheat\n",
    "The data refers to State-wise, market-wise, variety-wise prices of Wheat. It has the daily wholesale maximum price, minimum price and modal price. This dataset is generated through the AGMARKNET Portal (http://agmarknet.gov.in) which disseminates daily market information of various commodities."
   ]
  },
  {
   "cell_type": "markdown",
   "id": "df2461bc",
   "metadata": {},
   "source": [
    "## Project Goal: Predictive Modeling for Wheat Market Prices\n",
    "\n",
    "The primary goal of this machine learning project is to develop a robust predictive model for the daily market prices of wheat, focusing on variety-wise trends across different states. Leveraging the Variety-wise Daily Market Prices Data of Wheat obtained from the AGMARKNET Portal, the project aims to accomplish the following objectives:"
   ]
  },
  {
   "cell_type": "markdown",
   "id": "a4a70f39",
   "metadata": {},
   "source": [
    "### Project Workflow :\n",
    "    - Data Collection\n",
    "    - Exploratory Data Analysis (EDA)\n",
    "    - Data Cleaning and Preprocessing\n",
    "    - Feature Engineering\n",
    "    - Model Building\n",
    "    - Model Evaluation\n",
    "    - Deployment"
   ]
  },
  {
   "cell_type": "markdown",
   "id": "20238631",
   "metadata": {},
   "source": [
    "### Dataset Description:\n",
    "   - state  : Categorical variable representing the Indian states where wheat prices are recorded.\n",
    "   - district : Categorical variable indicating the specific districts within each state.\n",
    "   - market : Categorical variable specifying the markets or trading centers where wheat prices are observed.\n",
    "   - commodity : Categorical variable indicating the type of commodity, which, in this case, is wheat.\n",
    "   - variety : Categorical variable representing the different varieties of wheat available in the market.\n",
    "   - arrival_date : Temporal variable indicating the date on which the wheat arrived in the market.\n",
    "   - min_price : Numeric variable representing the minimum wholesale price of the respective wheat variety on a given day.\n",
    "   - max_price : Numeric variable representing the maximum wholesale price of the respective wheat variety on a given day.\n",
    "   - modal_price : Numeric variable representing the modal or most frequently occurring wholesale price of the respective     wheat variety on a given day.\n",
    "   - update_date : Temporal variable indicating the date when the market price data was last updated.\n",
    "   \n",
    "Dataset link : https://data.gov.in/catalog/variety-wise-daily-market-prices-data-wheat"
   ]
  },
  {
   "cell_type": "code",
   "execution_count": 63,
   "id": "8f9e683d",
   "metadata": {},
   "outputs": [],
   "source": [
    "import pandas as pd\n",
    "import numpy as np\n",
    "import seaborn as sns\n",
    "import matplotlib.pyplot as plt"
   ]
  },
  {
   "cell_type": "code",
   "execution_count": 64,
   "id": "ecd7abac",
   "metadata": {},
   "outputs": [],
   "source": [
    "df = pd.read_csv(\"Wheat_2024.csv\")"
   ]
  },
  {
   "cell_type": "code",
   "execution_count": 65,
   "id": "0bca8d22",
   "metadata": {},
   "outputs": [
    {
     "data": {
      "text/html": [
       "<div>\n",
       "<style scoped>\n",
       "    .dataframe tbody tr th:only-of-type {\n",
       "        vertical-align: middle;\n",
       "    }\n",
       "\n",
       "    .dataframe tbody tr th {\n",
       "        vertical-align: top;\n",
       "    }\n",
       "\n",
       "    .dataframe thead th {\n",
       "        text-align: right;\n",
       "    }\n",
       "</style>\n",
       "<table border=\"1\" class=\"dataframe\">\n",
       "  <thead>\n",
       "    <tr style=\"text-align: right;\">\n",
       "      <th></th>\n",
       "      <th>state</th>\n",
       "      <th>district</th>\n",
       "      <th>market</th>\n",
       "      <th>commodity</th>\n",
       "      <th>variety</th>\n",
       "      <th>arrival_date</th>\n",
       "      <th>min_price</th>\n",
       "      <th>max_price</th>\n",
       "      <th>modal_price</th>\n",
       "      <th>update_date</th>\n",
       "    </tr>\n",
       "  </thead>\n",
       "  <tbody>\n",
       "    <tr>\n",
       "      <th>0</th>\n",
       "      <td>Bihar</td>\n",
       "      <td>Muzaffarpur</td>\n",
       "      <td>Muzaffarpur</td>\n",
       "      <td>Wheat</td>\n",
       "      <td>147 Average</td>\n",
       "      <td>01/01/2024</td>\n",
       "      <td>2500</td>\n",
       "      <td>2590</td>\n",
       "      <td>2550.0</td>\n",
       "      <td>2024-01-02</td>\n",
       "    </tr>\n",
       "    <tr>\n",
       "      <th>1</th>\n",
       "      <td>Gujarat</td>\n",
       "      <td>Amreli</td>\n",
       "      <td>Bagasara</td>\n",
       "      <td>Wheat</td>\n",
       "      <td>Lokwan Gujrat</td>\n",
       "      <td>02/01/2024</td>\n",
       "      <td>2370</td>\n",
       "      <td>2700</td>\n",
       "      <td>2535.0</td>\n",
       "      <td>2024-01-02</td>\n",
       "    </tr>\n",
       "    <tr>\n",
       "      <th>2</th>\n",
       "      <td>Gujarat</td>\n",
       "      <td>Anand</td>\n",
       "      <td>Khambhat(Grain Market)</td>\n",
       "      <td>Wheat</td>\n",
       "      <td>Other</td>\n",
       "      <td>02/01/2024</td>\n",
       "      <td>2000</td>\n",
       "      <td>2550</td>\n",
       "      <td>2250.0</td>\n",
       "      <td>2024-01-02</td>\n",
       "    </tr>\n",
       "    <tr>\n",
       "      <th>3</th>\n",
       "      <td>Gujarat</td>\n",
       "      <td>Banaskanth</td>\n",
       "      <td>Deesa</td>\n",
       "      <td>Wheat</td>\n",
       "      <td>Other</td>\n",
       "      <td>02/01/2024</td>\n",
       "      <td>2415</td>\n",
       "      <td>2590</td>\n",
       "      <td>2500.0</td>\n",
       "      <td>2024-01-02</td>\n",
       "    </tr>\n",
       "    <tr>\n",
       "      <th>4</th>\n",
       "      <td>Gujarat</td>\n",
       "      <td>Banaskanth</td>\n",
       "      <td>Dhanera</td>\n",
       "      <td>Wheat</td>\n",
       "      <td>Other</td>\n",
       "      <td>01/01/2024</td>\n",
       "      <td>2715</td>\n",
       "      <td>2715</td>\n",
       "      <td>2715.0</td>\n",
       "      <td>2024-01-02</td>\n",
       "    </tr>\n",
       "  </tbody>\n",
       "</table>\n",
       "</div>"
      ],
      "text/plain": [
       "     state     district                  market commodity        variety  \\\n",
       "0    Bihar  Muzaffarpur             Muzaffarpur     Wheat    147 Average   \n",
       "1  Gujarat       Amreli                Bagasara     Wheat  Lokwan Gujrat   \n",
       "2  Gujarat        Anand  Khambhat(Grain Market)     Wheat          Other   \n",
       "3  Gujarat   Banaskanth                   Deesa     Wheat          Other   \n",
       "4  Gujarat   Banaskanth                 Dhanera     Wheat          Other   \n",
       "\n",
       "  arrival_date  min_price  max_price  modal_price update_date  \n",
       "0   01/01/2024       2500       2590       2550.0  2024-01-02  \n",
       "1   02/01/2024       2370       2700       2535.0  2024-01-02  \n",
       "2   02/01/2024       2000       2550       2250.0  2024-01-02  \n",
       "3   02/01/2024       2415       2590       2500.0  2024-01-02  \n",
       "4   01/01/2024       2715       2715       2715.0  2024-01-02  "
      ]
     },
     "execution_count": 65,
     "metadata": {},
     "output_type": "execute_result"
    }
   ],
   "source": [
    "df.head()"
   ]
  },
  {
   "cell_type": "markdown",
   "id": "efee40fb",
   "metadata": {},
   "source": [
    "- from the above execution we can see top 5 rows"
   ]
  },
  {
   "cell_type": "code",
   "execution_count": 66,
   "id": "1b236b02",
   "metadata": {},
   "outputs": [
    {
     "data": {
      "text/plain": [
       "(384, 10)"
      ]
     },
     "execution_count": 66,
     "metadata": {},
     "output_type": "execute_result"
    }
   ],
   "source": [
    "df.shape"
   ]
  },
  {
   "cell_type": "markdown",
   "id": "391ee8a0",
   "metadata": {},
   "source": [
    "we can clearly see that our data is too small \n",
    "- 384 rows and 10 columns"
   ]
  },
  {
   "cell_type": "code",
   "execution_count": 67,
   "id": "757629e4",
   "metadata": {},
   "outputs": [
    {
     "data": {
      "text/html": [
       "<div>\n",
       "<style scoped>\n",
       "    .dataframe tbody tr th:only-of-type {\n",
       "        vertical-align: middle;\n",
       "    }\n",
       "\n",
       "    .dataframe tbody tr th {\n",
       "        vertical-align: top;\n",
       "    }\n",
       "\n",
       "    .dataframe thead th {\n",
       "        text-align: right;\n",
       "    }\n",
       "</style>\n",
       "<table border=\"1\" class=\"dataframe\">\n",
       "  <thead>\n",
       "    <tr style=\"text-align: right;\">\n",
       "      <th></th>\n",
       "      <th>state</th>\n",
       "      <th>district</th>\n",
       "      <th>market</th>\n",
       "      <th>commodity</th>\n",
       "      <th>variety</th>\n",
       "      <th>arrival_date</th>\n",
       "      <th>min_price</th>\n",
       "      <th>max_price</th>\n",
       "      <th>modal_price</th>\n",
       "      <th>update_date</th>\n",
       "    </tr>\n",
       "  </thead>\n",
       "  <tbody>\n",
       "    <tr>\n",
       "      <th>46</th>\n",
       "      <td>Madhya Pradesh</td>\n",
       "      <td>Dhar</td>\n",
       "      <td>Dhar</td>\n",
       "      <td>Wheat</td>\n",
       "      <td>Lokwan</td>\n",
       "      <td>01/01/2024</td>\n",
       "      <td>2180</td>\n",
       "      <td>3190</td>\n",
       "      <td>2300.0</td>\n",
       "      <td>2024-01-02</td>\n",
       "    </tr>\n",
       "    <tr>\n",
       "      <th>284</th>\n",
       "      <td>Uttar Pradesh</td>\n",
       "      <td>Hardoi</td>\n",
       "      <td>Sandila</td>\n",
       "      <td>Wheat</td>\n",
       "      <td>Dara</td>\n",
       "      <td>02/01/2024</td>\n",
       "      <td>2400</td>\n",
       "      <td>2500</td>\n",
       "      <td>2450.0</td>\n",
       "      <td>2024-01-02</td>\n",
       "    </tr>\n",
       "    <tr>\n",
       "      <th>91</th>\n",
       "      <td>Madhya Pradesh</td>\n",
       "      <td>Sehore</td>\n",
       "      <td>Sehore</td>\n",
       "      <td>Wheat</td>\n",
       "      <td>Mill Quality</td>\n",
       "      <td>02/01/2024</td>\n",
       "      <td>2410</td>\n",
       "      <td>2600</td>\n",
       "      <td>2410.0</td>\n",
       "      <td>2024-01-02</td>\n",
       "    </tr>\n",
       "    <tr>\n",
       "      <th>188</th>\n",
       "      <td>Rajasthan</td>\n",
       "      <td>Dausa</td>\n",
       "      <td>Lalsot(Mandabari)</td>\n",
       "      <td>Wheat</td>\n",
       "      <td>Other</td>\n",
       "      <td>01/01/2024</td>\n",
       "      <td>2400</td>\n",
       "      <td>2415</td>\n",
       "      <td>2407.0</td>\n",
       "      <td>2024-01-02</td>\n",
       "    </tr>\n",
       "    <tr>\n",
       "      <th>203</th>\n",
       "      <td>Uttar Pradesh</td>\n",
       "      <td>Aligarh</td>\n",
       "      <td>Charra</td>\n",
       "      <td>Wheat</td>\n",
       "      <td>Dara</td>\n",
       "      <td>02/01/2024</td>\n",
       "      <td>2380</td>\n",
       "      <td>2420</td>\n",
       "      <td>2400.0</td>\n",
       "      <td>2024-01-02</td>\n",
       "    </tr>\n",
       "    <tr>\n",
       "      <th>135</th>\n",
       "      <td>Maharashtra</td>\n",
       "      <td>Nagpur</td>\n",
       "      <td>Katol</td>\n",
       "      <td>Wheat</td>\n",
       "      <td>Other</td>\n",
       "      <td>01/01/2024</td>\n",
       "      <td>2400</td>\n",
       "      <td>2450</td>\n",
       "      <td>2430.0</td>\n",
       "      <td>2024-01-02</td>\n",
       "    </tr>\n",
       "    <tr>\n",
       "      <th>237</th>\n",
       "      <td>Uttar Pradesh</td>\n",
       "      <td>Bulandshahar</td>\n",
       "      <td>Jahangirabad</td>\n",
       "      <td>Wheat</td>\n",
       "      <td>Dara</td>\n",
       "      <td>01/01/2024</td>\n",
       "      <td>2401</td>\n",
       "      <td>2411</td>\n",
       "      <td>2401.0</td>\n",
       "      <td>2024-01-02</td>\n",
       "    </tr>\n",
       "    <tr>\n",
       "      <th>326</th>\n",
       "      <td>Uttar Pradesh</td>\n",
       "      <td>Mainpuri</td>\n",
       "      <td>Mainpuri</td>\n",
       "      <td>Wheat</td>\n",
       "      <td>Dara</td>\n",
       "      <td>01/01/2024</td>\n",
       "      <td>2290</td>\n",
       "      <td>2320</td>\n",
       "      <td>2310.0</td>\n",
       "      <td>2024-01-02</td>\n",
       "    </tr>\n",
       "    <tr>\n",
       "      <th>132</th>\n",
       "      <td>Maharashtra</td>\n",
       "      <td>Jalgaon</td>\n",
       "      <td>Jalgaon</td>\n",
       "      <td>Wheat</td>\n",
       "      <td>147 Average</td>\n",
       "      <td>02/01/2024</td>\n",
       "      <td>2200</td>\n",
       "      <td>2200</td>\n",
       "      <td>2200.0</td>\n",
       "      <td>2024-01-02</td>\n",
       "    </tr>\n",
       "    <tr>\n",
       "      <th>369</th>\n",
       "      <td>Uttar Pradesh</td>\n",
       "      <td>Sitapur</td>\n",
       "      <td>Viswan</td>\n",
       "      <td>Wheat</td>\n",
       "      <td>Dara</td>\n",
       "      <td>02/01/2024</td>\n",
       "      <td>2400</td>\n",
       "      <td>2440</td>\n",
       "      <td>2420.0</td>\n",
       "      <td>2024-01-02</td>\n",
       "    </tr>\n",
       "    <tr>\n",
       "      <th>64</th>\n",
       "      <td>Madhya Pradesh</td>\n",
       "      <td>Indore</td>\n",
       "      <td>Indore</td>\n",
       "      <td>Wheat</td>\n",
       "      <td>Lokwan</td>\n",
       "      <td>01/01/2024</td>\n",
       "      <td>3000</td>\n",
       "      <td>3100</td>\n",
       "      <td>2460.0</td>\n",
       "      <td>2024-01-02</td>\n",
       "    </tr>\n",
       "    <tr>\n",
       "      <th>260</th>\n",
       "      <td>Uttar Pradesh</td>\n",
       "      <td>Fatehpur</td>\n",
       "      <td>Khaga</td>\n",
       "      <td>Wheat</td>\n",
       "      <td>Dara</td>\n",
       "      <td>01/01/2024</td>\n",
       "      <td>2360</td>\n",
       "      <td>2450</td>\n",
       "      <td>2410.0</td>\n",
       "      <td>2024-01-02</td>\n",
       "    </tr>\n",
       "    <tr>\n",
       "      <th>240</th>\n",
       "      <td>Uttar Pradesh</td>\n",
       "      <td>Chandauli</td>\n",
       "      <td>Chandoli</td>\n",
       "      <td>Wheat</td>\n",
       "      <td>Dara</td>\n",
       "      <td>01/01/2024</td>\n",
       "      <td>2490</td>\n",
       "      <td>2530</td>\n",
       "      <td>2510.0</td>\n",
       "      <td>2024-01-02</td>\n",
       "    </tr>\n",
       "    <tr>\n",
       "      <th>202</th>\n",
       "      <td>Uttar Pradesh</td>\n",
       "      <td>Aligarh</td>\n",
       "      <td>Aligarh</td>\n",
       "      <td>Wheat</td>\n",
       "      <td>Dara</td>\n",
       "      <td>02/01/2024</td>\n",
       "      <td>2410</td>\n",
       "      <td>2450</td>\n",
       "      <td>2430.0</td>\n",
       "      <td>2024-01-02</td>\n",
       "    </tr>\n",
       "    <tr>\n",
       "      <th>218</th>\n",
       "      <td>Uttar Pradesh</td>\n",
       "      <td>Badaun</td>\n",
       "      <td>Badayoun</td>\n",
       "      <td>Wheat</td>\n",
       "      <td>Dara</td>\n",
       "      <td>02/01/2024</td>\n",
       "      <td>2450</td>\n",
       "      <td>2560</td>\n",
       "      <td>2500.0</td>\n",
       "      <td>2024-01-02</td>\n",
       "    </tr>\n",
       "    <tr>\n",
       "      <th>235</th>\n",
       "      <td>Uttar Pradesh</td>\n",
       "      <td>Bijnor</td>\n",
       "      <td>Bijnaur</td>\n",
       "      <td>Wheat</td>\n",
       "      <td>Dara</td>\n",
       "      <td>01/01/2024</td>\n",
       "      <td>2450</td>\n",
       "      <td>2650</td>\n",
       "      <td>2540.0</td>\n",
       "      <td>2024-01-02</td>\n",
       "    </tr>\n",
       "    <tr>\n",
       "      <th>41</th>\n",
       "      <td>Madhya Pradesh</td>\n",
       "      <td>Chhatarpur</td>\n",
       "      <td>Badamalhera</td>\n",
       "      <td>Wheat</td>\n",
       "      <td>Mill Quality</td>\n",
       "      <td>01/01/2024</td>\n",
       "      <td>2100</td>\n",
       "      <td>2220</td>\n",
       "      <td>2200.0</td>\n",
       "      <td>2024-01-02</td>\n",
       "    </tr>\n",
       "    <tr>\n",
       "      <th>137</th>\n",
       "      <td>Maharashtra</td>\n",
       "      <td>Nagpur</td>\n",
       "      <td>Nagpur</td>\n",
       "      <td>Wheat</td>\n",
       "      <td>Other</td>\n",
       "      <td>01/01/2024</td>\n",
       "      <td>2412</td>\n",
       "      <td>2716</td>\n",
       "      <td>2640.0</td>\n",
       "      <td>2024-01-02</td>\n",
       "    </tr>\n",
       "    <tr>\n",
       "      <th>306</th>\n",
       "      <td>Uttar Pradesh</td>\n",
       "      <td>Kanpur</td>\n",
       "      <td>Jhijhank</td>\n",
       "      <td>Wheat</td>\n",
       "      <td>Dara</td>\n",
       "      <td>02/01/2024</td>\n",
       "      <td>2400</td>\n",
       "      <td>2530</td>\n",
       "      <td>2460.0</td>\n",
       "      <td>2024-01-02</td>\n",
       "    </tr>\n",
       "    <tr>\n",
       "      <th>105</th>\n",
       "      <td>Maharashtra</td>\n",
       "      <td>Ahmednagar</td>\n",
       "      <td>Sangamner</td>\n",
       "      <td>Wheat</td>\n",
       "      <td>Other</td>\n",
       "      <td>01/01/2024</td>\n",
       "      <td>2550</td>\n",
       "      <td>2626</td>\n",
       "      <td>2588.0</td>\n",
       "      <td>2024-01-02</td>\n",
       "    </tr>\n",
       "  </tbody>\n",
       "</table>\n",
       "</div>"
      ],
      "text/plain": [
       "              state      district             market commodity       variety  \\\n",
       "46   Madhya Pradesh          Dhar               Dhar     Wheat        Lokwan   \n",
       "284   Uttar Pradesh        Hardoi            Sandila     Wheat          Dara   \n",
       "91   Madhya Pradesh        Sehore             Sehore     Wheat  Mill Quality   \n",
       "188       Rajasthan         Dausa  Lalsot(Mandabari)     Wheat         Other   \n",
       "203   Uttar Pradesh       Aligarh             Charra     Wheat          Dara   \n",
       "135     Maharashtra        Nagpur              Katol     Wheat         Other   \n",
       "237   Uttar Pradesh  Bulandshahar       Jahangirabad     Wheat          Dara   \n",
       "326   Uttar Pradesh      Mainpuri           Mainpuri     Wheat          Dara   \n",
       "132     Maharashtra       Jalgaon            Jalgaon     Wheat   147 Average   \n",
       "369   Uttar Pradesh       Sitapur             Viswan     Wheat          Dara   \n",
       "64   Madhya Pradesh        Indore             Indore     Wheat        Lokwan   \n",
       "260   Uttar Pradesh      Fatehpur              Khaga     Wheat          Dara   \n",
       "240   Uttar Pradesh     Chandauli           Chandoli     Wheat          Dara   \n",
       "202   Uttar Pradesh       Aligarh            Aligarh     Wheat          Dara   \n",
       "218   Uttar Pradesh        Badaun           Badayoun     Wheat          Dara   \n",
       "235   Uttar Pradesh        Bijnor            Bijnaur     Wheat          Dara   \n",
       "41   Madhya Pradesh    Chhatarpur        Badamalhera     Wheat  Mill Quality   \n",
       "137     Maharashtra        Nagpur             Nagpur     Wheat         Other   \n",
       "306   Uttar Pradesh        Kanpur           Jhijhank     Wheat          Dara   \n",
       "105     Maharashtra    Ahmednagar          Sangamner     Wheat         Other   \n",
       "\n",
       "    arrival_date  min_price  max_price  modal_price update_date  \n",
       "46    01/01/2024       2180       3190       2300.0  2024-01-02  \n",
       "284   02/01/2024       2400       2500       2450.0  2024-01-02  \n",
       "91    02/01/2024       2410       2600       2410.0  2024-01-02  \n",
       "188   01/01/2024       2400       2415       2407.0  2024-01-02  \n",
       "203   02/01/2024       2380       2420       2400.0  2024-01-02  \n",
       "135   01/01/2024       2400       2450       2430.0  2024-01-02  \n",
       "237   01/01/2024       2401       2411       2401.0  2024-01-02  \n",
       "326   01/01/2024       2290       2320       2310.0  2024-01-02  \n",
       "132   02/01/2024       2200       2200       2200.0  2024-01-02  \n",
       "369   02/01/2024       2400       2440       2420.0  2024-01-02  \n",
       "64    01/01/2024       3000       3100       2460.0  2024-01-02  \n",
       "260   01/01/2024       2360       2450       2410.0  2024-01-02  \n",
       "240   01/01/2024       2490       2530       2510.0  2024-01-02  \n",
       "202   02/01/2024       2410       2450       2430.0  2024-01-02  \n",
       "218   02/01/2024       2450       2560       2500.0  2024-01-02  \n",
       "235   01/01/2024       2450       2650       2540.0  2024-01-02  \n",
       "41    01/01/2024       2100       2220       2200.0  2024-01-02  \n",
       "137   01/01/2024       2412       2716       2640.0  2024-01-02  \n",
       "306   02/01/2024       2400       2530       2460.0  2024-01-02  \n",
       "105   01/01/2024       2550       2626       2588.0  2024-01-02  "
      ]
     },
     "execution_count": 67,
     "metadata": {},
     "output_type": "execute_result"
    }
   ],
   "source": [
    "df.sample(20)"
   ]
  },
  {
   "cell_type": "markdown",
   "id": "9e5bb1e1",
   "metadata": {},
   "source": [
    "- randomly see the 20 rows of the dataset"
   ]
  },
  {
   "cell_type": "code",
   "execution_count": 68,
   "id": "c622d427",
   "metadata": {},
   "outputs": [
    {
     "data": {
      "text/plain": [
       "Index(['state', 'district', 'market', 'commodity', 'variety', 'arrival_date',\n",
       "       'min_price', 'max_price', 'modal_price', 'update_date'],\n",
       "      dtype='object')"
      ]
     },
     "execution_count": 68,
     "metadata": {},
     "output_type": "execute_result"
    }
   ],
   "source": [
    "df.columns"
   ]
  },
  {
   "cell_type": "code",
   "execution_count": 69,
   "id": "c616e21e",
   "metadata": {},
   "outputs": [
    {
     "name": "stdout",
     "output_type": "stream",
     "text": [
      "<class 'pandas.core.frame.DataFrame'>\n",
      "RangeIndex: 384 entries, 0 to 383\n",
      "Data columns (total 10 columns):\n",
      " #   Column        Non-Null Count  Dtype  \n",
      "---  ------        --------------  -----  \n",
      " 0   state         384 non-null    object \n",
      " 1   district      384 non-null    object \n",
      " 2   market        384 non-null    object \n",
      " 3   commodity     384 non-null    object \n",
      " 4   variety       384 non-null    object \n",
      " 5   arrival_date  384 non-null    object \n",
      " 6   min_price     384 non-null    int64  \n",
      " 7   max_price     384 non-null    int64  \n",
      " 8   modal_price   384 non-null    float64\n",
      " 9   update_date   384 non-null    object \n",
      "dtypes: float64(1), int64(2), object(7)\n",
      "memory usage: 30.1+ KB\n"
     ]
    }
   ],
   "source": [
    "df.info()"
   ]
  },
  {
   "cell_type": "markdown",
   "id": "f23947f9",
   "metadata": {},
   "source": [
    "- from the above observation we see that there are 7 object data types and 2 int and 1 float object"
   ]
  },
  {
   "cell_type": "code",
   "execution_count": 70,
   "id": "0df2cd8d",
   "metadata": {},
   "outputs": [
    {
     "data": {
      "text/html": [
       "<div>\n",
       "<style scoped>\n",
       "    .dataframe tbody tr th:only-of-type {\n",
       "        vertical-align: middle;\n",
       "    }\n",
       "\n",
       "    .dataframe tbody tr th {\n",
       "        vertical-align: top;\n",
       "    }\n",
       "\n",
       "    .dataframe thead th {\n",
       "        text-align: right;\n",
       "    }\n",
       "</style>\n",
       "<table border=\"1\" class=\"dataframe\">\n",
       "  <thead>\n",
       "    <tr style=\"text-align: right;\">\n",
       "      <th></th>\n",
       "      <th>min_price</th>\n",
       "      <th>max_price</th>\n",
       "      <th>modal_price</th>\n",
       "    </tr>\n",
       "  </thead>\n",
       "  <tbody>\n",
       "    <tr>\n",
       "      <th>count</th>\n",
       "      <td>384.000000</td>\n",
       "      <td>384.000000</td>\n",
       "      <td>384.000000</td>\n",
       "    </tr>\n",
       "    <tr>\n",
       "      <th>mean</th>\n",
       "      <td>2432.846354</td>\n",
       "      <td>2630.643229</td>\n",
       "      <td>2503.615885</td>\n",
       "    </tr>\n",
       "    <tr>\n",
       "      <th>std</th>\n",
       "      <td>252.679851</td>\n",
       "      <td>327.752207</td>\n",
       "      <td>235.955906</td>\n",
       "    </tr>\n",
       "    <tr>\n",
       "      <th>min</th>\n",
       "      <td>1750.000000</td>\n",
       "      <td>1850.000000</td>\n",
       "      <td>1800.000000</td>\n",
       "    </tr>\n",
       "    <tr>\n",
       "      <th>25%</th>\n",
       "      <td>2348.750000</td>\n",
       "      <td>2460.000000</td>\n",
       "      <td>2409.500000</td>\n",
       "    </tr>\n",
       "    <tr>\n",
       "      <th>50%</th>\n",
       "      <td>2410.000000</td>\n",
       "      <td>2550.000000</td>\n",
       "      <td>2478.000000</td>\n",
       "    </tr>\n",
       "    <tr>\n",
       "      <th>75%</th>\n",
       "      <td>2485.000000</td>\n",
       "      <td>2652.500000</td>\n",
       "      <td>2530.000000</td>\n",
       "    </tr>\n",
       "    <tr>\n",
       "      <th>max</th>\n",
       "      <td>4701.000000</td>\n",
       "      <td>4701.000000</td>\n",
       "      <td>4100.000000</td>\n",
       "    </tr>\n",
       "  </tbody>\n",
       "</table>\n",
       "</div>"
      ],
      "text/plain": [
       "         min_price    max_price  modal_price\n",
       "count   384.000000   384.000000   384.000000\n",
       "mean   2432.846354  2630.643229  2503.615885\n",
       "std     252.679851   327.752207   235.955906\n",
       "min    1750.000000  1850.000000  1800.000000\n",
       "25%    2348.750000  2460.000000  2409.500000\n",
       "50%    2410.000000  2550.000000  2478.000000\n",
       "75%    2485.000000  2652.500000  2530.000000\n",
       "max    4701.000000  4701.000000  4100.000000"
      ]
     },
     "execution_count": 70,
     "metadata": {},
     "output_type": "execute_result"
    }
   ],
   "source": [
    "# collecting some statstical summary from our data\n",
    "df.describe()"
   ]
  },
  {
   "cell_type": "code",
   "execution_count": 71,
   "id": "63d0507e",
   "metadata": {},
   "outputs": [
    {
     "data": {
      "text/plain": [
       "state           0\n",
       "district        0\n",
       "market          0\n",
       "commodity       0\n",
       "variety         0\n",
       "arrival_date    0\n",
       "min_price       0\n",
       "max_price       0\n",
       "modal_price     0\n",
       "update_date     0\n",
       "dtype: int64"
      ]
     },
     "execution_count": 71,
     "metadata": {},
     "output_type": "execute_result"
    }
   ],
   "source": [
    "df.isnull().sum()"
   ]
  },
  {
   "cell_type": "code",
   "execution_count": 72,
   "id": "b9531b7b",
   "metadata": {},
   "outputs": [
    {
     "data": {
      "text/plain": [
       "state           False\n",
       "district        False\n",
       "market          False\n",
       "commodity       False\n",
       "variety         False\n",
       "arrival_date    False\n",
       "min_price       False\n",
       "max_price       False\n",
       "modal_price     False\n",
       "update_date     False\n",
       "dtype: bool"
      ]
     },
     "execution_count": 72,
     "metadata": {},
     "output_type": "execute_result"
    }
   ],
   "source": [
    "missing_values = df.isin([\"?\", \"NaN\", \"Null\"])\n",
    "missing_values.any()"
   ]
  },
  {
   "cell_type": "markdown",
   "id": "0f633183",
   "metadata": {},
   "source": [
    "there are no mi2ssing values in our dataset"
   ]
  },
  {
   "cell_type": "code",
   "execution_count": 73,
   "id": "f0362cdd",
   "metadata": {},
   "outputs": [
    {
     "data": {
      "text/plain": [
       "0"
      ]
     },
     "execution_count": 73,
     "metadata": {},
     "output_type": "execute_result"
    }
   ],
   "source": [
    "# lets see any duplicates are present in our data\n",
    "df.duplicated().sum()"
   ]
  },
  {
   "cell_type": "markdown",
   "id": "3dca455b",
   "metadata": {},
   "source": [
    "there are no duplicates in our data"
   ]
  },
  {
   "cell_type": "markdown",
   "id": "b0e560d3",
   "metadata": {},
   "source": [
    "### We have done our basic understanding about the dataset"
   ]
  },
  {
   "cell_type": "markdown",
   "id": "2c57be0f",
   "metadata": {},
   "source": [
    "## Explotary Data Anlaysis"
   ]
  },
  {
   "cell_type": "code",
   "execution_count": 74,
   "id": "aeb4701d",
   "metadata": {},
   "outputs": [
    {
     "data": {
      "text/plain": [
       "Index(['state', 'district', 'market', 'commodity', 'variety', 'arrival_date',\n",
       "       'min_price', 'max_price', 'modal_price', 'update_date'],\n",
       "      dtype='object')"
      ]
     },
     "execution_count": 74,
     "metadata": {},
     "output_type": "execute_result"
    }
   ],
   "source": [
    "df.columns"
   ]
  },
  {
   "cell_type": "code",
   "execution_count": 75,
   "id": "1d17b6d9",
   "metadata": {},
   "outputs": [
    {
     "data": {
      "text/plain": [
       "array(['Bihar', 'Gujarat', 'Karnataka', 'Madhya Pradesh', 'Maharashtra',\n",
       "       'Rajasthan', 'Uttar Pradesh', 'West Bengal'], dtype=object)"
      ]
     },
     "execution_count": 75,
     "metadata": {},
     "output_type": "execute_result"
    }
   ],
   "source": [
    "df[\"state\"].unique()"
   ]
  },
  {
   "cell_type": "markdown",
   "id": "f2cf672e",
   "metadata": {},
   "source": [
    "we can see that there are total 8 unique states in our data"
   ]
  },
  {
   "cell_type": "code",
   "execution_count": 76,
   "id": "d78a7587",
   "metadata": {},
   "outputs": [
    {
     "data": {
      "text/plain": [
       "state\n",
       "Uttar Pradesh     182\n",
       "Maharashtra        74\n",
       "Madhya Pradesh     66\n",
       "Gujarat            27\n",
       "Rajasthan          21\n",
       "Karnataka           8\n",
       "West Bengal         5\n",
       "Bihar               1\n",
       "Name: count, dtype: int64"
      ]
     },
     "execution_count": 76,
     "metadata": {},
     "output_type": "execute_result"
    }
   ],
   "source": [
    "df[\"state\"].value_counts()"
   ]
  },
  {
   "cell_type": "markdown",
   "id": "e72f9334",
   "metadata": {},
   "source": [
    "- Uttar pradesh , maharashtra and madhya pradesh has the highest frequecy distribution\n",
    "- West Bengal and bihar have the least number of frequecy in our data"
   ]
  },
  {
   "cell_type": "code",
   "execution_count": 77,
   "id": "901c5d99",
   "metadata": {},
   "outputs": [
    {
     "data": {
      "text/plain": [
       "Text(0.5, 1.0, 'Frequency distribution of State Column')"
      ]
     },
     "execution_count": 77,
     "metadata": {},
     "output_type": "execute_result"
    },
    {
     "data": {
      "image/png": "[encoded data removed]",
      "text/plain": [
       "<Figure size 1500x600 with 1 Axes>"
      ]
     },
     "metadata": {},
     "output_type": "display_data"
    }
   ],
   "source": [
    "# lets visulaize our state column \n",
    "plt.figure(figsize=(15 , 6))\n",
    "plt.style.use(\"fivethirtyeight\")\n",
    "sns.countplot(data = df , x= \"state\" , order = df[\"state\"].value_counts(ascending=False).index)\n",
    "plt.xlabel(\"States of India\")\n",
    "plt.ylabel(\"Count\")\n",
    "plt.title(\"Frequency distribution of State Column\")"
   ]
  },
  {
   "cell_type": "markdown",
   "id": "1b76c228",
   "metadata": {},
   "source": [
    "from the above observation we can clearly see that:\n",
    "- Uttar pradesh , maharashtra and madhya pradesh has the highest frequecy distribution\n",
    "- West Bengal and bihar have the least number of frequecy in our data"
   ]
  },
  {
   "cell_type": "code",
   "execution_count": 78,
   "id": "4b3eeb0d",
   "metadata": {},
   "outputs": [
    {
     "data": {
      "text/plain": [
       "array(['Muzaffarpur', 'Amreli', 'Anand', 'Banaskanth', 'Dahod',\n",
       "       'Gandhinagar', 'Jamnagar', 'Junagarh', 'Mehsana', 'Patan',\n",
       "       'Rajkot', 'Surendranagar', 'Bangalore', 'Bidar', 'Bijapur',\n",
       "       'Dharwad', 'Gadag', 'Shimoga', 'Ashoknagar', 'Betul', 'Bhopal',\n",
       "       'Chhatarpur', 'Datia', 'Dewas', 'Dhar', 'Guna', 'Harda',\n",
       "       'Hoshangabad', 'Indore', 'Katni', 'Khandwa', 'Khargone',\n",
       "       'Mandsaur', 'Narsinghpur', 'Panna', 'Rajgarh', 'Ratlam', 'Rewa',\n",
       "       'Sagar', 'Satna', 'Sehore', 'Shivpuri', 'Tikamgarh', 'Vidisha',\n",
       "       'Ahmednagar', 'Akola', 'Amarawati', 'Aurangabad', 'Beed',\n",
       "       'Buldhana', 'Dhule', 'Hingoli', 'Jalana', 'Jalgaon', 'Latur',\n",
       "       'Nagpur', 'Nanded', 'Nandurbar', 'Nashik', 'Parbhani', 'Pune',\n",
       "       'Sangli', 'Sholapur', 'Thane', 'Vashim', 'Wardha', 'Yavatmal',\n",
       "       'Ajmer', 'Alwar', 'Baran', 'Bharatpur', 'Bhilwara', 'Dausa',\n",
       "       'Ganganagar', 'Jhalawar', 'Kota', 'Swai Madhopur', 'Tonk', 'Agra',\n",
       "       'Aligarh', 'Allahabad', 'Ambedkarnagar', 'Auraiya', 'Azamgarh',\n",
       "       'Badaun', 'Bahraich', 'Ballia', 'Balrampur', 'Banda', 'Barabanki',\n",
       "       'Bareilly', 'Bijnor', 'Bulandshahar', 'Chandauli', 'Chitrakut',\n",
       "       'Deoria', 'Etah', 'Etawah', 'Faizabad', 'Farukhabad', 'Fatehpur',\n",
       "       'Firozabad', 'Gautam Budh Nagar', 'Ghaziabad', 'Ghazipur', 'Gonda',\n",
       "       'Gorakhpur', 'Hamirpur', 'Hardoi', 'Hathras', 'Jalaun (Orai)',\n",
       "       'Jaunpur', 'Jhansi', 'Jyotiba Phule Nagar', 'Kannuj', 'Kanpur',\n",
       "       'Khiri (Lakhimpur)', 'Lakhimpur', 'Lalitpur', 'Lucknow',\n",
       "       'Maharajganj', 'Mahoba', 'Mainpuri', 'Mathura', 'Meerut',\n",
       "       'Mirzapur', 'Muradabad', 'Muzaffarnagar', 'Padrauna(Kusinagar)',\n",
       "       'Pillibhit', 'Pratapgarh', 'Raebarelli', 'Rampur', 'Saharanpur',\n",
       "       'Shahjahanpur', 'Siddharth Nagar', 'Sitapur', 'Sonbhadra',\n",
       "       'Sultanpur', 'Unnao', 'Bankura', 'Birbhum'], dtype=object)"
      ]
     },
     "execution_count": 78,
     "metadata": {},
     "output_type": "execute_result"
    }
   ],
   "source": [
    "df[\"district\"].unique()"
   ]
  },
  {
   "cell_type": "markdown",
   "id": "f4a3ac95",
   "metadata": {},
   "source": [
    "there are so many unique district in our data\n",
    "so we'll now check the top value counts of district"
   ]
  },
  {
   "cell_type": "code",
   "execution_count": 79,
   "id": "f5c2732c",
   "metadata": {},
   "outputs": [],
   "source": [
    "top_10_district = df[\"district\"].value_counts().head(10)"
   ]
  },
  {
   "cell_type": "code",
   "execution_count": 80,
   "id": "3a5e93da",
   "metadata": {},
   "outputs": [
    {
     "data": {
      "text/plain": [
       "district\n",
       "Nashik           10\n",
       "Hardoi            9\n",
       "Banaskanth        8\n",
       "Harda             8\n",
       "Sehore            7\n",
       "Kanpur            7\n",
       "Sitapur           6\n",
       "Ahmednagar        6\n",
       "Raebarelli        6\n",
       "Jalaun (Orai)     6\n",
       "Name: count, dtype: int64"
      ]
     },
     "execution_count": 80,
     "metadata": {},
     "output_type": "execute_result"
    }
   ],
   "source": [
    "top_10_district"
   ]
  },
  {
   "cell_type": "code",
   "execution_count": 81,
   "id": "bf2760b2",
   "metadata": {},
   "outputs": [
    {
     "data": {
      "text/plain": [
       "<Axes: xlabel='district'>"
      ]
     },
     "execution_count": 81,
     "metadata": {},
     "output_type": "execute_result"
    },
    {
     "data": {
      "image/png": "[encoded data removed]",
      "text/plain": [
       "<Figure size 1000x600 with 1 Axes>"
      ]
     },
     "metadata": {},
     "output_type": "display_data"
    }
   ],
   "source": [
    "plt.figure(figsize=(10 , 6))\n",
    "plt.style.use(\"fivethirtyeight\")\n",
    "df[\"district\"].value_counts(ascending=False).head(10).plot(kind=\"bar\")"
   ]
  },
  {
   "cell_type": "code",
   "execution_count": 82,
   "id": "fbda04e0",
   "metadata": {},
   "outputs": [
    {
     "data": {
      "text/plain": [
       "array(['Muzaffarpur', 'Bagasara', 'Khambhat(Grain Market)', 'Deesa',\n",
       "       'Dhanera', 'Palanpur', 'Thara', 'Vadgam', 'Dahod', 'Dehgam',\n",
       "       'Dhrol', 'Visavadar', 'Kadi', 'Siddhpur', 'Dhoraji', 'Rajkot',\n",
       "       'Dhragradhra', 'Halvad', 'Bangalore', 'Basava Kalayana', 'Bidar',\n",
       "       'Bijapur', 'Hubli (Amaragol)', 'Laxmeshwar', 'Shimoga',\n",
       "       'Ashoknagar', 'Betul', 'Berasia', 'Badamalhera', 'Datia', 'Dewas',\n",
       "       'Badnawar', 'Dhar', 'Manawar', 'Rajgarh', 'Kumbhraj', 'Harda',\n",
       "       'Khirakiya', 'Sirali', 'Timarni', 'Babai', 'Hoshangabad',\n",
       "       'Pipariya', 'Semriharchand', 'Indore', 'Katni', 'Harsood',\n",
       "       'Khandwa', 'Kasrawad', 'Mandsaur', 'Narsinghpur', 'Ajaygarh',\n",
       "       'Jeerapur', 'Kurawar', 'Narsinghgarh', 'Pachaur', 'Ratlam',\n",
       "       'Sailana', 'Baikunthpur', 'Bina', 'Khurai', 'Nagod', 'Satna',\n",
       "       'Sehore', 'Shyampur', 'Karera', 'Khaniadhana', 'Tikamgarh',\n",
       "       'Ganjbasoda', 'Sironj', 'Vidisha', 'Jamkhed', 'Kopargaon',\n",
       "       'Rahata', 'Sangamner', 'Shevgaon', 'Shevgaon(Bodhegaon)', 'Akola',\n",
       "       'Amarawati', 'Morshi', 'Varud', 'Aurangabad', 'Lasur Station',\n",
       "       'Gevrai', 'Kada', 'Kille Dharur', 'Majalgaon', 'Chikali',\n",
       "       'Deoulgaon Raja', 'Khamgaon', 'Nandura', 'Dhule', 'Dondaicha',\n",
       "       'Hingoli', 'Ambad (Vadigodri)', 'Bhokardan(Pimpalgaon Renu)',\n",
       "       'Jalana', 'Partur', 'Amalner', 'Jalgaon', 'Pachora',\n",
       "       'Aurad Shahajani', 'Katol', 'Nagpur', 'Loha', 'Nanded', 'Navapur',\n",
       "       'Devala', 'Lasalgaon', 'Lasalgaon(Niphad)', 'Lasalgaon(Vinchur)',\n",
       "       'Malegaon', 'Manmad', 'Nandgaon', 'Satana', 'Sinner', 'Yeola',\n",
       "       'Gangakhed', 'Pathari', 'Sonpeth', 'Baramati', 'Sangli', 'Barshi',\n",
       "       'Barshi(Vairag)', 'Karmala', 'Kurdwadi(Modnimb)', 'Mangal Wedha',\n",
       "       'Solapur', 'Kalyan', 'Palghar', 'Ulhasnagar', 'Karanja',\n",
       "       'Mangrulpeer', 'Washim(Ansing)', 'Sindi(Selu)', 'Yeotmal',\n",
       "       'Madanganj Kishanganj', 'Vijay Nagar(Gulabpura)', 'Alwar',\n",
       "       'Khedh(Bodaramev)', 'Khedli(laxmangarh)', 'Kherli', 'Atru',\n",
       "       'Atru(Kawai Salpura)', 'Bharatpur', 'Nadwai', 'Bhilwara',\n",
       "       'Bandikui', 'Lalsot(Mandabari)', 'Mahuwa Mandawar',\n",
       "       'Sriganganagar', 'Khanpur', 'Kota', 'Ramaganj Mandi',\n",
       "       'Gangapur City', 'Niwai', 'Achnera', 'Agra', 'Aligarh', 'Charra',\n",
       "       'Khair', 'Ajuha', 'Allahabad', 'Akbarpur', 'Achalda', 'Auraiya',\n",
       "       'Azamgarh', 'Badayoun', 'Ujhani', 'Wazirganj', 'Bahraich',\n",
       "       'Naanpara', 'Ballia', 'Rasda', 'Tulsipur', 'Atarra', 'Baberu',\n",
       "       'Banda', 'Barabanki', 'Safdarganj', 'Bareilly', 'Bijnaur',\n",
       "       'Jahangirabad', 'Khurja', 'Siyana', 'Chandoli', 'Karvi', 'Barhaj',\n",
       "       'Devariya', 'Aliganj', 'Etah', 'Bharthna', 'Etawah', 'Faizabad',\n",
       "       'Farukhabad', 'Kayamganj', 'Mohamadabad', 'Bindki', 'Fatehpur',\n",
       "       'Khaga', 'Firozabad', 'Tundla', 'Dadri', 'Dankaur', 'Ghaziabad',\n",
       "       'Hapur', 'Gazipur', 'Gonda', 'Gorakhpur', 'Bharuasumerpur',\n",
       "       'Maudaha', 'Hardoi', 'Madhoganj', 'Sandi', 'Sandila',\n",
       "       'Shahabad(New Mandi)', 'Haathras', 'Ait', 'Konch', 'Madhogarh',\n",
       "       'Orai', 'Jaunpur', 'Mugrabaadshahpur', 'Shahganj', 'Gurusarai',\n",
       "       'Jhansi', 'Amroha', 'Dhanura', 'Chhibramau(Kannuj)', 'Kannauj',\n",
       "       'Choubepur', 'Jhijhank', 'Kanpur(Grain)', 'Uttaripura', 'Varipaal',\n",
       "       'Mohammdi', 'Golagokarnath', 'Lakhimpur', 'Lalitpur', 'Banthara',\n",
       "       'Lucknow', 'Anandnagar', 'Mahoba', 'Ghiraur', 'Mainpuri',\n",
       "       'Mathura', 'Meerut', 'Ahirora', 'Mirzapur', 'Chandausi',\n",
       "       'Muradabad', 'Muzzafarnagar', 'Shamli', 'Tamkuhi Road', 'Pilibhit',\n",
       "       'Puranpur', 'Vishalpur', 'Pratapgarh', 'Jayas', 'Lalganj',\n",
       "       'Raibareilly', 'Salon', 'Rampur', 'Saharanpur', 'Puwaha',\n",
       "       'Shahjahanpur', 'Naugarh', 'Sahiyapur', 'Mehmoodabad', 'Sitapur',\n",
       "       'Viswan', 'Robertsganj', 'Jafarganj', 'Sultanpur', 'Bangarmau',\n",
       "       'Unnao', 'Bishnupur(Bankura)', 'Khatra', 'Rampurhat'], dtype=object)"
      ]
     },
     "execution_count": 82,
     "metadata": {},
     "output_type": "execute_result"
    }
   ],
   "source": [
    "df[\"market\"].unique()"
   ]
  },
  {
   "cell_type": "markdown",
   "id": "d07e09ef",
   "metadata": {},
   "source": [
    "so here we also have a same problem so we will take top 10 markets area "
   ]
  },
  {
   "cell_type": "code",
   "execution_count": 83,
   "id": "ca8c3942",
   "metadata": {},
   "outputs": [
    {
     "data": {
      "text/plain": [
       "market\n",
       "Sehore              6\n",
       "Rajkot              4\n",
       "Harda               4\n",
       "Mandsaur            3\n",
       "Rampurhat           2\n",
       "                   ..\n",
       "Nandgaon            1\n",
       "Satana              1\n",
       "Sinner              1\n",
       "Yeola               1\n",
       "Khedh(Bodaramev)    1\n",
       "Name: count, Length: 279, dtype: int64"
      ]
     },
     "execution_count": 83,
     "metadata": {},
     "output_type": "execute_result"
    }
   ],
   "source": [
    "df[\"market\"].value_counts()"
   ]
  },
  {
   "cell_type": "code",
   "execution_count": 84,
   "id": "57aefab5",
   "metadata": {},
   "outputs": [],
   "source": [
    "top_10_market = df[\"market\"].value_counts().head(10)"
   ]
  },
  {
   "cell_type": "code",
   "execution_count": 85,
   "id": "2f0c4d24",
   "metadata": {},
   "outputs": [
    {
     "data": {
      "text/plain": [
       "market\n",
       "Sehore       6\n",
       "Rajkot       4\n",
       "Harda        4\n",
       "Mandsaur     3\n",
       "Rampurhat    2\n",
       "Dankaur      2\n",
       "Hapur        2\n",
       "Gazipur      2\n",
       "Gonda        2\n",
       "Hardoi       2\n",
       "Name: count, dtype: int64"
      ]
     },
     "execution_count": 85,
     "metadata": {},
     "output_type": "execute_result"
    }
   ],
   "source": [
    "top_10_market"
   ]
  },
  {
   "cell_type": "markdown",
   "id": "062b56b1",
   "metadata": {},
   "source": [
    "Sehore , Rajkot and Harda have the highest frequecy of distribution in our data       "
   ]
  },
  {
   "cell_type": "code",
   "execution_count": 86,
   "id": "8397feea",
   "metadata": {},
   "outputs": [
    {
     "data": {
      "text/plain": [
       "<Axes: ylabel='count'>"
      ]
     },
     "execution_count": 86,
     "metadata": {},
     "output_type": "execute_result"
    },
    {
     "data": {
      "image/png": "[encoded data removed]",
      "text/plain": [
       "<Figure size 1000x600 with 1 Axes>"
      ]
     },
     "metadata": {},
     "output_type": "display_data"
    }
   ],
   "source": [
    "plt.figure(figsize=(10 , 6))\n",
    "plt.style.use(\"fivethirtyeight\")\n",
    "df[\"district\"].value_counts(ascending=False).head(10).plot(kind=\"pie\", autopct='%1.1f%%')"
   ]
  },
  {
   "cell_type": "code",
   "execution_count": 87,
   "id": "725c410d",
   "metadata": {},
   "outputs": [
    {
     "data": {
      "text/plain": [
       "array(['Wheat'], dtype=object)"
      ]
     },
     "execution_count": 87,
     "metadata": {},
     "output_type": "execute_result"
    }
   ],
   "source": [
    "df[\"commodity\"].unique()"
   ]
  },
  {
   "cell_type": "markdown",
   "id": "783ade07",
   "metadata": {},
   "source": [
    "we have only one unique category in the commodity column because we are working of the variety of wheat data set"
   ]
  },
  {
   "cell_type": "code",
   "execution_count": 88,
   "id": "75fc4fbb",
   "metadata": {},
   "outputs": [
    {
     "data": {
      "text/plain": [
       "commodity\n",
       "Wheat    384\n",
       "Name: count, dtype: int64"
      ]
     },
     "execution_count": 88,
     "metadata": {},
     "output_type": "execute_result"
    }
   ],
   "source": [
    "# lets check the value counts of the wheat\n",
    "df[\"commodity\"].value_counts()"
   ]
  },
  {
   "cell_type": "markdown",
   "id": "9850d9e1",
   "metadata": {},
   "source": [
    "so there are 384 total distribution , our data shape is also 384 to that means we have only wheat category and there are no missing values in this columns\n",
    "\n",
    "- so we dont need to visualize the commodity feature"
   ]
  },
  {
   "cell_type": "code",
   "execution_count": 89,
   "id": "0981d354",
   "metadata": {},
   "outputs": [
    {
     "data": {
      "text/html": [
       "<div>\n",
       "<style scoped>\n",
       "    .dataframe tbody tr th:only-of-type {\n",
       "        vertical-align: middle;\n",
       "    }\n",
       "\n",
       "    .dataframe tbody tr th {\n",
       "        vertical-align: top;\n",
       "    }\n",
       "\n",
       "    .dataframe thead th {\n",
       "        text-align: right;\n",
       "    }\n",
       "</style>\n",
       "<table border=\"1\" class=\"dataframe\">\n",
       "  <thead>\n",
       "    <tr style=\"text-align: right;\">\n",
       "      <th></th>\n",
       "      <th>state</th>\n",
       "      <th>district</th>\n",
       "      <th>market</th>\n",
       "      <th>commodity</th>\n",
       "      <th>variety</th>\n",
       "      <th>arrival_date</th>\n",
       "      <th>min_price</th>\n",
       "      <th>max_price</th>\n",
       "      <th>modal_price</th>\n",
       "      <th>update_date</th>\n",
       "    </tr>\n",
       "  </thead>\n",
       "  <tbody>\n",
       "    <tr>\n",
       "      <th>0</th>\n",
       "      <td>Bihar</td>\n",
       "      <td>Muzaffarpur</td>\n",
       "      <td>Muzaffarpur</td>\n",
       "      <td>Wheat</td>\n",
       "      <td>147 Average</td>\n",
       "      <td>01/01/2024</td>\n",
       "      <td>2500</td>\n",
       "      <td>2590</td>\n",
       "      <td>2550.0</td>\n",
       "      <td>2024-01-02</td>\n",
       "    </tr>\n",
       "    <tr>\n",
       "      <th>1</th>\n",
       "      <td>Gujarat</td>\n",
       "      <td>Amreli</td>\n",
       "      <td>Bagasara</td>\n",
       "      <td>Wheat</td>\n",
       "      <td>Lokwan Gujrat</td>\n",
       "      <td>02/01/2024</td>\n",
       "      <td>2370</td>\n",
       "      <td>2700</td>\n",
       "      <td>2535.0</td>\n",
       "      <td>2024-01-02</td>\n",
       "    </tr>\n",
       "    <tr>\n",
       "      <th>2</th>\n",
       "      <td>Gujarat</td>\n",
       "      <td>Anand</td>\n",
       "      <td>Khambhat(Grain Market)</td>\n",
       "      <td>Wheat</td>\n",
       "      <td>Other</td>\n",
       "      <td>02/01/2024</td>\n",
       "      <td>2000</td>\n",
       "      <td>2550</td>\n",
       "      <td>2250.0</td>\n",
       "      <td>2024-01-02</td>\n",
       "    </tr>\n",
       "    <tr>\n",
       "      <th>3</th>\n",
       "      <td>Gujarat</td>\n",
       "      <td>Banaskanth</td>\n",
       "      <td>Deesa</td>\n",
       "      <td>Wheat</td>\n",
       "      <td>Other</td>\n",
       "      <td>02/01/2024</td>\n",
       "      <td>2415</td>\n",
       "      <td>2590</td>\n",
       "      <td>2500.0</td>\n",
       "      <td>2024-01-02</td>\n",
       "    </tr>\n",
       "    <tr>\n",
       "      <th>4</th>\n",
       "      <td>Gujarat</td>\n",
       "      <td>Banaskanth</td>\n",
       "      <td>Dhanera</td>\n",
       "      <td>Wheat</td>\n",
       "      <td>Other</td>\n",
       "      <td>01/01/2024</td>\n",
       "      <td>2715</td>\n",
       "      <td>2715</td>\n",
       "      <td>2715.0</td>\n",
       "      <td>2024-01-02</td>\n",
       "    </tr>\n",
       "  </tbody>\n",
       "</table>\n",
       "</div>"
      ],
      "text/plain": [
       "     state     district                  market commodity        variety  \\\n",
       "0    Bihar  Muzaffarpur             Muzaffarpur     Wheat    147 Average   \n",
       "1  Gujarat       Amreli                Bagasara     Wheat  Lokwan Gujrat   \n",
       "2  Gujarat        Anand  Khambhat(Grain Market)     Wheat          Other   \n",
       "3  Gujarat   Banaskanth                   Deesa     Wheat          Other   \n",
       "4  Gujarat   Banaskanth                 Dhanera     Wheat          Other   \n",
       "\n",
       "  arrival_date  min_price  max_price  modal_price update_date  \n",
       "0   01/01/2024       2500       2590       2550.0  2024-01-02  \n",
       "1   02/01/2024       2370       2700       2535.0  2024-01-02  \n",
       "2   02/01/2024       2000       2550       2250.0  2024-01-02  \n",
       "3   02/01/2024       2415       2590       2500.0  2024-01-02  \n",
       "4   01/01/2024       2715       2715       2715.0  2024-01-02  "
      ]
     },
     "execution_count": 89,
     "metadata": {},
     "output_type": "execute_result"
    }
   ],
   "source": [
    "df.head()"
   ]
  },
  {
   "cell_type": "code",
   "execution_count": 90,
   "id": "b03b59bd",
   "metadata": {},
   "outputs": [
    {
     "data": {
      "text/plain": [
       "array(['147 Average', 'Lokwan Gujrat', 'Other', 'Lokwan', 'Deshi',\n",
       "       'Hybrid', 'Sharbati', 'PBW-373', 'Local', 'Medium', 'Mexican',\n",
       "       'Red', 'Sona', 'Jawari', 'Super Fine', 'Mill Quality',\n",
       "       'Maharashtra 2189', 'Kalyan', 'Dara', 'Sonalika'], dtype=object)"
      ]
     },
     "execution_count": 90,
     "metadata": {},
     "output_type": "execute_result"
    }
   ],
   "source": [
    "df[\"variety\"].unique()"
   ]
  },
  {
   "cell_type": "markdown",
   "id": "70691fef",
   "metadata": {},
   "source": [
    "there are many unique values in our data so lets find the frequecy disrtibution of the variety column"
   ]
  },
  {
   "cell_type": "code",
   "execution_count": 91,
   "id": "6e4ecb66",
   "metadata": {},
   "outputs": [
    {
     "data": {
      "text/plain": [
       "variety\n",
       "Dara                181\n",
       "Other                85\n",
       "Mill Quality         39\n",
       "Lokwan               22\n",
       "Sharbati             15\n",
       "Maharashtra 2189     12\n",
       "Sonalika              5\n",
       "Local                 4\n",
       "Lokwan Gujrat         4\n",
       "Hybrid                3\n",
       "Red                   2\n",
       "147 Average           2\n",
       "PBW-373               2\n",
       "Deshi                 2\n",
       "Sona                  1\n",
       "Jawari                1\n",
       "Super Fine            1\n",
       "Medium                1\n",
       "Kalyan                1\n",
       "Mexican               1\n",
       "Name: count, dtype: int64"
      ]
     },
     "execution_count": 91,
     "metadata": {},
     "output_type": "execute_result"
    }
   ],
   "source": [
    "df[\"variety\"].value_counts()"
   ]
  },
  {
   "cell_type": "markdown",
   "id": "af25510b",
   "metadata": {},
   "source": [
    " so lets see in the visualize form"
   ]
  },
  {
   "cell_type": "code",
   "execution_count": 92,
   "id": "0881d747",
   "metadata": {},
   "outputs": [
    {
     "data": {
      "text/plain": [
       "<Axes: xlabel='count', ylabel='variety'>"
      ]
     },
     "execution_count": 92,
     "metadata": {},
     "output_type": "execute_result"
    },
    {
     "data": {
      "image/png": "[encoded data removed]",
      "text/plain": [
       "<Figure size 1000x600 with 1 Axes>"
      ]
     },
     "metadata": {},
     "output_type": "display_data"
    }
   ],
   "source": [
    "plt.figure(figsize=(10 , 6))\n",
    "plt.style.use(\"fivethirtyeight\")\n",
    "sns.countplot(data = df , y = \"variety\",order = df[\"variety\"].value_counts(ascending=False).index)"
   ]
  },
  {
   "cell_type": "markdown",
   "id": "8ae276ad",
   "metadata": {},
   "source": [
    "Dara has the maximum count of 175 and mexican , kalyan , medium , super fine has the least of 0"
   ]
  },
  {
   "cell_type": "code",
   "execution_count": 93,
   "id": "efdc31c4",
   "metadata": {},
   "outputs": [
    {
     "data": {
      "text/plain": [
       "array(['01/01/2024', '02/01/2024'], dtype=object)"
      ]
     },
     "execution_count": 93,
     "metadata": {},
     "output_type": "execute_result"
    }
   ],
   "source": [
    "df[\"arrival_date\"].unique()"
   ]
  },
  {
   "cell_type": "code",
   "execution_count": 94,
   "id": "401ca4a5",
   "metadata": {},
   "outputs": [
    {
     "data": {
      "text/plain": [
       "arrival_date\n",
       "01/01/2024    254\n",
       "02/01/2024    130\n",
       "Name: count, dtype: int64"
      ]
     },
     "execution_count": 94,
     "metadata": {},
     "output_type": "execute_result"
    }
   ],
   "source": [
    "df[\"arrival_date\"].value_counts()"
   ]
  },
  {
   "cell_type": "code",
   "execution_count": 95,
   "id": "5ddee02d",
   "metadata": {},
   "outputs": [
    {
     "data": {
      "text/plain": [
       "<Axes: ylabel='count'>"
      ]
     },
     "execution_count": 95,
     "metadata": {},
     "output_type": "execute_result"
    },
    {
     "data": {
      "image/png": "[encoded data removed]",
      "text/plain": [
       "<Figure size 1000x500 with 1 Axes>"
      ]
     },
     "metadata": {},
     "output_type": "display_data"
    }
   ],
   "source": [
    "plt.figure(figsize=(10 , 5))\n",
    "plt.style.use(\"fivethirtyeight\")\n",
    "df[\"arrival_date\"].value_counts().plot(kind=\"pie\", autopct = '%1.1f%%')"
   ]
  },
  {
   "cell_type": "markdown",
   "id": "4811bcc9",
   "metadata": {},
   "source": [
    "we have more arrival date of 1 januaruy 2024 as compare to 2 january 2024"
   ]
  },
  {
   "cell_type": "code",
   "execution_count": 96,
   "id": "ea013d17",
   "metadata": {},
   "outputs": [
    {
     "data": {
      "text/plain": [
       "1750"
      ]
     },
     "execution_count": 96,
     "metadata": {},
     "output_type": "execute_result"
    }
   ],
   "source": [
    "df[\"min_price\"].min()"
   ]
  },
  {
   "cell_type": "code",
   "execution_count": 97,
   "id": "c97ec977",
   "metadata": {},
   "outputs": [
    {
     "data": {
      "text/plain": [
       "4701"
      ]
     },
     "execution_count": 97,
     "metadata": {},
     "output_type": "execute_result"
    }
   ],
   "source": [
    "df[\"min_price\"].max()"
   ]
  },
  {
   "cell_type": "code",
   "execution_count": 98,
   "id": "614c2630",
   "metadata": {},
   "outputs": [
    {
     "data": {
      "text/plain": [
       "2432.8463541666665"
      ]
     },
     "execution_count": 98,
     "metadata": {},
     "output_type": "execute_result"
    }
   ],
   "source": [
    "df[\"min_price\"].mean()"
   ]
  },
  {
   "cell_type": "code",
   "execution_count": 99,
   "id": "6822bf96",
   "metadata": {},
   "outputs": [
    {
     "name": "stderr",
     "output_type": "stream",
     "text": [
      "C:\\Users\\Training room4\\AppData\\Local\\Temp\\ipykernel_17304\\4077576844.py:3: UserWarning: \n",
      "\n",
      "`distplot` is a deprecated function and will be removed in seaborn v0.14.0.\n",
      "\n",
      "Please adapt your code to use either `displot` (a figure-level function with\n",
      "similar flexibility) or `histplot` (an axes-level function for histograms).\n",
      "\n",
      "For a guide to updating your code to use the new functions, please see\n",
      "https://gist.github.com/mwaskom/de44147ed2974457ad6372750bbe5751\n",
      "\n",
      "  sns.distplot(df[\"min_price\"])\n"
     ]
    },
    {
     "data": {
      "text/plain": [
       "<Axes: xlabel='min_price', ylabel='Density'>"
      ]
     },
     "execution_count": 99,
     "metadata": {},
     "output_type": "execute_result"
    },
    {
     "data": {
      "image/png": "[encoded data removed]",
      "text/plain": [
       "<Figure size 1000x400 with 1 Axes>"
      ]
     },
     "metadata": {},
     "output_type": "display_data"
    }
   ],
   "source": [
    "plt.figure(figsize=(10 , 4))\n",
    "plt.style.use(\"fivethirtyeight\")\n",
    "sns.distplot(df[\"min_price\"])"
   ]
  },
  {
   "cell_type": "markdown",
   "id": "154b506f",
   "metadata": {},
   "source": [
    "From the above observation we can see that min_price feature is normally distributed\n",
    "- The values varies from 2000 to 3000\n",
    "- min price value is 1750\n",
    "- min price value is 4701\n",
    "- mean price value is 2432\n",
    "- and the standar deviation is approx 236"
   ]
  },
  {
   "cell_type": "code",
   "execution_count": 100,
   "id": "033a4335",
   "metadata": {},
   "outputs": [
    {
     "data": {
      "text/plain": [
       "1850"
      ]
     },
     "execution_count": 100,
     "metadata": {},
     "output_type": "execute_result"
    }
   ],
   "source": [
    "df[\"max_price\"].min()"
   ]
  },
  {
   "cell_type": "code",
   "execution_count": 101,
   "id": "f54877fe",
   "metadata": {},
   "outputs": [
    {
     "data": {
      "text/plain": [
       "4701"
      ]
     },
     "execution_count": 101,
     "metadata": {},
     "output_type": "execute_result"
    }
   ],
   "source": [
    "df[\"max_price\"].max()"
   ]
  },
  {
   "cell_type": "code",
   "execution_count": 102,
   "id": "8315bae1",
   "metadata": {},
   "outputs": [
    {
     "data": {
      "text/plain": [
       "2630.6432291666665"
      ]
     },
     "execution_count": 102,
     "metadata": {},
     "output_type": "execute_result"
    }
   ],
   "source": [
    "df[\"max_price\"].mean()"
   ]
  },
  {
   "cell_type": "code",
   "execution_count": 103,
   "id": "4e521b30",
   "metadata": {},
   "outputs": [
    {
     "data": {
      "text/plain": [
       "327.75220740363125"
      ]
     },
     "execution_count": 103,
     "metadata": {},
     "output_type": "execute_result"
    }
   ],
   "source": [
    "df[\"max_price\"].std()"
   ]
  },
  {
   "cell_type": "code",
   "execution_count": 104,
   "id": "766abda4",
   "metadata": {},
   "outputs": [
    {
     "name": "stderr",
     "output_type": "stream",
     "text": [
      "C:\\Users\\Training room4\\AppData\\Local\\Temp\\ipykernel_17304\\4167200150.py:3: UserWarning: \n",
      "\n",
      "`distplot` is a deprecated function and will be removed in seaborn v0.14.0.\n",
      "\n",
      "Please adapt your code to use either `displot` (a figure-level function with\n",
      "similar flexibility) or `histplot` (an axes-level function for histograms).\n",
      "\n",
      "For a guide to updating your code to use the new functions, please see\n",
      "https://gist.github.com/mwaskom/de44147ed2974457ad6372750bbe5751\n",
      "\n",
      "  sns.distplot(df[\"max_price\"])\n"
     ]
    },
    {
     "data": {
      "text/plain": [
       "<Axes: xlabel='max_price', ylabel='Density'>"
      ]
     },
     "execution_count": 104,
     "metadata": {},
     "output_type": "execute_result"
    },
    {
     "data": {
      "image/png": "[encoded data removed]",
      "text/plain": [
       "<Figure size 1000x400 with 1 Axes>"
      ]
     },
     "metadata": {},
     "output_type": "display_data"
    }
   ],
   "source": [
    "plt.figure(figsize=(10 , 4))\n",
    "plt.style.use(\"fivethirtyeight\")\n",
    "sns.distplot(df[\"max_price\"])"
   ]
  },
  {
   "cell_type": "markdown",
   "id": "b2242da6",
   "metadata": {},
   "source": [
    "from the above observation we can see that our max-price feature is right skewed distributed\n",
    "from the above observation we can see that modalprice feature is also normal distrubuted \n",
    "- min price value is 1850\n",
    "- max price value is 4701\n",
    "- mean of max price is 2630\n",
    "- and the standar deviation is approx 327"
   ]
  },
  {
   "cell_type": "code",
   "execution_count": 105,
   "id": "f93eb1ef",
   "metadata": {},
   "outputs": [
    {
     "data": {
      "text/html": [
       "<div>\n",
       "<style scoped>\n",
       "    .dataframe tbody tr th:only-of-type {\n",
       "        vertical-align: middle;\n",
       "    }\n",
       "\n",
       "    .dataframe tbody tr th {\n",
       "        vertical-align: top;\n",
       "    }\n",
       "\n",
       "    .dataframe thead th {\n",
       "        text-align: right;\n",
       "    }\n",
       "</style>\n",
       "<table border=\"1\" class=\"dataframe\">\n",
       "  <thead>\n",
       "    <tr style=\"text-align: right;\">\n",
       "      <th></th>\n",
       "      <th>state</th>\n",
       "      <th>district</th>\n",
       "      <th>market</th>\n",
       "      <th>commodity</th>\n",
       "      <th>variety</th>\n",
       "      <th>arrival_date</th>\n",
       "      <th>min_price</th>\n",
       "      <th>max_price</th>\n",
       "      <th>modal_price</th>\n",
       "      <th>update_date</th>\n",
       "    </tr>\n",
       "  </thead>\n",
       "  <tbody>\n",
       "    <tr>\n",
       "      <th>0</th>\n",
       "      <td>Bihar</td>\n",
       "      <td>Muzaffarpur</td>\n",
       "      <td>Muzaffarpur</td>\n",
       "      <td>Wheat</td>\n",
       "      <td>147 Average</td>\n",
       "      <td>01/01/2024</td>\n",
       "      <td>2500</td>\n",
       "      <td>2590</td>\n",
       "      <td>2550.0</td>\n",
       "      <td>2024-01-02</td>\n",
       "    </tr>\n",
       "    <tr>\n",
       "      <th>1</th>\n",
       "      <td>Gujarat</td>\n",
       "      <td>Amreli</td>\n",
       "      <td>Bagasara</td>\n",
       "      <td>Wheat</td>\n",
       "      <td>Lokwan Gujrat</td>\n",
       "      <td>02/01/2024</td>\n",
       "      <td>2370</td>\n",
       "      <td>2700</td>\n",
       "      <td>2535.0</td>\n",
       "      <td>2024-01-02</td>\n",
       "    </tr>\n",
       "    <tr>\n",
       "      <th>2</th>\n",
       "      <td>Gujarat</td>\n",
       "      <td>Anand</td>\n",
       "      <td>Khambhat(Grain Market)</td>\n",
       "      <td>Wheat</td>\n",
       "      <td>Other</td>\n",
       "      <td>02/01/2024</td>\n",
       "      <td>2000</td>\n",
       "      <td>2550</td>\n",
       "      <td>2250.0</td>\n",
       "      <td>2024-01-02</td>\n",
       "    </tr>\n",
       "    <tr>\n",
       "      <th>3</th>\n",
       "      <td>Gujarat</td>\n",
       "      <td>Banaskanth</td>\n",
       "      <td>Deesa</td>\n",
       "      <td>Wheat</td>\n",
       "      <td>Other</td>\n",
       "      <td>02/01/2024</td>\n",
       "      <td>2415</td>\n",
       "      <td>2590</td>\n",
       "      <td>2500.0</td>\n",
       "      <td>2024-01-02</td>\n",
       "    </tr>\n",
       "    <tr>\n",
       "      <th>4</th>\n",
       "      <td>Gujarat</td>\n",
       "      <td>Banaskanth</td>\n",
       "      <td>Dhanera</td>\n",
       "      <td>Wheat</td>\n",
       "      <td>Other</td>\n",
       "      <td>01/01/2024</td>\n",
       "      <td>2715</td>\n",
       "      <td>2715</td>\n",
       "      <td>2715.0</td>\n",
       "      <td>2024-01-02</td>\n",
       "    </tr>\n",
       "  </tbody>\n",
       "</table>\n",
       "</div>"
      ],
      "text/plain": [
       "     state     district                  market commodity        variety  \\\n",
       "0    Bihar  Muzaffarpur             Muzaffarpur     Wheat    147 Average   \n",
       "1  Gujarat       Amreli                Bagasara     Wheat  Lokwan Gujrat   \n",
       "2  Gujarat        Anand  Khambhat(Grain Market)     Wheat          Other   \n",
       "3  Gujarat   Banaskanth                   Deesa     Wheat          Other   \n",
       "4  Gujarat   Banaskanth                 Dhanera     Wheat          Other   \n",
       "\n",
       "  arrival_date  min_price  max_price  modal_price update_date  \n",
       "0   01/01/2024       2500       2590       2550.0  2024-01-02  \n",
       "1   02/01/2024       2370       2700       2535.0  2024-01-02  \n",
       "2   02/01/2024       2000       2550       2250.0  2024-01-02  \n",
       "3   02/01/2024       2415       2590       2500.0  2024-01-02  \n",
       "4   01/01/2024       2715       2715       2715.0  2024-01-02  "
      ]
     },
     "execution_count": 105,
     "metadata": {},
     "output_type": "execute_result"
    }
   ],
   "source": [
    "df.head()"
   ]
  },
  {
   "cell_type": "code",
   "execution_count": 106,
   "id": "caa8c8c5",
   "metadata": {},
   "outputs": [
    {
     "data": {
      "text/plain": [
       "1800.0"
      ]
     },
     "execution_count": 106,
     "metadata": {},
     "output_type": "execute_result"
    }
   ],
   "source": [
    "df[\"modal_price\"].min()"
   ]
  },
  {
   "cell_type": "code",
   "execution_count": 107,
   "id": "733d296e",
   "metadata": {},
   "outputs": [
    {
     "data": {
      "text/plain": [
       "4100.0"
      ]
     },
     "execution_count": 107,
     "metadata": {},
     "output_type": "execute_result"
    }
   ],
   "source": [
    "df[\"modal_price\"].max()"
   ]
  },
  {
   "cell_type": "code",
   "execution_count": 108,
   "id": "e0f20de3",
   "metadata": {},
   "outputs": [
    {
     "data": {
      "text/plain": [
       "235.9559059191298"
      ]
     },
     "execution_count": 108,
     "metadata": {},
     "output_type": "execute_result"
    }
   ],
   "source": [
    "df[\"modal_price\"].std()"
   ]
  },
  {
   "cell_type": "code",
   "execution_count": 109,
   "id": "35178367",
   "metadata": {},
   "outputs": [
    {
     "name": "stderr",
     "output_type": "stream",
     "text": [
      "C:\\Users\\Training room4\\AppData\\Local\\Temp\\ipykernel_17304\\4217085357.py:3: UserWarning: \n",
      "\n",
      "`distplot` is a deprecated function and will be removed in seaborn v0.14.0.\n",
      "\n",
      "Please adapt your code to use either `displot` (a figure-level function with\n",
      "similar flexibility) or `histplot` (an axes-level function for histograms).\n",
      "\n",
      "For a guide to updating your code to use the new functions, please see\n",
      "https://gist.github.com/mwaskom/de44147ed2974457ad6372750bbe5751\n",
      "\n",
      "  sns.distplot(df[\"modal_price\"])\n"
     ]
    },
    {
     "data": {
      "text/plain": [
       "<Axes: xlabel='modal_price', ylabel='Density'>"
      ]
     },
     "execution_count": 109,
     "metadata": {},
     "output_type": "execute_result"
    },
    {
     "data": {
      "image/png": "[encoded data removed]",
      "text/plain": [
       "<Figure size 1000x400 with 1 Axes>"
      ]
     },
     "metadata": {},
     "output_type": "display_data"
    }
   ],
   "source": [
    "plt.figure(figsize=(10 , 4))\n",
    "plt.style.use(\"fivethirtyeight\")\n",
    "sns.distplot(df[\"modal_price\"])"
   ]
  },
  {
   "cell_type": "markdown",
   "id": "fbf417ba",
   "metadata": {},
   "source": [
    "from the above observation we can see that modalprice feature is also normal distrubuted \n",
    "- min model price value is 1800\n",
    "- max modal price value is 4100\n",
    "- and the standar deviation is approx 236"
   ]
  },
  {
   "cell_type": "code",
   "execution_count": 110,
   "id": "8bc6932b",
   "metadata": {},
   "outputs": [
    {
     "data": {
      "text/plain": [
       "array(['2024-01-02'], dtype=object)"
      ]
     },
     "execution_count": 110,
     "metadata": {},
     "output_type": "execute_result"
    }
   ],
   "source": [
    "# checking the last update date column\n",
    "df[\"update_date\"].unique()"
   ]
  },
  {
   "cell_type": "markdown",
   "id": "3cf28b19",
   "metadata": {},
   "source": [
    "so there is only one unique value is present in our data set"
   ]
  },
  {
   "cell_type": "code",
   "execution_count": 111,
   "id": "93788830",
   "metadata": {},
   "outputs": [
    {
     "data": {
      "text/html": [
       "<div>\n",
       "<style scoped>\n",
       "    .dataframe tbody tr th:only-of-type {\n",
       "        vertical-align: middle;\n",
       "    }\n",
       "\n",
       "    .dataframe tbody tr th {\n",
       "        vertical-align: top;\n",
       "    }\n",
       "\n",
       "    .dataframe thead th {\n",
       "        text-align: right;\n",
       "    }\n",
       "</style>\n",
       "<table border=\"1\" class=\"dataframe\">\n",
       "  <thead>\n",
       "    <tr style=\"text-align: right;\">\n",
       "      <th></th>\n",
       "      <th>state</th>\n",
       "      <th>district</th>\n",
       "      <th>market</th>\n",
       "      <th>commodity</th>\n",
       "      <th>variety</th>\n",
       "      <th>arrival_date</th>\n",
       "      <th>min_price</th>\n",
       "      <th>max_price</th>\n",
       "      <th>modal_price</th>\n",
       "      <th>update_date</th>\n",
       "    </tr>\n",
       "  </thead>\n",
       "  <tbody>\n",
       "    <tr>\n",
       "      <th>0</th>\n",
       "      <td>Bihar</td>\n",
       "      <td>Muzaffarpur</td>\n",
       "      <td>Muzaffarpur</td>\n",
       "      <td>Wheat</td>\n",
       "      <td>147 Average</td>\n",
       "      <td>01/01/2024</td>\n",
       "      <td>2500</td>\n",
       "      <td>2590</td>\n",
       "      <td>2550.0</td>\n",
       "      <td>2024-01-02</td>\n",
       "    </tr>\n",
       "    <tr>\n",
       "      <th>1</th>\n",
       "      <td>Gujarat</td>\n",
       "      <td>Amreli</td>\n",
       "      <td>Bagasara</td>\n",
       "      <td>Wheat</td>\n",
       "      <td>Lokwan Gujrat</td>\n",
       "      <td>02/01/2024</td>\n",
       "      <td>2370</td>\n",
       "      <td>2700</td>\n",
       "      <td>2535.0</td>\n",
       "      <td>2024-01-02</td>\n",
       "    </tr>\n",
       "    <tr>\n",
       "      <th>2</th>\n",
       "      <td>Gujarat</td>\n",
       "      <td>Anand</td>\n",
       "      <td>Khambhat(Grain Market)</td>\n",
       "      <td>Wheat</td>\n",
       "      <td>Other</td>\n",
       "      <td>02/01/2024</td>\n",
       "      <td>2000</td>\n",
       "      <td>2550</td>\n",
       "      <td>2250.0</td>\n",
       "      <td>2024-01-02</td>\n",
       "    </tr>\n",
       "    <tr>\n",
       "      <th>3</th>\n",
       "      <td>Gujarat</td>\n",
       "      <td>Banaskanth</td>\n",
       "      <td>Deesa</td>\n",
       "      <td>Wheat</td>\n",
       "      <td>Other</td>\n",
       "      <td>02/01/2024</td>\n",
       "      <td>2415</td>\n",
       "      <td>2590</td>\n",
       "      <td>2500.0</td>\n",
       "      <td>2024-01-02</td>\n",
       "    </tr>\n",
       "    <tr>\n",
       "      <th>4</th>\n",
       "      <td>Gujarat</td>\n",
       "      <td>Banaskanth</td>\n",
       "      <td>Dhanera</td>\n",
       "      <td>Wheat</td>\n",
       "      <td>Other</td>\n",
       "      <td>01/01/2024</td>\n",
       "      <td>2715</td>\n",
       "      <td>2715</td>\n",
       "      <td>2715.0</td>\n",
       "      <td>2024-01-02</td>\n",
       "    </tr>\n",
       "  </tbody>\n",
       "</table>\n",
       "</div>"
      ],
      "text/plain": [
       "     state     district                  market commodity        variety  \\\n",
       "0    Bihar  Muzaffarpur             Muzaffarpur     Wheat    147 Average   \n",
       "1  Gujarat       Amreli                Bagasara     Wheat  Lokwan Gujrat   \n",
       "2  Gujarat        Anand  Khambhat(Grain Market)     Wheat          Other   \n",
       "3  Gujarat   Banaskanth                   Deesa     Wheat          Other   \n",
       "4  Gujarat   Banaskanth                 Dhanera     Wheat          Other   \n",
       "\n",
       "  arrival_date  min_price  max_price  modal_price update_date  \n",
       "0   01/01/2024       2500       2590       2550.0  2024-01-02  \n",
       "1   02/01/2024       2370       2700       2535.0  2024-01-02  \n",
       "2   02/01/2024       2000       2550       2250.0  2024-01-02  \n",
       "3   02/01/2024       2415       2590       2500.0  2024-01-02  \n",
       "4   01/01/2024       2715       2715       2715.0  2024-01-02  "
      ]
     },
     "execution_count": 111,
     "metadata": {},
     "output_type": "execute_result"
    }
   ],
   "source": [
    "df.head()"
   ]
  },
  {
   "cell_type": "markdown",
   "id": "42a6cf5e",
   "metadata": {},
   "source": [
    "### Lets check if any outlier are their in our data set"
   ]
  },
  {
   "cell_type": "code",
   "execution_count": 112,
   "id": "d08ebbbf",
   "metadata": {},
   "outputs": [
    {
     "data": {
      "text/plain": [
       "<Axes: >"
      ]
     },
     "execution_count": 112,
     "metadata": {},
     "output_type": "execute_result"
    },
    {
     "data": {
      "image/png": "[encoded data removed]",
      "text/plain": [
       "<Figure size 1000x500 with 1 Axes>"
      ]
     },
     "metadata": {},
     "output_type": "display_data"
    }
   ],
   "source": [
    "# box plot\n",
    "plt.figure(figsize=(10 ,5))\n",
    "plt.style.use(\"fivethirtyeight\")\n",
    "sns.boxplot(df)"
   ]
  },
  {
   "cell_type": "markdown",
   "id": "f451aec2",
   "metadata": {},
   "source": [
    "from the above execution we can see that there are many outlier in our min price , max price and modal price column\n",
    "- so we have to handle it in feature engineering"
   ]
  },
  {
   "cell_type": "code",
   "execution_count": 138,
   "id": "414448e3",
   "metadata": {},
   "outputs": [
    {
     "data": {
      "text/plain": [
       "<Axes: xlabel='modal_price', ylabel='variety'>"
      ]
     },
     "execution_count": 138,
     "metadata": {},
     "output_type": "execute_result"
    },
    {
     "data": {
      "image/png": "[encoded data removed]",
      "text/plain": [
       "<Figure size 1300x800 with 1 Axes>"
      ]
     },
     "metadata": {},
     "output_type": "display_data"
    }
   ],
   "source": [
    "plt.style.use(\"fivethirtyeight\")\n",
    "plt.figure(figsize=(13,8))\n",
    "sns.barplot(y = df.variety ,x = df.modal_price)"
   ]
  },
  {
   "cell_type": "code",
   "execution_count": 139,
   "id": "48e9defe",
   "metadata": {},
   "outputs": [
    {
     "data": {
      "text/plain": [
       "<Axes: xlabel='state', ylabel='modal_price'>"
      ]
     },
     "execution_count": 139,
     "metadata": {},
     "output_type": "execute_result"
    },
    {
     "data": {
      "image/png": "[encoded data removed]",
      "text/plain": [
       "<Figure size 1300x800 with 1 Axes>"
      ]
     },
     "metadata": {},
     "output_type": "display_data"
    }
   ],
   "source": [
    "plt.style.use(\"fivethirtyeight\")\n",
    "plt.figure(figsize=(13,8))\n",
    "sns.barplot(x = df.state ,y = df.modal_price)"
   ]
  },
  {
   "cell_type": "markdown",
   "id": "2168c8e3",
   "metadata": {},
   "source": [
    "### Feature Engineering"
   ]
  },
  {
   "cell_type": "code",
   "execution_count": 114,
   "id": "d009e4f8",
   "metadata": {},
   "outputs": [
    {
     "data": {
      "text/html": [
       "<div>\n",
       "<style scoped>\n",
       "    .dataframe tbody tr th:only-of-type {\n",
       "        vertical-align: middle;\n",
       "    }\n",
       "\n",
       "    .dataframe tbody tr th {\n",
       "        vertical-align: top;\n",
       "    }\n",
       "\n",
       "    .dataframe thead th {\n",
       "        text-align: right;\n",
       "    }\n",
       "</style>\n",
       "<table border=\"1\" class=\"dataframe\">\n",
       "  <thead>\n",
       "    <tr style=\"text-align: right;\">\n",
       "      <th></th>\n",
       "      <th>state</th>\n",
       "      <th>district</th>\n",
       "      <th>market</th>\n",
       "      <th>commodity</th>\n",
       "      <th>variety</th>\n",
       "      <th>arrival_date</th>\n",
       "      <th>min_price</th>\n",
       "      <th>max_price</th>\n",
       "      <th>modal_price</th>\n",
       "      <th>update_date</th>\n",
       "    </tr>\n",
       "  </thead>\n",
       "  <tbody>\n",
       "    <tr>\n",
       "      <th>0</th>\n",
       "      <td>Bihar</td>\n",
       "      <td>Muzaffarpur</td>\n",
       "      <td>Muzaffarpur</td>\n",
       "      <td>Wheat</td>\n",
       "      <td>147 Average</td>\n",
       "      <td>01/01/2024</td>\n",
       "      <td>2500</td>\n",
       "      <td>2590</td>\n",
       "      <td>2550.0</td>\n",
       "      <td>2024-01-02</td>\n",
       "    </tr>\n",
       "    <tr>\n",
       "      <th>1</th>\n",
       "      <td>Gujarat</td>\n",
       "      <td>Amreli</td>\n",
       "      <td>Bagasara</td>\n",
       "      <td>Wheat</td>\n",
       "      <td>Lokwan Gujrat</td>\n",
       "      <td>02/01/2024</td>\n",
       "      <td>2370</td>\n",
       "      <td>2700</td>\n",
       "      <td>2535.0</td>\n",
       "      <td>2024-01-02</td>\n",
       "    </tr>\n",
       "    <tr>\n",
       "      <th>2</th>\n",
       "      <td>Gujarat</td>\n",
       "      <td>Anand</td>\n",
       "      <td>Khambhat(Grain Market)</td>\n",
       "      <td>Wheat</td>\n",
       "      <td>Other</td>\n",
       "      <td>02/01/2024</td>\n",
       "      <td>2000</td>\n",
       "      <td>2550</td>\n",
       "      <td>2250.0</td>\n",
       "      <td>2024-01-02</td>\n",
       "    </tr>\n",
       "    <tr>\n",
       "      <th>3</th>\n",
       "      <td>Gujarat</td>\n",
       "      <td>Banaskanth</td>\n",
       "      <td>Deesa</td>\n",
       "      <td>Wheat</td>\n",
       "      <td>Other</td>\n",
       "      <td>02/01/2024</td>\n",
       "      <td>2415</td>\n",
       "      <td>2590</td>\n",
       "      <td>2500.0</td>\n",
       "      <td>2024-01-02</td>\n",
       "    </tr>\n",
       "    <tr>\n",
       "      <th>4</th>\n",
       "      <td>Gujarat</td>\n",
       "      <td>Banaskanth</td>\n",
       "      <td>Dhanera</td>\n",
       "      <td>Wheat</td>\n",
       "      <td>Other</td>\n",
       "      <td>01/01/2024</td>\n",
       "      <td>2715</td>\n",
       "      <td>2715</td>\n",
       "      <td>2715.0</td>\n",
       "      <td>2024-01-02</td>\n",
       "    </tr>\n",
       "  </tbody>\n",
       "</table>\n",
       "</div>"
      ],
      "text/plain": [
       "     state     district                  market commodity        variety  \\\n",
       "0    Bihar  Muzaffarpur             Muzaffarpur     Wheat    147 Average   \n",
       "1  Gujarat       Amreli                Bagasara     Wheat  Lokwan Gujrat   \n",
       "2  Gujarat        Anand  Khambhat(Grain Market)     Wheat          Other   \n",
       "3  Gujarat   Banaskanth                   Deesa     Wheat          Other   \n",
       "4  Gujarat   Banaskanth                 Dhanera     Wheat          Other   \n",
       "\n",
       "  arrival_date  min_price  max_price  modal_price update_date  \n",
       "0   01/01/2024       2500       2590       2550.0  2024-01-02  \n",
       "1   02/01/2024       2370       2700       2535.0  2024-01-02  \n",
       "2   02/01/2024       2000       2550       2250.0  2024-01-02  \n",
       "3   02/01/2024       2415       2590       2500.0  2024-01-02  \n",
       "4   01/01/2024       2715       2715       2715.0  2024-01-02  "
      ]
     },
     "execution_count": 114,
     "metadata": {},
     "output_type": "execute_result"
    }
   ],
   "source": [
    "df.head()"
   ]
  },
  {
   "cell_type": "code",
   "execution_count": 117,
   "id": "d2e690b3",
   "metadata": {},
   "outputs": [],
   "source": [
    "df[\"arrival_date\"] = pd.to_datetime(df[\"arrival_date\"], format='%d/%m/%Y')"
   ]
  },
  {
   "cell_type": "code",
   "execution_count": 118,
   "id": "2bd0cd82",
   "metadata": {},
   "outputs": [
    {
     "data": {
      "text/html": [
       "<div>\n",
       "<style scoped>\n",
       "    .dataframe tbody tr th:only-of-type {\n",
       "        vertical-align: middle;\n",
       "    }\n",
       "\n",
       "    .dataframe tbody tr th {\n",
       "        vertical-align: top;\n",
       "    }\n",
       "\n",
       "    .dataframe thead th {\n",
       "        text-align: right;\n",
       "    }\n",
       "</style>\n",
       "<table border=\"1\" class=\"dataframe\">\n",
       "  <thead>\n",
       "    <tr style=\"text-align: right;\">\n",
       "      <th></th>\n",
       "      <th>state</th>\n",
       "      <th>district</th>\n",
       "      <th>market</th>\n",
       "      <th>commodity</th>\n",
       "      <th>variety</th>\n",
       "      <th>arrival_date</th>\n",
       "      <th>min_price</th>\n",
       "      <th>max_price</th>\n",
       "      <th>modal_price</th>\n",
       "      <th>update_date</th>\n",
       "    </tr>\n",
       "  </thead>\n",
       "  <tbody>\n",
       "    <tr>\n",
       "      <th>0</th>\n",
       "      <td>Bihar</td>\n",
       "      <td>Muzaffarpur</td>\n",
       "      <td>Muzaffarpur</td>\n",
       "      <td>Wheat</td>\n",
       "      <td>147 Average</td>\n",
       "      <td>2024-01-01</td>\n",
       "      <td>2500</td>\n",
       "      <td>2590</td>\n",
       "      <td>2550.0</td>\n",
       "      <td>2024-01-02</td>\n",
       "    </tr>\n",
       "    <tr>\n",
       "      <th>1</th>\n",
       "      <td>Gujarat</td>\n",
       "      <td>Amreli</td>\n",
       "      <td>Bagasara</td>\n",
       "      <td>Wheat</td>\n",
       "      <td>Lokwan Gujrat</td>\n",
       "      <td>2024-01-02</td>\n",
       "      <td>2370</td>\n",
       "      <td>2700</td>\n",
       "      <td>2535.0</td>\n",
       "      <td>2024-01-02</td>\n",
       "    </tr>\n",
       "    <tr>\n",
       "      <th>2</th>\n",
       "      <td>Gujarat</td>\n",
       "      <td>Anand</td>\n",
       "      <td>Khambhat(Grain Market)</td>\n",
       "      <td>Wheat</td>\n",
       "      <td>Other</td>\n",
       "      <td>2024-01-02</td>\n",
       "      <td>2000</td>\n",
       "      <td>2550</td>\n",
       "      <td>2250.0</td>\n",
       "      <td>2024-01-02</td>\n",
       "    </tr>\n",
       "    <tr>\n",
       "      <th>3</th>\n",
       "      <td>Gujarat</td>\n",
       "      <td>Banaskanth</td>\n",
       "      <td>Deesa</td>\n",
       "      <td>Wheat</td>\n",
       "      <td>Other</td>\n",
       "      <td>2024-01-02</td>\n",
       "      <td>2415</td>\n",
       "      <td>2590</td>\n",
       "      <td>2500.0</td>\n",
       "      <td>2024-01-02</td>\n",
       "    </tr>\n",
       "    <tr>\n",
       "      <th>4</th>\n",
       "      <td>Gujarat</td>\n",
       "      <td>Banaskanth</td>\n",
       "      <td>Dhanera</td>\n",
       "      <td>Wheat</td>\n",
       "      <td>Other</td>\n",
       "      <td>2024-01-01</td>\n",
       "      <td>2715</td>\n",
       "      <td>2715</td>\n",
       "      <td>2715.0</td>\n",
       "      <td>2024-01-02</td>\n",
       "    </tr>\n",
       "  </tbody>\n",
       "</table>\n",
       "</div>"
      ],
      "text/plain": [
       "     state     district                  market commodity        variety  \\\n",
       "0    Bihar  Muzaffarpur             Muzaffarpur     Wheat    147 Average   \n",
       "1  Gujarat       Amreli                Bagasara     Wheat  Lokwan Gujrat   \n",
       "2  Gujarat        Anand  Khambhat(Grain Market)     Wheat          Other   \n",
       "3  Gujarat   Banaskanth                   Deesa     Wheat          Other   \n",
       "4  Gujarat   Banaskanth                 Dhanera     Wheat          Other   \n",
       "\n",
       "  arrival_date  min_price  max_price  modal_price update_date  \n",
       "0   2024-01-01       2500       2590       2550.0  2024-01-02  \n",
       "1   2024-01-02       2370       2700       2535.0  2024-01-02  \n",
       "2   2024-01-02       2000       2550       2250.0  2024-01-02  \n",
       "3   2024-01-02       2415       2590       2500.0  2024-01-02  \n",
       "4   2024-01-01       2715       2715       2715.0  2024-01-02  "
      ]
     },
     "execution_count": 118,
     "metadata": {},
     "output_type": "execute_result"
    }
   ],
   "source": [
    "df.head()"
   ]
  },
  {
   "cell_type": "code",
   "execution_count": 136,
   "id": "61d27195",
   "metadata": {},
   "outputs": [],
   "source": [
    "df.drop([\"market\", \"district\", \"commodity\", \"update_date\"], axis=1 , inplace=True)"
   ]
  },
  {
   "cell_type": "code",
   "execution_count": 137,
   "id": "29d45234",
   "metadata": {},
   "outputs": [
    {
     "data": {
      "text/html": [
       "<div>\n",
       "<style scoped>\n",
       "    .dataframe tbody tr th:only-of-type {\n",
       "        vertical-align: middle;\n",
       "    }\n",
       "\n",
       "    .dataframe tbody tr th {\n",
       "        vertical-align: top;\n",
       "    }\n",
       "\n",
       "    .dataframe thead th {\n",
       "        text-align: right;\n",
       "    }\n",
       "</style>\n",
       "<table border=\"1\" class=\"dataframe\">\n",
       "  <thead>\n",
       "    <tr style=\"text-align: right;\">\n",
       "      <th></th>\n",
       "      <th>state</th>\n",
       "      <th>variety</th>\n",
       "      <th>arrival_date</th>\n",
       "      <th>min_price</th>\n",
       "      <th>max_price</th>\n",
       "      <th>modal_price</th>\n",
       "    </tr>\n",
       "  </thead>\n",
       "  <tbody>\n",
       "    <tr>\n",
       "      <th>0</th>\n",
       "      <td>Bihar</td>\n",
       "      <td>147 Average</td>\n",
       "      <td>2024-01-01</td>\n",
       "      <td>2500</td>\n",
       "      <td>2590</td>\n",
       "      <td>2550.0</td>\n",
       "    </tr>\n",
       "    <tr>\n",
       "      <th>1</th>\n",
       "      <td>Gujarat</td>\n",
       "      <td>Lokwan Gujrat</td>\n",
       "      <td>2024-01-02</td>\n",
       "      <td>2370</td>\n",
       "      <td>2700</td>\n",
       "      <td>2535.0</td>\n",
       "    </tr>\n",
       "    <tr>\n",
       "      <th>2</th>\n",
       "      <td>Gujarat</td>\n",
       "      <td>Other</td>\n",
       "      <td>2024-01-02</td>\n",
       "      <td>2000</td>\n",
       "      <td>2550</td>\n",
       "      <td>2250.0</td>\n",
       "    </tr>\n",
       "    <tr>\n",
       "      <th>3</th>\n",
       "      <td>Gujarat</td>\n",
       "      <td>Other</td>\n",
       "      <td>2024-01-02</td>\n",
       "      <td>2415</td>\n",
       "      <td>2590</td>\n",
       "      <td>2500.0</td>\n",
       "    </tr>\n",
       "    <tr>\n",
       "      <th>4</th>\n",
       "      <td>Gujarat</td>\n",
       "      <td>Other</td>\n",
       "      <td>2024-01-01</td>\n",
       "      <td>2715</td>\n",
       "      <td>2715</td>\n",
       "      <td>2715.0</td>\n",
       "    </tr>\n",
       "  </tbody>\n",
       "</table>\n",
       "</div>"
      ],
      "text/plain": [
       "     state        variety arrival_date  min_price  max_price  modal_price\n",
       "0    Bihar    147 Average   2024-01-01       2500       2590       2550.0\n",
       "1  Gujarat  Lokwan Gujrat   2024-01-02       2370       2700       2535.0\n",
       "2  Gujarat          Other   2024-01-02       2000       2550       2250.0\n",
       "3  Gujarat          Other   2024-01-02       2415       2590       2500.0\n",
       "4  Gujarat          Other   2024-01-01       2715       2715       2715.0"
      ]
     },
     "execution_count": 137,
     "metadata": {},
     "output_type": "execute_result"
    }
   ],
   "source": [
    "df.head()"
   ]
  },
  {
   "cell_type": "markdown",
   "id": "9f57c874",
   "metadata": {},
   "source": [
    "### Outliers handling"
   ]
  },
  {
   "cell_type": "code",
   "execution_count": null,
   "id": "89e2d6f6",
   "metadata": {},
   "outputs": [],
   "source": [
    "max_thr//"
   ]
  },
  {
   "cell_type": "code",
   "execution_count": null,
   "id": "a86295cc",
   "metadata": {},
   "outputs": [],
   "source": []
  },
  {
   "cell_type": "code",
   "execution_count": null,
   "id": "c2f184dc",
   "metadata": {},
   "outputs": [],
   "source": []
  }
 ],
 "metadata": {
  "kernelspec": {
   "display_name": "Python 3 (ipykernel)",
   "language": "python",
   "name": "python3"
  },
  "language_info": {
   "codemirror_mode": {
    "name": "ipython",
    "version": 3
   },
   "file_extension": ".py",
   "mimetype": "text/x-python",
   "name": "python",
   "nbconvert_exporter": "python",
   "pygments_lexer": "ipython3",
   "version": "3.11.5"
  }
 },
 "nbformat": 4,
 "nbformat_minor": 5
}
